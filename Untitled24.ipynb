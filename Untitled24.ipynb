{
 "cells": [
  {
   "cell_type": "code",
   "execution_count": 1,
   "metadata": {
    "ExecuteTime": {
     "end_time": "2021-02-07T12:46:39.749105Z",
     "start_time": "2021-02-07T12:46:25.141242Z"
    }
   },
   "outputs": [],
   "source": [
    "import pandas as pd\n",
    "import numpy as np "
   ]
  },
  {
   "cell_type": "code",
   "execution_count": 2,
   "metadata": {
    "ExecuteTime": {
     "end_time": "2021-02-07T12:46:40.742774Z",
     "start_time": "2021-02-07T12:46:40.727863Z"
    }
   },
   "outputs": [],
   "source": [
    "from random import random"
   ]
  },
  {
   "cell_type": "code",
   "execution_count": 11,
   "metadata": {
    "ExecuteTime": {
     "end_time": "2021-02-07T12:55:35.722910Z",
     "start_time": "2021-02-07T12:55:35.706603Z"
    }
   },
   "outputs": [
    {
     "name": "stdout",
     "output_type": "stream",
     "text": [
      "0.7225107153156597\n",
      "0.7225107153156597\n"
     ]
    }
   ],
   "source": [
    "from random import random \n",
    "def fun(x=random()):\n",
    "    print(x)\n",
    "\n",
    "\n",
    "fun()\n",
    "fun()"
   ]
  },
  {
   "cell_type": "code",
   "execution_count": 9,
   "metadata": {
    "ExecuteTime": {
     "end_time": "2021-02-07T12:53:56.452797Z",
     "start_time": "2021-02-07T12:53:56.424107Z"
    }
   },
   "outputs": [
    {
     "ename": "ValueError",
     "evalue": "range() arg 3 must not be zero",
     "output_type": "error",
     "traceback": [
      "\u001b[1;31m---------------------------------------------------------------------------\u001b[0m",
      "\u001b[1;31mValueError\u001b[0m                                Traceback (most recent call last)",
      "\u001b[1;32m<ipython-input-9-7cd9645c202e>\u001b[0m in \u001b[0;36m<module>\u001b[1;34m\u001b[0m\n\u001b[1;32m----> 1\u001b[1;33m \u001b[0ml\u001b[0m \u001b[1;33m=\u001b[0m \u001b[0mlist\u001b[0m\u001b[1;33m(\u001b[0m\u001b[0mrange\u001b[0m\u001b[1;33m(\u001b[0m\u001b[1;36m1\u001b[0m\u001b[1;33m,\u001b[0m\u001b[1;36m0\u001b[0m\u001b[1;33m,\u001b[0m\u001b[1;36m0\u001b[0m\u001b[1;33m)\u001b[0m\u001b[1;33m)\u001b[0m\u001b[1;33m\u001b[0m\u001b[1;33m\u001b[0m\u001b[0m\n\u001b[0m\u001b[0;32m      2\u001b[0m \u001b[1;32mfor\u001b[0m \u001b[0mi\u001b[0m \u001b[1;32min\u001b[0m \u001b[0ml\u001b[0m\u001b[1;33m:\u001b[0m\u001b[1;33m\u001b[0m\u001b[1;33m\u001b[0m\u001b[0m\n\u001b[0;32m      3\u001b[0m     \u001b[0mprint\u001b[0m\u001b[1;33m(\u001b[0m\u001b[0mi\u001b[0m\u001b[1;33m)\u001b[0m\u001b[1;33m\u001b[0m\u001b[1;33m\u001b[0m\u001b[0m\n",
      "\u001b[1;31mValueError\u001b[0m: range() arg 3 must not be zero"
     ]
    }
   ],
   "source": [
    "l = list(range(1,0,0))\n",
    "for i in l:\n",
    "    print(i)"
   ]
  },
  {
   "cell_type": "code",
   "execution_count": 10,
   "metadata": {
    "ExecuteTime": {
     "end_time": "2021-02-07T12:54:40.032166Z",
     "start_time": "2021-02-07T12:54:40.016856Z"
    }
   },
   "outputs": [
    {
     "name": "stdout",
     "output_type": "stream",
     "text": [
      "False\n"
     ]
    }
   ],
   "source": [
    "def my_func(n):\n",
    "    if n<=0:\n",
    "        return false\n",
    "    return (n&(n-1))==0\n",
    "\n",
    "n=18\n",
    "\n",
    "if __name__==\"__main__\":\n",
    "    print(my_func(n))"
   ]
  },
  {
   "cell_type": "code",
   "execution_count": 7,
   "metadata": {
    "ExecuteTime": {
     "end_time": "2021-02-07T12:51:21.725456Z",
     "start_time": "2021-02-07T12:51:21.713083Z"
    }
   },
   "outputs": [
    {
     "name": "stdout",
     "output_type": "stream",
     "text": [
      "4 12\n"
     ]
    }
   ],
   "source": [
    "x=12\n",
    "def f1(a,b=x):\n",
    "    print(a,b)\n",
    "x=15\n",
    "f1(4)"
   ]
  },
  {
   "cell_type": "code",
   "execution_count": 8,
   "metadata": {
    "ExecuteTime": {
     "end_time": "2021-02-07T12:53:19.393396Z",
     "start_time": "2021-02-07T12:53:19.385406Z"
    }
   },
   "outputs": [
    {
     "name": "stdout",
     "output_type": "stream",
     "text": [
      "True False\n"
     ]
    }
   ],
   "source": [
    "def my_func():\n",
    "    s1=\"hello\"\n",
    "    s2=\"hello\"\n",
    "    \n",
    "    l1=[1,2]\n",
    "    l2=[1,2]\n",
    "    \n",
    "    return s1 is s2,l1 is l2\n",
    "\n",
    "if __name__==\"__main__\":\n",
    "    x,y=my_func()\n",
    "    print(x,y)"
   ]
  },
  {
   "cell_type": "code",
   "execution_count": 12,
   "metadata": {
    "ExecuteTime": {
     "end_time": "2021-02-07T12:56:21.285889Z",
     "start_time": "2021-02-07T12:56:21.274682Z"
    }
   },
   "outputs": [],
   "source": [
    "l = list"
   ]
  },
  {
   "cell_type": "code",
   "execution_count": 13,
   "metadata": {
    "ExecuteTime": {
     "end_time": "2021-02-07T12:57:09.114042Z",
     "start_time": "2021-02-07T12:57:09.105515Z"
    }
   },
   "outputs": [
    {
     "name": "stdout",
     "output_type": "stream",
     "text": [
      "a "
     ]
    }
   ],
   "source": [
    "x=\"abcdef\"\n",
    "i='a'\n",
    "while i in x:\n",
    "    x=x[1:]\n",
    "    print(i,end=\" \")"
   ]
  },
  {
   "cell_type": "code",
   "execution_count": 14,
   "metadata": {
    "ExecuteTime": {
     "end_time": "2021-02-07T12:58:43.548501Z",
     "start_time": "2021-02-07T12:58:43.528381Z"
    }
   },
   "outputs": [
    {
     "name": "stdout",
     "output_type": "stream",
     "text": [
      "[0, 1]\n"
     ]
    }
   ],
   "source": [
    "def my_func(num):\n",
    "    data=[0]\n",
    "    for i in range (1,num+1):\n",
    "        data.append(data[1>>1]+int(i&1))\n",
    "        return data\n",
    "    \n",
    "num =6\n",
    "print(my_func(num))\n",
    "    "
   ]
  },
  {
   "cell_type": "code",
   "execution_count": 21,
   "metadata": {
    "ExecuteTime": {
     "end_time": "2021-02-07T13:01:39.940437Z",
     "start_time": "2021-02-07T13:01:39.931445Z"
    }
   },
   "outputs": [],
   "source": [
    "\n",
    "def oddsums(n):\n",
    "    total=0\n",
    "    result=[]\n",
    "    for i in range (1,n+1):\n",
    "        odd=2*i-1\n",
    "        total=total+odd\n",
    "        result.append(total)\n",
    "        return result\n",
    "    \n",
    "\n",
    "   \n",
    "    "
   ]
  },
  {
   "cell_type": "code",
   "execution_count": 22,
   "metadata": {
    "ExecuteTime": {
     "end_time": "2021-02-07T13:01:48.557391Z",
     "start_time": "2021-02-07T13:01:48.545234Z"
    }
   },
   "outputs": [
    {
     "ename": "NameError",
     "evalue": "name 'result' is not defined",
     "output_type": "error",
     "traceback": [
      "\u001b[1;31m---------------------------------------------------------------------------\u001b[0m",
      "\u001b[1;31mNameError\u001b[0m                                 Traceback (most recent call last)",
      "\u001b[1;32m<ipython-input-22-0ac921c19f1a>\u001b[0m in \u001b[0;36m<module>\u001b[1;34m\u001b[0m\n\u001b[1;32m----> 1\u001b[1;33m \u001b[0mresult\u001b[0m\u001b[1;33m\u001b[0m\u001b[1;33m\u001b[0m\u001b[0m\n\u001b[0m",
      "\u001b[1;31mNameError\u001b[0m: name 'result' is not defined"
     ]
    }
   ],
   "source": []
  },
  {
   "cell_type": "code",
   "execution_count": 32,
   "metadata": {
    "ExecuteTime": {
     "end_time": "2021-02-07T13:06:30.166674Z",
     "start_time": "2021-02-07T13:06:30.151432Z"
    }
   },
   "outputs": [
    {
     "ename": "IndentationError",
     "evalue": "unindent does not match any outer indentation level (<tokenize>, line 6)",
     "output_type": "error",
     "traceback": [
      "\u001b[1;36m  File \u001b[1;32m\"<tokenize>\"\u001b[1;36m, line \u001b[1;32m6\u001b[0m\n\u001b[1;33m    count = max (count,i+j)\u001b[0m\n\u001b[1;37m    ^\u001b[0m\n\u001b[1;31mIndentationError\u001b[0m\u001b[1;31m:\u001b[0m unindent does not match any outer indentation level\n"
     ]
    }
   ],
   "source": [
    "def my_func(nums):\n",
    "    count=0\n",
    "    fori,j in enumerate(nums):\n",
    "        if i > count:\n",
    "             return false\n",
    "            count = max (count,i+j)\n",
    "        return True\n",
    "        \n",
    "if __name__==\"__main__\":\n",
    "    print(my_func([3,2,1,0,4]))\n",
    "   "
   ]
  },
  {
   "cell_type": "code",
   "execution_count": 34,
   "metadata": {
    "ExecuteTime": {
     "end_time": "2021-02-07T13:09:12.769544Z",
     "start_time": "2021-02-07T13:09:12.754441Z"
    }
   },
   "outputs": [
    {
     "ename": "SyntaxError",
     "evalue": "invalid syntax (<ipython-input-34-94b9fbb79491>, line 2)",
     "output_type": "error",
     "traceback": [
      "\u001b[1;36m  File \u001b[1;32m\"<ipython-input-34-94b9fbb79491>\"\u001b[1;36m, line \u001b[1;32m2\u001b[0m\n\u001b[1;33m    def__init__(self,id):\u001b[0m\n\u001b[1;37m                         ^\u001b[0m\n\u001b[1;31mSyntaxError\u001b[0m\u001b[1;31m:\u001b[0m invalid syntax\n"
     ]
    }
   ],
   "source": [
    "class person:\n",
    "    def__init__(self,id):\n",
    "        self.id=id\n",
    "        \n",
    "sam = person(100)\n",
    "sam.__dict__['age']=49\n",
    "print(sam.age + len(sam._dict__))"
   ]
  },
  {
   "cell_type": "code",
   "execution_count": 36,
   "metadata": {
    "ExecuteTime": {
     "end_time": "2021-02-07T13:11:10.605081Z",
     "start_time": "2021-02-07T13:11:10.584387Z"
    }
   },
   "outputs": [
    {
     "name": "stdout",
     "output_type": "stream",
     "text": [
      "51\n"
     ]
    }
   ],
   "source": [
    "class person:\n",
    "    def __init__(self,id):\n",
    "        self.id=id\n",
    "        \n",
    "sam = person(100)\n",
    "sam.__dict__['age']=49\n",
    "print(sam.age + len(sam.__dict__))"
   ]
  },
  {
   "cell_type": "code",
   "execution_count": 38,
   "metadata": {
    "ExecuteTime": {
     "end_time": "2021-02-07T13:13:09.461094Z",
     "start_time": "2021-02-07T13:13:09.452175Z"
    }
   },
   "outputs": [],
   "source": [
    "def oddsums(n):\n",
    "    total=0\n",
    "    result=[]\n",
    "    for i in range(1,n+1):\n",
    "        odd = 2*i-1\n",
    "        total=total+odd\n",
    "        result.append(total)\n",
    "        return(result)"
   ]
  },
  {
   "cell_type": "code",
   "execution_count": 39,
   "metadata": {
    "ExecuteTime": {
     "end_time": "2021-02-07T13:15:58.452010Z",
     "start_time": "2021-02-07T13:15:58.437040Z"
    }
   },
   "outputs": [
    {
     "name": "stdout",
     "output_type": "stream",
     "text": [
      "True\n"
     ]
    }
   ],
   "source": [
    "def my_func(nums):\n",
    "    count = 0\n",
    "    for i,j in enumerate(nums):\n",
    "        if i >count:\n",
    "            return False\n",
    "        count = max (count,i+j)\n",
    "        return True\n",
    "    \n",
    "if __name__==\"__main__\":\n",
    "    print (my_func([3,2,1,0,4]))"
   ]
  },
  {
   "cell_type": "code",
   "execution_count": 40,
   "metadata": {
    "ExecuteTime": {
     "end_time": "2021-02-07T13:35:36.088466Z",
     "start_time": "2021-02-07T13:35:36.079175Z"
    }
   },
   "outputs": [
    {
     "name": "stdout",
     "output_type": "stream",
     "text": [
      "2\n",
      "(2, 4)\n",
      "int32\n"
     ]
    }
   ],
   "source": [
    "series = [[23,45,12,679],[14,48,69,38]]\n",
    "new_series = np.array(series)\n",
    "print(new_series.ndim)\n",
    "print(new_series.shape)\n",
    "print(new_series.dtype)"
   ]
  },
  {
   "cell_type": "code",
   "execution_count": 41,
   "metadata": {
    "ExecuteTime": {
     "end_time": "2021-02-07T13:37:54.577806Z",
     "start_time": "2021-02-07T13:37:54.561245Z"
    }
   },
   "outputs": [
    {
     "name": "stdout",
     "output_type": "stream",
     "text": [
      "[ True False False  True False False False]\n"
     ]
    }
   ],
   "source": [
    "from numpy import random\n",
    "dataset = np.array (['paul','jacod','vince','paul','miky', 'jacod','warren'])\n",
    "new_var= (dataset=='paul')|(dataset=='jacob')\n",
    "print(new_var)"
   ]
  },
  {
   "cell_type": "code",
   "execution_count": null,
   "metadata": {},
   "outputs": [],
   "source": []
  }
 ],
 "metadata": {
  "kernelspec": {
   "display_name": "Python 3",
   "language": "python",
   "name": "python3"
  },
  "language_info": {
   "codemirror_mode": {
    "name": "ipython",
    "version": 3
   },
   "file_extension": ".py",
   "mimetype": "text/x-python",
   "name": "python",
   "nbconvert_exporter": "python",
   "pygments_lexer": "ipython3",
   "version": "3.8.3"
  },
  "varInspector": {
   "cols": {
    "lenName": 16,
    "lenType": 16,
    "lenVar": 40
   },
   "kernels_config": {
    "python": {
     "delete_cmd_postfix": "",
     "delete_cmd_prefix": "del ",
     "library": "var_list.py",
     "varRefreshCmd": "print(var_dic_list())"
    },
    "r": {
     "delete_cmd_postfix": ") ",
     "delete_cmd_prefix": "rm(",
     "library": "var_list.r",
     "varRefreshCmd": "cat(var_dic_list()) "
    }
   },
   "types_to_exclude": [
    "module",
    "function",
    "builtin_function_or_method",
    "instance",
    "_Feature"
   ],
   "window_display": false
  }
 },
 "nbformat": 4,
 "nbformat_minor": 4
}
