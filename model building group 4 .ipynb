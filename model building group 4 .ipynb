{
 "cells": [
  {
   "cell_type": "code",
   "execution_count": 1,
   "metadata": {
    "ExecuteTime": {
     "end_time": "2021-03-23T07:35:13.601195Z",
     "start_time": "2021-03-23T07:35:12.229202Z"
    }
   },
   "outputs": [],
   "source": [
    "import pandas as pd\n",
    "import numpy as np \n",
    "from matplotlib import pyplot as plt \n",
    "import seaborn as sns "
   ]
  },
  {
   "cell_type": "code",
   "execution_count": 2,
   "metadata": {
    "ExecuteTime": {
     "end_time": "2021-03-23T07:35:13.875981Z",
     "start_time": "2021-03-23T07:35:13.601195Z"
    }
   },
   "outputs": [],
   "source": [
    "df = pd.read_csv(\"final_data.csv\")"
   ]
  },
  {
   "cell_type": "code",
   "execution_count": 3,
   "metadata": {
    "ExecuteTime": {
     "end_time": "2021-03-23T07:35:13.963367Z",
     "start_time": "2021-03-23T07:35:13.875981Z"
    }
   },
   "outputs": [
    {
     "data": {
      "text/html": [
       "<div>\n",
       "<style scoped>\n",
       "    .dataframe tbody tr th:only-of-type {\n",
       "        vertical-align: middle;\n",
       "    }\n",
       "\n",
       "    .dataframe tbody tr th {\n",
       "        vertical-align: top;\n",
       "    }\n",
       "\n",
       "    .dataframe thead th {\n",
       "        text-align: right;\n",
       "    }\n",
       "</style>\n",
       "<table border=\"1\" class=\"dataframe\">\n",
       "  <thead>\n",
       "    <tr style=\"text-align: right;\">\n",
       "      <th></th>\n",
       "      <th>Unnamed: 0</th>\n",
       "      <th>incidentstate</th>\n",
       "      <th>active</th>\n",
       "      <th>reassignmentcount</th>\n",
       "      <th>reopencount</th>\n",
       "      <th>sysmodcount</th>\n",
       "      <th>contacttype</th>\n",
       "      <th>assignmentgroup</th>\n",
       "      <th>knowledge</th>\n",
       "      <th>upriorityconfirmation</th>\n",
       "      <th>...</th>\n",
       "      <th>opened_at_day</th>\n",
       "      <th>opened_at_month</th>\n",
       "      <th>opened_at_year</th>\n",
       "      <th>opened_at_hr</th>\n",
       "      <th>opened_at_minute</th>\n",
       "      <th>created_at_day</th>\n",
       "      <th>created_at_month</th>\n",
       "      <th>created_at_year</th>\n",
       "      <th>created_at_hr</th>\n",
       "      <th>created_at_minute</th>\n",
       "    </tr>\n",
       "  </thead>\n",
       "  <tbody>\n",
       "    <tr>\n",
       "      <th>0</th>\n",
       "      <td>4</td>\n",
       "      <td>7</td>\n",
       "      <td>1</td>\n",
       "      <td>0</td>\n",
       "      <td>0</td>\n",
       "      <td>0</td>\n",
       "      <td>3</td>\n",
       "      <td>70</td>\n",
       "      <td>1</td>\n",
       "      <td>0</td>\n",
       "      <td>...</td>\n",
       "      <td>29</td>\n",
       "      <td>2</td>\n",
       "      <td>2016</td>\n",
       "      <td>4</td>\n",
       "      <td>40</td>\n",
       "      <td>29</td>\n",
       "      <td>2</td>\n",
       "      <td>2016</td>\n",
       "      <td>4</td>\n",
       "      <td>57</td>\n",
       "    </tr>\n",
       "    <tr>\n",
       "      <th>1</th>\n",
       "      <td>5</td>\n",
       "      <td>1</td>\n",
       "      <td>1</td>\n",
       "      <td>1</td>\n",
       "      <td>0</td>\n",
       "      <td>1</td>\n",
       "      <td>3</td>\n",
       "      <td>24</td>\n",
       "      <td>1</td>\n",
       "      <td>0</td>\n",
       "      <td>...</td>\n",
       "      <td>29</td>\n",
       "      <td>2</td>\n",
       "      <td>2016</td>\n",
       "      <td>4</td>\n",
       "      <td>40</td>\n",
       "      <td>29</td>\n",
       "      <td>2</td>\n",
       "      <td>2016</td>\n",
       "      <td>4</td>\n",
       "      <td>57</td>\n",
       "    </tr>\n",
       "    <tr>\n",
       "      <th>2</th>\n",
       "      <td>6</td>\n",
       "      <td>1</td>\n",
       "      <td>1</td>\n",
       "      <td>1</td>\n",
       "      <td>0</td>\n",
       "      <td>2</td>\n",
       "      <td>3</td>\n",
       "      <td>24</td>\n",
       "      <td>1</td>\n",
       "      <td>0</td>\n",
       "      <td>...</td>\n",
       "      <td>29</td>\n",
       "      <td>2</td>\n",
       "      <td>2016</td>\n",
       "      <td>4</td>\n",
       "      <td>40</td>\n",
       "      <td>29</td>\n",
       "      <td>2</td>\n",
       "      <td>2016</td>\n",
       "      <td>4</td>\n",
       "      <td>57</td>\n",
       "    </tr>\n",
       "    <tr>\n",
       "      <th>3</th>\n",
       "      <td>7</td>\n",
       "      <td>1</td>\n",
       "      <td>1</td>\n",
       "      <td>1</td>\n",
       "      <td>0</td>\n",
       "      <td>3</td>\n",
       "      <td>3</td>\n",
       "      <td>24</td>\n",
       "      <td>1</td>\n",
       "      <td>0</td>\n",
       "      <td>...</td>\n",
       "      <td>29</td>\n",
       "      <td>2</td>\n",
       "      <td>2016</td>\n",
       "      <td>4</td>\n",
       "      <td>40</td>\n",
       "      <td>29</td>\n",
       "      <td>2</td>\n",
       "      <td>2016</td>\n",
       "      <td>4</td>\n",
       "      <td>57</td>\n",
       "    </tr>\n",
       "    <tr>\n",
       "      <th>4</th>\n",
       "      <td>8</td>\n",
       "      <td>1</td>\n",
       "      <td>1</td>\n",
       "      <td>1</td>\n",
       "      <td>0</td>\n",
       "      <td>4</td>\n",
       "      <td>3</td>\n",
       "      <td>24</td>\n",
       "      <td>1</td>\n",
       "      <td>0</td>\n",
       "      <td>...</td>\n",
       "      <td>29</td>\n",
       "      <td>2</td>\n",
       "      <td>2016</td>\n",
       "      <td>4</td>\n",
       "      <td>40</td>\n",
       "      <td>29</td>\n",
       "      <td>2</td>\n",
       "      <td>2016</td>\n",
       "      <td>4</td>\n",
       "      <td>57</td>\n",
       "    </tr>\n",
       "    <tr>\n",
       "      <th>...</th>\n",
       "      <td>...</td>\n",
       "      <td>...</td>\n",
       "      <td>...</td>\n",
       "      <td>...</td>\n",
       "      <td>...</td>\n",
       "      <td>...</td>\n",
       "      <td>...</td>\n",
       "      <td>...</td>\n",
       "      <td>...</td>\n",
       "      <td>...</td>\n",
       "      <td>...</td>\n",
       "      <td>...</td>\n",
       "      <td>...</td>\n",
       "      <td>...</td>\n",
       "      <td>...</td>\n",
       "      <td>...</td>\n",
       "      <td>...</td>\n",
       "      <td>...</td>\n",
       "      <td>...</td>\n",
       "      <td>...</td>\n",
       "      <td>...</td>\n",
       "    </tr>\n",
       "    <tr>\n",
       "      <th>141703</th>\n",
       "      <td>141707</td>\n",
       "      <td>6</td>\n",
       "      <td>0</td>\n",
       "      <td>1</td>\n",
       "      <td>0</td>\n",
       "      <td>4</td>\n",
       "      <td>1</td>\n",
       "      <td>31</td>\n",
       "      <td>0</td>\n",
       "      <td>1</td>\n",
       "      <td>...</td>\n",
       "      <td>16</td>\n",
       "      <td>2</td>\n",
       "      <td>2017</td>\n",
       "      <td>9</td>\n",
       "      <td>9</td>\n",
       "      <td>27</td>\n",
       "      <td>1</td>\n",
       "      <td>2017</td>\n",
       "      <td>16</td>\n",
       "      <td>59</td>\n",
       "    </tr>\n",
       "    <tr>\n",
       "      <th>141704</th>\n",
       "      <td>141708</td>\n",
       "      <td>1</td>\n",
       "      <td>1</td>\n",
       "      <td>0</td>\n",
       "      <td>0</td>\n",
       "      <td>0</td>\n",
       "      <td>1</td>\n",
       "      <td>70</td>\n",
       "      <td>0</td>\n",
       "      <td>0</td>\n",
       "      <td>...</td>\n",
       "      <td>16</td>\n",
       "      <td>2</td>\n",
       "      <td>2017</td>\n",
       "      <td>14</td>\n",
       "      <td>17</td>\n",
       "      <td>27</td>\n",
       "      <td>1</td>\n",
       "      <td>2017</td>\n",
       "      <td>16</td>\n",
       "      <td>59</td>\n",
       "    </tr>\n",
       "    <tr>\n",
       "      <th>141705</th>\n",
       "      <td>141709</td>\n",
       "      <td>1</td>\n",
       "      <td>1</td>\n",
       "      <td>1</td>\n",
       "      <td>0</td>\n",
       "      <td>1</td>\n",
       "      <td>1</td>\n",
       "      <td>31</td>\n",
       "      <td>0</td>\n",
       "      <td>0</td>\n",
       "      <td>...</td>\n",
       "      <td>16</td>\n",
       "      <td>2</td>\n",
       "      <td>2017</td>\n",
       "      <td>14</td>\n",
       "      <td>17</td>\n",
       "      <td>27</td>\n",
       "      <td>1</td>\n",
       "      <td>2017</td>\n",
       "      <td>16</td>\n",
       "      <td>59</td>\n",
       "    </tr>\n",
       "    <tr>\n",
       "      <th>141706</th>\n",
       "      <td>141710</td>\n",
       "      <td>8</td>\n",
       "      <td>1</td>\n",
       "      <td>1</td>\n",
       "      <td>0</td>\n",
       "      <td>2</td>\n",
       "      <td>1</td>\n",
       "      <td>31</td>\n",
       "      <td>0</td>\n",
       "      <td>1</td>\n",
       "      <td>...</td>\n",
       "      <td>16</td>\n",
       "      <td>2</td>\n",
       "      <td>2017</td>\n",
       "      <td>14</td>\n",
       "      <td>17</td>\n",
       "      <td>27</td>\n",
       "      <td>1</td>\n",
       "      <td>2017</td>\n",
       "      <td>16</td>\n",
       "      <td>59</td>\n",
       "    </tr>\n",
       "    <tr>\n",
       "      <th>141707</th>\n",
       "      <td>141711</td>\n",
       "      <td>6</td>\n",
       "      <td>0</td>\n",
       "      <td>1</td>\n",
       "      <td>0</td>\n",
       "      <td>3</td>\n",
       "      <td>1</td>\n",
       "      <td>31</td>\n",
       "      <td>0</td>\n",
       "      <td>1</td>\n",
       "      <td>...</td>\n",
       "      <td>16</td>\n",
       "      <td>2</td>\n",
       "      <td>2017</td>\n",
       "      <td>14</td>\n",
       "      <td>17</td>\n",
       "      <td>27</td>\n",
       "      <td>1</td>\n",
       "      <td>2017</td>\n",
       "      <td>16</td>\n",
       "      <td>59</td>\n",
       "    </tr>\n",
       "  </tbody>\n",
       "</table>\n",
       "<p>141708 rows × 35 columns</p>\n",
       "</div>"
      ],
      "text/plain": [
       "        Unnamed: 0  incidentstate  active  reassignmentcount  reopencount  \\\n",
       "0                4              7       1                  0            0   \n",
       "1                5              1       1                  1            0   \n",
       "2                6              1       1                  1            0   \n",
       "3                7              1       1                  1            0   \n",
       "4                8              1       1                  1            0   \n",
       "...            ...            ...     ...                ...          ...   \n",
       "141703      141707              6       0                  1            0   \n",
       "141704      141708              1       1                  0            0   \n",
       "141705      141709              1       1                  1            0   \n",
       "141706      141710              8       1                  1            0   \n",
       "141707      141711              6       0                  1            0   \n",
       "\n",
       "        sysmodcount  contacttype  assignmentgroup  knowledge  \\\n",
       "0                 0            3               70          1   \n",
       "1                 1            3               24          1   \n",
       "2                 2            3               24          1   \n",
       "3                 3            3               24          1   \n",
       "4                 4            3               24          1   \n",
       "...             ...          ...              ...        ...   \n",
       "141703            4            1               31          0   \n",
       "141704            0            1               70          0   \n",
       "141705            1            1               31          0   \n",
       "141706            2            1               31          0   \n",
       "141707            3            1               31          0   \n",
       "\n",
       "        upriorityconfirmation  ...  opened_at_day  opened_at_month  \\\n",
       "0                           0  ...             29                2   \n",
       "1                           0  ...             29                2   \n",
       "2                           0  ...             29                2   \n",
       "3                           0  ...             29                2   \n",
       "4                           0  ...             29                2   \n",
       "...                       ...  ...            ...              ...   \n",
       "141703                      1  ...             16                2   \n",
       "141704                      0  ...             16                2   \n",
       "141705                      0  ...             16                2   \n",
       "141706                      1  ...             16                2   \n",
       "141707                      1  ...             16                2   \n",
       "\n",
       "        opened_at_year  opened_at_hr  opened_at_minute  created_at_day  \\\n",
       "0                 2016             4                40              29   \n",
       "1                 2016             4                40              29   \n",
       "2                 2016             4                40              29   \n",
       "3                 2016             4                40              29   \n",
       "4                 2016             4                40              29   \n",
       "...                ...           ...               ...             ...   \n",
       "141703            2017             9                 9              27   \n",
       "141704            2017            14                17              27   \n",
       "141705            2017            14                17              27   \n",
       "141706            2017            14                17              27   \n",
       "141707            2017            14                17              27   \n",
       "\n",
       "        created_at_month  created_at_year  created_at_hr  created_at_minute  \n",
       "0                      2             2016              4                 57  \n",
       "1                      2             2016              4                 57  \n",
       "2                      2             2016              4                 57  \n",
       "3                      2             2016              4                 57  \n",
       "4                      2             2016              4                 57  \n",
       "...                  ...              ...            ...                ...  \n",
       "141703                 1             2017             16                 59  \n",
       "141704                 1             2017             16                 59  \n",
       "141705                 1             2017             16                 59  \n",
       "141706                 1             2017             16                 59  \n",
       "141707                 1             2017             16                 59  \n",
       "\n",
       "[141708 rows x 35 columns]"
      ]
     },
     "execution_count": 3,
     "metadata": {},
     "output_type": "execute_result"
    }
   ],
   "source": [
    "df"
   ]
  },
  {
   "cell_type": "code",
   "execution_count": 4,
   "metadata": {
    "ExecuteTime": {
     "end_time": "2021-03-23T07:35:13.984018Z",
     "start_time": "2021-03-23T07:35:13.963762Z"
    }
   },
   "outputs": [
    {
     "data": {
      "text/plain": [
       "Unnamed: 0               0\n",
       "incidentstate            0\n",
       "active                   0\n",
       "reassignmentcount        0\n",
       "reopencount              0\n",
       "sysmodcount              0\n",
       "contacttype              0\n",
       "assignmentgroup          0\n",
       "knowledge                0\n",
       "upriorityconfirmation    0\n",
       "resolvedby               0\n",
       "caller_id                0\n",
       "open_by                  0\n",
       "createdby                0\n",
       "updatedby                0\n",
       "loc                      0\n",
       "category                 0\n",
       "symptom                  0\n",
       "i_impact                 0\n",
       "assigned_to              0\n",
       "updated_day              0\n",
       "updated_month            0\n",
       "updated_year             0\n",
       "updated_hr               0\n",
       "updated_minute           0\n",
       "opened_at_day            0\n",
       "opened_at_month          0\n",
       "opened_at_year           0\n",
       "opened_at_hr             0\n",
       "opened_at_minute         0\n",
       "created_at_day           0\n",
       "created_at_month         0\n",
       "created_at_year          0\n",
       "created_at_hr            0\n",
       "created_at_minute        0\n",
       "dtype: int64"
      ]
     },
     "execution_count": 4,
     "metadata": {},
     "output_type": "execute_result"
    }
   ],
   "source": [
    "df.isnull().sum()"
   ]
  },
  {
   "cell_type": "code",
   "execution_count": 5,
   "metadata": {
    "ExecuteTime": {
     "end_time": "2021-03-23T07:35:14.019065Z",
     "start_time": "2021-03-23T07:35:13.984018Z"
    }
   },
   "outputs": [],
   "source": [
    "X=df.drop(\"i_impact\",axis=1)\n"
   ]
  },
  {
   "cell_type": "code",
   "execution_count": 6,
   "metadata": {
    "ExecuteTime": {
     "end_time": "2021-03-23T07:35:14.052945Z",
     "start_time": "2021-03-23T07:35:14.019065Z"
    }
   },
   "outputs": [
    {
     "data": {
      "text/html": [
       "<div>\n",
       "<style scoped>\n",
       "    .dataframe tbody tr th:only-of-type {\n",
       "        vertical-align: middle;\n",
       "    }\n",
       "\n",
       "    .dataframe tbody tr th {\n",
       "        vertical-align: top;\n",
       "    }\n",
       "\n",
       "    .dataframe thead th {\n",
       "        text-align: right;\n",
       "    }\n",
       "</style>\n",
       "<table border=\"1\" class=\"dataframe\">\n",
       "  <thead>\n",
       "    <tr style=\"text-align: right;\">\n",
       "      <th></th>\n",
       "      <th>Unnamed: 0</th>\n",
       "      <th>incidentstate</th>\n",
       "      <th>active</th>\n",
       "      <th>reassignmentcount</th>\n",
       "      <th>reopencount</th>\n",
       "      <th>sysmodcount</th>\n",
       "      <th>contacttype</th>\n",
       "      <th>assignmentgroup</th>\n",
       "      <th>knowledge</th>\n",
       "      <th>upriorityconfirmation</th>\n",
       "      <th>...</th>\n",
       "      <th>opened_at_day</th>\n",
       "      <th>opened_at_month</th>\n",
       "      <th>opened_at_year</th>\n",
       "      <th>opened_at_hr</th>\n",
       "      <th>opened_at_minute</th>\n",
       "      <th>created_at_day</th>\n",
       "      <th>created_at_month</th>\n",
       "      <th>created_at_year</th>\n",
       "      <th>created_at_hr</th>\n",
       "      <th>created_at_minute</th>\n",
       "    </tr>\n",
       "  </thead>\n",
       "  <tbody>\n",
       "    <tr>\n",
       "      <th>0</th>\n",
       "      <td>4</td>\n",
       "      <td>7</td>\n",
       "      <td>1</td>\n",
       "      <td>0</td>\n",
       "      <td>0</td>\n",
       "      <td>0</td>\n",
       "      <td>3</td>\n",
       "      <td>70</td>\n",
       "      <td>1</td>\n",
       "      <td>0</td>\n",
       "      <td>...</td>\n",
       "      <td>29</td>\n",
       "      <td>2</td>\n",
       "      <td>2016</td>\n",
       "      <td>4</td>\n",
       "      <td>40</td>\n",
       "      <td>29</td>\n",
       "      <td>2</td>\n",
       "      <td>2016</td>\n",
       "      <td>4</td>\n",
       "      <td>57</td>\n",
       "    </tr>\n",
       "    <tr>\n",
       "      <th>1</th>\n",
       "      <td>5</td>\n",
       "      <td>1</td>\n",
       "      <td>1</td>\n",
       "      <td>1</td>\n",
       "      <td>0</td>\n",
       "      <td>1</td>\n",
       "      <td>3</td>\n",
       "      <td>24</td>\n",
       "      <td>1</td>\n",
       "      <td>0</td>\n",
       "      <td>...</td>\n",
       "      <td>29</td>\n",
       "      <td>2</td>\n",
       "      <td>2016</td>\n",
       "      <td>4</td>\n",
       "      <td>40</td>\n",
       "      <td>29</td>\n",
       "      <td>2</td>\n",
       "      <td>2016</td>\n",
       "      <td>4</td>\n",
       "      <td>57</td>\n",
       "    </tr>\n",
       "    <tr>\n",
       "      <th>2</th>\n",
       "      <td>6</td>\n",
       "      <td>1</td>\n",
       "      <td>1</td>\n",
       "      <td>1</td>\n",
       "      <td>0</td>\n",
       "      <td>2</td>\n",
       "      <td>3</td>\n",
       "      <td>24</td>\n",
       "      <td>1</td>\n",
       "      <td>0</td>\n",
       "      <td>...</td>\n",
       "      <td>29</td>\n",
       "      <td>2</td>\n",
       "      <td>2016</td>\n",
       "      <td>4</td>\n",
       "      <td>40</td>\n",
       "      <td>29</td>\n",
       "      <td>2</td>\n",
       "      <td>2016</td>\n",
       "      <td>4</td>\n",
       "      <td>57</td>\n",
       "    </tr>\n",
       "    <tr>\n",
       "      <th>3</th>\n",
       "      <td>7</td>\n",
       "      <td>1</td>\n",
       "      <td>1</td>\n",
       "      <td>1</td>\n",
       "      <td>0</td>\n",
       "      <td>3</td>\n",
       "      <td>3</td>\n",
       "      <td>24</td>\n",
       "      <td>1</td>\n",
       "      <td>0</td>\n",
       "      <td>...</td>\n",
       "      <td>29</td>\n",
       "      <td>2</td>\n",
       "      <td>2016</td>\n",
       "      <td>4</td>\n",
       "      <td>40</td>\n",
       "      <td>29</td>\n",
       "      <td>2</td>\n",
       "      <td>2016</td>\n",
       "      <td>4</td>\n",
       "      <td>57</td>\n",
       "    </tr>\n",
       "    <tr>\n",
       "      <th>4</th>\n",
       "      <td>8</td>\n",
       "      <td>1</td>\n",
       "      <td>1</td>\n",
       "      <td>1</td>\n",
       "      <td>0</td>\n",
       "      <td>4</td>\n",
       "      <td>3</td>\n",
       "      <td>24</td>\n",
       "      <td>1</td>\n",
       "      <td>0</td>\n",
       "      <td>...</td>\n",
       "      <td>29</td>\n",
       "      <td>2</td>\n",
       "      <td>2016</td>\n",
       "      <td>4</td>\n",
       "      <td>40</td>\n",
       "      <td>29</td>\n",
       "      <td>2</td>\n",
       "      <td>2016</td>\n",
       "      <td>4</td>\n",
       "      <td>57</td>\n",
       "    </tr>\n",
       "  </tbody>\n",
       "</table>\n",
       "<p>5 rows × 34 columns</p>\n",
       "</div>"
      ],
      "text/plain": [
       "   Unnamed: 0  incidentstate  active  reassignmentcount  reopencount  \\\n",
       "0           4              7       1                  0            0   \n",
       "1           5              1       1                  1            0   \n",
       "2           6              1       1                  1            0   \n",
       "3           7              1       1                  1            0   \n",
       "4           8              1       1                  1            0   \n",
       "\n",
       "   sysmodcount  contacttype  assignmentgroup  knowledge  \\\n",
       "0            0            3               70          1   \n",
       "1            1            3               24          1   \n",
       "2            2            3               24          1   \n",
       "3            3            3               24          1   \n",
       "4            4            3               24          1   \n",
       "\n",
       "   upriorityconfirmation  ...  opened_at_day  opened_at_month  opened_at_year  \\\n",
       "0                      0  ...             29                2            2016   \n",
       "1                      0  ...             29                2            2016   \n",
       "2                      0  ...             29                2            2016   \n",
       "3                      0  ...             29                2            2016   \n",
       "4                      0  ...             29                2            2016   \n",
       "\n",
       "   opened_at_hr  opened_at_minute  created_at_day  created_at_month  \\\n",
       "0             4                40              29                 2   \n",
       "1             4                40              29                 2   \n",
       "2             4                40              29                 2   \n",
       "3             4                40              29                 2   \n",
       "4             4                40              29                 2   \n",
       "\n",
       "   created_at_year  created_at_hr  created_at_minute  \n",
       "0             2016              4                 57  \n",
       "1             2016              4                 57  \n",
       "2             2016              4                 57  \n",
       "3             2016              4                 57  \n",
       "4             2016              4                 57  \n",
       "\n",
       "[5 rows x 34 columns]"
      ]
     },
     "execution_count": 6,
     "metadata": {},
     "output_type": "execute_result"
    }
   ],
   "source": [
    "X.head()"
   ]
  },
  {
   "cell_type": "code",
   "execution_count": 7,
   "metadata": {
    "ExecuteTime": {
     "end_time": "2021-03-23T07:35:14.068437Z",
     "start_time": "2021-03-23T07:35:14.052945Z"
    }
   },
   "outputs": [],
   "source": [
    "Y = df['i_impact']"
   ]
  },
  {
   "cell_type": "code",
   "execution_count": 8,
   "metadata": {
    "ExecuteTime": {
     "end_time": "2021-03-23T07:35:14.084342Z",
     "start_time": "2021-03-23T07:35:14.068437Z"
    }
   },
   "outputs": [
    {
     "data": {
      "text/plain": [
       "0    2\n",
       "1    2\n",
       "2    2\n",
       "3    2\n",
       "4    2\n",
       "Name: i_impact, dtype: int64"
      ]
     },
     "execution_count": 8,
     "metadata": {},
     "output_type": "execute_result"
    }
   ],
   "source": [
    "Y.head()"
   ]
  },
  {
   "cell_type": "code",
   "execution_count": 9,
   "metadata": {
    "ExecuteTime": {
     "end_time": "2021-03-23T07:35:14.866490Z",
     "start_time": "2021-03-23T07:35:14.084342Z"
    }
   },
   "outputs": [],
   "source": [
    "from sklearn.model_selection import train_test_split"
   ]
  },
  {
   "cell_type": "code",
   "execution_count": 10,
   "metadata": {
    "ExecuteTime": {
     "end_time": "2021-03-23T07:35:14.934861Z",
     "start_time": "2021-03-23T07:35:14.866490Z"
    }
   },
   "outputs": [],
   "source": [
    "X_train, X_test, y_train, y_test = train_test_split(X, Y, test_size=0.3,random_state=10)"
   ]
  },
  {
   "cell_type": "code",
   "execution_count": 11,
   "metadata": {
    "ExecuteTime": {
     "end_time": "2021-03-23T07:35:15.151016Z",
     "start_time": "2021-03-23T07:35:14.934861Z"
    }
   },
   "outputs": [],
   "source": [
    "from imblearn.over_sampling import SMOTE"
   ]
  },
  {
   "cell_type": "code",
   "execution_count": 12,
   "metadata": {
    "ExecuteTime": {
     "end_time": "2021-03-23T07:35:15.159322Z",
     "start_time": "2021-03-23T07:35:15.151016Z"
    }
   },
   "outputs": [],
   "source": [
    "smote = SMOTE()"
   ]
  },
  {
   "cell_type": "code",
   "execution_count": 13,
   "metadata": {
    "ExecuteTime": {
     "end_time": "2021-03-23T07:35:15.919205Z",
     "start_time": "2021-03-23T07:35:15.163364Z"
    }
   },
   "outputs": [],
   "source": [
    "X_train_smote, y_train_smote = smote.fit_resample(X_train.astype('float'), y_train)"
   ]
  },
  {
   "cell_type": "code",
   "execution_count": 14,
   "metadata": {
    "ExecuteTime": {
     "end_time": "2021-03-23T07:35:15.989642Z",
     "start_time": "2021-03-23T07:35:15.919205Z"
    }
   },
   "outputs": [
    {
     "name": "stdout",
     "output_type": "stream",
     "text": [
      "Before SMOTE : Counter({2: 94155, 3: 2647, 1: 2393})\n",
      "After SMOTE : Counter({2: 94155, 1: 94155, 3: 94155})\n"
     ]
    }
   ],
   "source": [
    "from collections import Counter\n",
    "print(\"Before SMOTE :\",Counter(y_train))\n",
    "print(\"After SMOTE :\",Counter(y_train_smote))"
   ]
  },
  {
   "cell_type": "code",
   "execution_count": 15,
   "metadata": {
    "ExecuteTime": {
     "end_time": "2021-03-23T07:35:16.034483Z",
     "start_time": "2021-03-23T07:35:15.993055Z"
    }
   },
   "outputs": [],
   "source": [
    "X_train_smote_new= X_train_smote[['caller_id','open_by','loc','category']]\n",
    "X_test_new= X_test[['caller_id','open_by','loc','category']]"
   ]
  },
  {
   "cell_type": "code",
   "execution_count": 16,
   "metadata": {
    "ExecuteTime": {
     "end_time": "2021-03-23T07:36:27.018628Z",
     "start_time": "2021-03-23T07:35:16.034753Z"
    }
   },
   "outputs": [
    {
     "data": {
      "text/plain": [
       "RandomForestClassifier(max_depth=27)"
      ]
     },
     "execution_count": 16,
     "metadata": {},
     "output_type": "execute_result"
    }
   ],
   "source": [
    "from sklearn.ensemble import RandomForestClassifier\n",
    "model_rf = RandomForestClassifier(max_depth=27)\n",
    "model_rf.fit(X_train_smote_new,y_train_smote)\n"
   ]
  },
  {
   "cell_type": "code",
   "execution_count": 17,
   "metadata": {
    "ExecuteTime": {
     "end_time": "2021-03-23T07:36:28.636745Z",
     "start_time": "2021-03-23T07:36:27.018628Z"
    }
   },
   "outputs": [],
   "source": [
    "# Predicting the model\n",
    "y_predict_rf = model_rf.predict(X_test_new)"
   ]
  },
  {
   "cell_type": "code",
   "execution_count": 18,
   "metadata": {
    "ExecuteTime": {
     "end_time": "2021-03-23T07:36:28.733324Z",
     "start_time": "2021-03-23T07:36:28.636745Z"
    }
   },
   "outputs": [
    {
     "name": "stdout",
     "output_type": "stream",
     "text": [
      "0.9785947827723285\n",
      "              precision    recall  f1-score   support\n",
      "\n",
      "           1       0.68      0.93      0.79      1098\n",
      "           2       1.00      0.98      0.99     40176\n",
      "           3       0.78      0.95      0.86      1239\n",
      "\n",
      "    accuracy                           0.98     42513\n",
      "   macro avg       0.82      0.95      0.88     42513\n",
      "weighted avg       0.98      0.98      0.98     42513\n",
      "\n"
     ]
    }
   ],
   "source": [
    "# Finding accuracy, precision, recall and confusion matrix\n",
    "from sklearn.metrics import accuracy_score, classification_report, confusion_matrix\n",
    "print(accuracy_score(y_test,y_predict_rf))\n",
    "print(classification_report(y_test,y_predict_rf))\n"
   ]
  },
  {
   "cell_type": "code",
   "execution_count": 19,
   "metadata": {
    "ExecuteTime": {
     "end_time": "2021-03-23T07:36:28.811767Z",
     "start_time": "2021-03-23T07:36:28.733497Z"
    }
   },
   "outputs": [
    {
     "data": {
      "text/plain": [
       "array([[ 1017,    64,    17],\n",
       "       [  452, 39403,   321],\n",
       "       [   21,    35,  1183]], dtype=int64)"
      ]
     },
     "execution_count": 19,
     "metadata": {},
     "output_type": "execute_result"
    }
   ],
   "source": [
    "confusion_matrix(y_test,y_predict_rf)\n"
   ]
  },
  {
   "cell_type": "code",
   "execution_count": 75,
   "metadata": {
    "ExecuteTime": {
     "end_time": "2021-03-23T08:32:28.406118Z",
     "start_time": "2021-03-23T08:32:28.390576Z"
    }
   },
   "outputs": [],
   "source": [
    "accuracy_rf = (1017+39403+1183)/(42513)*100"
   ]
  },
  {
   "cell_type": "code",
   "execution_count": 21,
   "metadata": {
    "ExecuteTime": {
     "end_time": "2021-03-23T07:36:30.551497Z",
     "start_time": "2021-03-23T07:36:28.828822Z"
    }
   },
   "outputs": [
    {
     "data": {
      "text/plain": [
       "DecisionTreeClassifier()"
      ]
     },
     "execution_count": 21,
     "metadata": {},
     "output_type": "execute_result"
    }
   ],
   "source": [
    "# Training the model\n",
    "from sklearn.tree import DecisionTreeClassifier\n",
    "model_dtree=DecisionTreeClassifier()\n",
    "model_dtree.fit(X_train_smote_new,y_train_smote)"
   ]
  },
  {
   "cell_type": "code",
   "execution_count": 22,
   "metadata": {
    "ExecuteTime": {
     "end_time": "2021-03-23T07:36:30.586139Z",
     "start_time": "2021-03-23T07:36:30.553727Z"
    }
   },
   "outputs": [],
   "source": [
    "# Predicting the model\n",
    "y_predict_dtree = model_dtree.predict(X_test_new)"
   ]
  },
  {
   "cell_type": "code",
   "execution_count": 23,
   "metadata": {
    "ExecuteTime": {
     "end_time": "2021-03-23T07:36:30.702868Z",
     "start_time": "2021-03-23T07:36:30.589224Z"
    }
   },
   "outputs": [
    {
     "name": "stdout",
     "output_type": "stream",
     "text": [
      "0.9775598052360455\n",
      "              precision    recall  f1-score   support\n",
      "\n",
      "           1       0.66      0.93      0.78      1098\n",
      "           2       1.00      0.98      0.99     40176\n",
      "           3       0.78      0.95      0.86      1239\n",
      "\n",
      "    accuracy                           0.98     42513\n",
      "   macro avg       0.81      0.96      0.87     42513\n",
      "weighted avg       0.98      0.98      0.98     42513\n",
      "\n"
     ]
    }
   ],
   "source": [
    "# Finding accuracy, precision, recall and confusion matrix\n",
    "print(accuracy_score(y_test,y_predict_dtree))\n",
    "print(classification_report(y_test,y_predict_dtree))"
   ]
  },
  {
   "cell_type": "code",
   "execution_count": 24,
   "metadata": {
    "ExecuteTime": {
     "end_time": "2021-03-23T07:36:30.779194Z",
     "start_time": "2021-03-23T07:36:30.706570Z"
    }
   },
   "outputs": [
    {
     "data": {
      "text/plain": [
       "array([[ 1023,    59,    16],\n",
       "       [  496, 39354,   326],\n",
       "       [   22,    35,  1182]], dtype=int64)"
      ]
     },
     "execution_count": 24,
     "metadata": {},
     "output_type": "execute_result"
    }
   ],
   "source": [
    "confusion_matrix(y_test,y_predict_dtree )"
   ]
  },
  {
   "cell_type": "code",
   "execution_count": 76,
   "metadata": {
    "ExecuteTime": {
     "end_time": "2021-03-23T08:33:45.537013Z",
     "start_time": "2021-03-23T08:33:45.521278Z"
    }
   },
   "outputs": [],
   "source": [
    "accuracy_dtree = (1023+39354+1182)/(42513)*100"
   ]
  },
  {
   "cell_type": "code",
   "execution_count": 26,
   "metadata": {
    "ExecuteTime": {
     "end_time": "2021-03-23T07:36:30.814267Z",
     "start_time": "2021-03-23T07:36:30.800615Z"
    }
   },
   "outputs": [],
   "source": [
    "# Training the model\n",
    "from sklearn.neighbors import KNeighborsClassifier\n",
    "model_knn = KNeighborsClassifier(n_neighbors=12,metric='euclidean') # Maximum accuracy for n=10\n"
   ]
  },
  {
   "cell_type": "code",
   "execution_count": 27,
   "metadata": {
    "ExecuteTime": {
     "end_time": "2021-03-23T07:36:32.227869Z",
     "start_time": "2021-03-23T07:36:30.822905Z"
    }
   },
   "outputs": [
    {
     "data": {
      "text/plain": [
       "KNeighborsClassifier(metric='euclidean', n_neighbors=12)"
      ]
     },
     "execution_count": 27,
     "metadata": {},
     "output_type": "execute_result"
    }
   ],
   "source": [
    "model_knn.fit(X_train_smote_new,y_train_smote)"
   ]
  },
  {
   "cell_type": "code",
   "execution_count": 28,
   "metadata": {
    "ExecuteTime": {
     "end_time": "2021-03-23T07:36:35.589933Z",
     "start_time": "2021-03-23T07:36:32.230032Z"
    }
   },
   "outputs": [],
   "source": [
    "# Predicting the model\n",
    "y_predict_knn = model_knn.predict(X_test_new)"
   ]
  },
  {
   "cell_type": "code",
   "execution_count": 29,
   "metadata": {
    "ExecuteTime": {
     "end_time": "2021-03-23T07:36:35.698335Z",
     "start_time": "2021-03-23T07:36:35.589933Z"
    }
   },
   "outputs": [
    {
     "name": "stdout",
     "output_type": "stream",
     "text": [
      "0.8995601345470797\n",
      "              precision    recall  f1-score   support\n",
      "\n",
      "           1       0.30      0.95      0.45      1098\n",
      "           2       1.00      0.90      0.94     40176\n",
      "           3       0.40      0.93      0.56      1239\n",
      "\n",
      "    accuracy                           0.90     42513\n",
      "   macro avg       0.57      0.92      0.65     42513\n",
      "weighted avg       0.96      0.90      0.92     42513\n",
      "\n"
     ]
    }
   ],
   "source": [
    "# Finding accuracy, precision, recall and confusion matrix\n",
    "print(accuracy_score(y_test,y_predict_knn))\n",
    "print(classification_report(y_test,y_predict_knn))"
   ]
  },
  {
   "cell_type": "code",
   "execution_count": 30,
   "metadata": {
    "ExecuteTime": {
     "end_time": "2021-03-23T07:36:35.781434Z",
     "start_time": "2021-03-23T07:36:35.702140Z"
    }
   },
   "outputs": [
    {
     "data": {
      "text/plain": [
       "array([[ 1038,    39,    21],\n",
       "       [ 2425, 36051,  1700],\n",
       "       [   28,    57,  1154]], dtype=int64)"
      ]
     },
     "execution_count": 30,
     "metadata": {},
     "output_type": "execute_result"
    }
   ],
   "source": [
    "confusion_matrix(y_test,y_predict_knn)"
   ]
  },
  {
   "cell_type": "code",
   "execution_count": 77,
   "metadata": {
    "ExecuteTime": {
     "end_time": "2021-03-23T08:34:21.498133Z",
     "start_time": "2021-03-23T08:34:21.474983Z"
    }
   },
   "outputs": [],
   "source": [
    "accuracy_knn = (1038+36051+1154)/(42513)*100"
   ]
  },
  {
   "cell_type": "code",
   "execution_count": 32,
   "metadata": {
    "ExecuteTime": {
     "end_time": "2021-03-23T07:36:43.253101Z",
     "start_time": "2021-03-23T07:36:35.804921Z"
    }
   },
   "outputs": [],
   "source": [
    "# Training the model\n",
    "from xgboost import XGBClassifier\n",
    "model_xgb = XGBClassifier()\n"
   ]
  },
  {
   "cell_type": "code",
   "execution_count": 33,
   "metadata": {
    "ExecuteTime": {
     "end_time": "2021-03-23T07:37:14.470944Z",
     "start_time": "2021-03-23T07:36:43.255779Z"
    }
   },
   "outputs": [
    {
     "name": "stderr",
     "output_type": "stream",
     "text": [
      "C:\\Users\\SAI HARI\\anaconda3\\lib\\site-packages\\xgboost\\sklearn.py:892: UserWarning: The use of label encoder in XGBClassifier is deprecated and will be removed in a future release. To remove this warning, do the following: 1) Pass option use_label_encoder=False when constructing XGBClassifier object; and 2) Encode your labels (y) as integers starting with 0, i.e. 0, 1, 2, ..., [num_class - 1].\n",
      "  warnings.warn(label_encoder_deprecation_msg, UserWarning)\n"
     ]
    },
    {
     "name": "stdout",
     "output_type": "stream",
     "text": [
      "[13:06:44] WARNING: C:/Users/Administrator/workspace/xgboost-win64_release_1.3.0/src/learner.cc:1061: Starting in XGBoost 1.3.0, the default evaluation metric used with the objective 'multi:softprob' was changed from 'merror' to 'mlogloss'. Explicitly set eval_metric if you'd like to restore the old behavior.\n"
     ]
    },
    {
     "data": {
      "text/plain": [
       "XGBClassifier(base_score=0.5, booster='gbtree', colsample_bylevel=1,\n",
       "              colsample_bynode=1, colsample_bytree=1, gamma=0, gpu_id=-1,\n",
       "              importance_type='gain', interaction_constraints='',\n",
       "              learning_rate=0.300000012, max_delta_step=0, max_depth=6,\n",
       "              min_child_weight=1, missing=nan, monotone_constraints='()',\n",
       "              n_estimators=100, n_jobs=8, num_parallel_tree=1,\n",
       "              objective='multi:softprob', random_state=0, reg_alpha=0,\n",
       "              reg_lambda=1, scale_pos_weight=None, subsample=1,\n",
       "              tree_method='exact', validate_parameters=1, verbosity=None)"
      ]
     },
     "execution_count": 33,
     "metadata": {},
     "output_type": "execute_result"
    }
   ],
   "source": [
    "model_xgb.fit(X_train_smote_new,y_train_smote)"
   ]
  },
  {
   "cell_type": "code",
   "execution_count": 34,
   "metadata": {
    "ExecuteTime": {
     "end_time": "2021-03-23T07:37:14.591796Z",
     "start_time": "2021-03-23T07:37:14.473452Z"
    }
   },
   "outputs": [],
   "source": [
    "# Predicting the model\n",
    "y_predict_xgb = model_xgb.predict(X_test_new)"
   ]
  },
  {
   "cell_type": "code",
   "execution_count": 35,
   "metadata": {
    "ExecuteTime": {
     "end_time": "2021-03-23T07:37:14.703826Z",
     "start_time": "2021-03-23T07:37:14.593817Z"
    }
   },
   "outputs": [
    {
     "name": "stdout",
     "output_type": "stream",
     "text": [
      "0.9116035095147367\n",
      "              precision    recall  f1-score   support\n",
      "\n",
      "           1       0.36      0.86      0.51      1098\n",
      "           2       1.00      0.91      0.95     40176\n",
      "           3       0.38      0.93      0.54      1239\n",
      "\n",
      "    accuracy                           0.91     42513\n",
      "   macro avg       0.58      0.90      0.67     42513\n",
      "weighted avg       0.96      0.91      0.93     42513\n",
      "\n"
     ]
    }
   ],
   "source": [
    "# Finding accuracy, precision, recall and confusion matrix\n",
    "print(accuracy_score(y_test,y_predict_xgb))\n",
    "print(classification_report(y_test,y_predict_xgb))"
   ]
  },
  {
   "cell_type": "code",
   "execution_count": 36,
   "metadata": {
    "ExecuteTime": {
     "end_time": "2021-03-23T07:37:14.781056Z",
     "start_time": "2021-03-23T07:37:14.707672Z"
    }
   },
   "outputs": [
    {
     "data": {
      "text/plain": [
       "array([[  944,   126,    28],\n",
       "       [ 1634, 36660,  1882],\n",
       "       [   38,    50,  1151]], dtype=int64)"
      ]
     },
     "execution_count": 36,
     "metadata": {},
     "output_type": "execute_result"
    }
   ],
   "source": [
    "confusion_matrix(y_test,y_predict_xgb)"
   ]
  },
  {
   "cell_type": "code",
   "execution_count": 78,
   "metadata": {
    "ExecuteTime": {
     "end_time": "2021-03-23T08:34:57.743987Z",
     "start_time": "2021-03-23T08:34:57.736828Z"
    }
   },
   "outputs": [],
   "source": [
    "accuracy_XGB= (944+36660+1151)/(42513)*100"
   ]
  },
  {
   "cell_type": "code",
   "execution_count": 38,
   "metadata": {
    "ExecuteTime": {
     "end_time": "2021-03-23T07:37:14.841061Z",
     "start_time": "2021-03-23T07:37:14.800330Z"
    }
   },
   "outputs": [],
   "source": [
    "# Training the model\n",
    "from sklearn.neural_network import MLPClassifier\n",
    "model_mlp = MLPClassifier()"
   ]
  },
  {
   "cell_type": "code",
   "execution_count": 39,
   "metadata": {
    "ExecuteTime": {
     "end_time": "2021-03-23T07:46:49.471667Z",
     "start_time": "2021-03-23T07:37:14.844736Z"
    }
   },
   "outputs": [
    {
     "data": {
      "text/plain": [
       "MLPClassifier()"
      ]
     },
     "execution_count": 39,
     "metadata": {},
     "output_type": "execute_result"
    }
   ],
   "source": [
    "model_mlp.fit(X_train_smote_new,y_train_smote)"
   ]
  },
  {
   "cell_type": "code",
   "execution_count": 40,
   "metadata": {
    "ExecuteTime": {
     "end_time": "2021-03-23T07:46:49.664106Z",
     "start_time": "2021-03-23T07:46:49.471667Z"
    }
   },
   "outputs": [],
   "source": [
    "# Predicting the model\n",
    "y_predict_mlp = model_mlp.predict(X_test_new)"
   ]
  },
  {
   "cell_type": "code",
   "execution_count": 41,
   "metadata": {
    "ExecuteTime": {
     "end_time": "2021-03-23T07:46:49.788226Z",
     "start_time": "2021-03-23T07:46:49.664106Z"
    }
   },
   "outputs": [
    {
     "name": "stdout",
     "output_type": "stream",
     "text": [
      "0.4995648389904265\n",
      "              precision    recall  f1-score   support\n",
      "\n",
      "           1       0.05      0.51      0.08      1098\n",
      "           2       0.98      0.49      0.65     40176\n",
      "           3       0.10      0.88      0.19      1239\n",
      "\n",
      "    accuracy                           0.50     42513\n",
      "   macro avg       0.38      0.63      0.31     42513\n",
      "weighted avg       0.93      0.50      0.62     42513\n",
      "\n"
     ]
    }
   ],
   "source": [
    "# Finding accuracy, precision, recall and confusion matrix\n",
    "print(accuracy_score(y_test,y_predict_mlp))\n",
    "print(classification_report(y_test,y_predict_mlp))"
   ]
  },
  {
   "cell_type": "code",
   "execution_count": 42,
   "metadata": {
    "ExecuteTime": {
     "end_time": "2021-03-23T07:46:49.868420Z",
     "start_time": "2021-03-23T07:46:49.788226Z"
    }
   },
   "outputs": [
    {
     "data": {
      "text/plain": [
       "array([[  561,   286,   251],\n",
       "       [11489, 19588,  9099],\n",
       "       [   84,    66,  1089]], dtype=int64)"
      ]
     },
     "execution_count": 42,
     "metadata": {},
     "output_type": "execute_result"
    }
   ],
   "source": [
    "confusion_matrix(y_test,y_predict_mlp)"
   ]
  },
  {
   "cell_type": "code",
   "execution_count": 79,
   "metadata": {
    "ExecuteTime": {
     "end_time": "2021-03-23T08:35:38.109388Z",
     "start_time": "2021-03-23T08:35:38.093884Z"
    }
   },
   "outputs": [],
   "source": [
    "accuracy_mlp = (561+19588+1089)/(42513)*100"
   ]
  },
  {
   "cell_type": "code",
   "execution_count": 44,
   "metadata": {
    "ExecuteTime": {
     "end_time": "2021-03-23T07:46:49.905087Z",
     "start_time": "2021-03-23T07:46:49.892150Z"
    }
   },
   "outputs": [],
   "source": [
    "from sklearn.naive_bayes import GaussianNB\n",
    "from sklearn.naive_bayes import MultinomialNB"
   ]
  },
  {
   "cell_type": "code",
   "execution_count": 45,
   "metadata": {
    "ExecuteTime": {
     "end_time": "2021-03-23T07:46:49.921169Z",
     "start_time": "2021-03-23T07:46:49.907246Z"
    }
   },
   "outputs": [],
   "source": [
    "sgnb = GaussianNB()\n",
    "smnb = MultinomialNB()"
   ]
  },
  {
   "cell_type": "code",
   "execution_count": 46,
   "metadata": {
    "ExecuteTime": {
     "end_time": "2021-03-23T07:46:50.022267Z",
     "start_time": "2021-03-23T07:46:49.921169Z"
    }
   },
   "outputs": [],
   "source": [
    "spred_gnb = sgnb.fit(X_train_smote_new,y_train_smote)"
   ]
  },
  {
   "cell_type": "code",
   "execution_count": 47,
   "metadata": {
    "ExecuteTime": {
     "end_time": "2021-03-23T07:46:50.054531Z",
     "start_time": "2021-03-23T07:46:50.022267Z"
    }
   },
   "outputs": [],
   "source": [
    "# Predicting the model\n",
    "y_predict_sgnb = spred_gnb.predict(X_test_new)"
   ]
  },
  {
   "cell_type": "code",
   "execution_count": 48,
   "metadata": {
    "ExecuteTime": {
     "end_time": "2021-03-23T07:46:50.172603Z",
     "start_time": "2021-03-23T07:46:50.054531Z"
    }
   },
   "outputs": [
    {
     "name": "stdout",
     "output_type": "stream",
     "text": [
      "0.5137487356808506\n",
      "              precision    recall  f1-score   support\n",
      "\n",
      "           1       0.03      0.27      0.06      1098\n",
      "           2       0.97      0.52      0.67     40176\n",
      "           3       0.06      0.63      0.12      1239\n",
      "\n",
      "    accuracy                           0.51     42513\n",
      "   macro avg       0.36      0.47      0.28     42513\n",
      "weighted avg       0.92      0.51      0.64     42513\n",
      "\n"
     ]
    }
   ],
   "source": [
    "# Finding accuracy, precision, recall and confusion matrix\n",
    "print(accuracy_score(y_test,y_predict_sgnb))\n",
    "print(classification_report(y_test,y_predict_sgnb))"
   ]
  },
  {
   "cell_type": "code",
   "execution_count": 49,
   "metadata": {
    "ExecuteTime": {
     "end_time": "2021-03-23T07:46:50.250862Z",
     "start_time": "2021-03-23T07:46:50.176008Z"
    }
   },
   "outputs": [
    {
     "data": {
      "text/plain": [
       "array([[  299,   449,   350],\n",
       "       [ 8326, 20765, 11085],\n",
       "       [  309,   153,   777]], dtype=int64)"
      ]
     },
     "execution_count": 49,
     "metadata": {},
     "output_type": "execute_result"
    }
   ],
   "source": [
    "confusion_matrix(y_test,y_predict_sgnb )"
   ]
  },
  {
   "cell_type": "code",
   "execution_count": 80,
   "metadata": {
    "ExecuteTime": {
     "end_time": "2021-03-23T08:36:05.434533Z",
     "start_time": "2021-03-23T08:36:05.418535Z"
    }
   },
   "outputs": [],
   "source": [
    "accuracy_gnb = (299+20765+777)/(42513)*100"
   ]
  },
  {
   "cell_type": "code",
   "execution_count": 51,
   "metadata": {
    "ExecuteTime": {
     "end_time": "2021-03-23T07:46:50.372145Z",
     "start_time": "2021-03-23T07:46:50.267017Z"
    }
   },
   "outputs": [],
   "source": [
    "spred_mnb = smnb.fit(X_train_smote_new,y_train_smote)"
   ]
  },
  {
   "cell_type": "code",
   "execution_count": 52,
   "metadata": {
    "ExecuteTime": {
     "end_time": "2021-03-23T07:46:50.391632Z",
     "start_time": "2021-03-23T07:46:50.372145Z"
    }
   },
   "outputs": [],
   "source": [
    "# Predicting the model\n",
    "y_predict_smnb = spred_mnb.predict(X_test_new)"
   ]
  },
  {
   "cell_type": "code",
   "execution_count": 53,
   "metadata": {
    "ExecuteTime": {
     "end_time": "2021-03-23T07:46:50.503927Z",
     "start_time": "2021-03-23T07:46:50.393187Z"
    }
   },
   "outputs": [
    {
     "name": "stdout",
     "output_type": "stream",
     "text": [
      "0.5189471455789993\n",
      "              precision    recall  f1-score   support\n",
      "\n",
      "           1       0.04      0.13      0.06      1098\n",
      "           2       0.96      0.53      0.68     40176\n",
      "           3       0.04      0.59      0.08      1239\n",
      "\n",
      "    accuracy                           0.52     42513\n",
      "   macro avg       0.35      0.42      0.27     42513\n",
      "weighted avg       0.91      0.52      0.65     42513\n",
      "\n"
     ]
    }
   ],
   "source": [
    "# Finding accuracy, precision, recall and confusion matrix\n",
    "print(accuracy_score(y_test,y_predict_smnb))\n",
    "print(classification_report(y_test,y_predict_smnb))"
   ]
  },
  {
   "cell_type": "code",
   "execution_count": 54,
   "metadata": {
    "ExecuteTime": {
     "end_time": "2021-03-23T07:46:50.571958Z",
     "start_time": "2021-03-23T07:46:50.505981Z"
    }
   },
   "outputs": [
    {
     "data": {
      "text/plain": [
       "array([[  145,   476,   477],\n",
       "       [ 3289, 21183, 15704],\n",
       "       [  112,   393,   734]], dtype=int64)"
      ]
     },
     "execution_count": 54,
     "metadata": {},
     "output_type": "execute_result"
    }
   ],
   "source": [
    "confusion_matrix(y_test,y_predict_smnb)"
   ]
  },
  {
   "cell_type": "code",
   "execution_count": 81,
   "metadata": {
    "ExecuteTime": {
     "end_time": "2021-03-23T08:36:35.451641Z",
     "start_time": "2021-03-23T08:36:35.435469Z"
    }
   },
   "outputs": [],
   "source": [
    "accuracy_mnb =(145+21183+734)/(42513)*100"
   ]
  },
  {
   "cell_type": "code",
   "execution_count": 82,
   "metadata": {
    "ExecuteTime": {
     "end_time": "2021-03-23T08:36:39.832988Z",
     "start_time": "2021-03-23T08:36:39.794026Z"
    }
   },
   "outputs": [
    {
     "data": {
      "text/html": [
       "<div>\n",
       "<style scoped>\n",
       "    .dataframe tbody tr th:only-of-type {\n",
       "        vertical-align: middle;\n",
       "    }\n",
       "\n",
       "    .dataframe tbody tr th {\n",
       "        vertical-align: top;\n",
       "    }\n",
       "\n",
       "    .dataframe thead th {\n",
       "        text-align: right;\n",
       "    }\n",
       "</style>\n",
       "<table border=\"1\" class=\"dataframe\">\n",
       "  <thead>\n",
       "    <tr style=\"text-align: right;\">\n",
       "      <th></th>\n",
       "      <th>MODEL</th>\n",
       "      <th>Accuracy</th>\n",
       "    </tr>\n",
       "  </thead>\n",
       "  <tbody>\n",
       "    <tr>\n",
       "      <th>0</th>\n",
       "      <td>model_rf</td>\n",
       "      <td>97.859478</td>\n",
       "    </tr>\n",
       "    <tr>\n",
       "      <th>1</th>\n",
       "      <td>model_dtree</td>\n",
       "      <td>97.755981</td>\n",
       "    </tr>\n",
       "    <tr>\n",
       "      <th>2</th>\n",
       "      <td>model_knn</td>\n",
       "      <td>89.956013</td>\n",
       "    </tr>\n",
       "    <tr>\n",
       "      <th>3</th>\n",
       "      <td>model_xgb</td>\n",
       "      <td>91.160351</td>\n",
       "    </tr>\n",
       "    <tr>\n",
       "      <th>4</th>\n",
       "      <td>model_mlp</td>\n",
       "      <td>49.956484</td>\n",
       "    </tr>\n",
       "    <tr>\n",
       "      <th>5</th>\n",
       "      <td>spred_gnb</td>\n",
       "      <td>51.374874</td>\n",
       "    </tr>\n",
       "    <tr>\n",
       "      <th>6</th>\n",
       "      <td>spred_mnb</td>\n",
       "      <td>51.894715</td>\n",
       "    </tr>\n",
       "  </tbody>\n",
       "</table>\n",
       "</div>"
      ],
      "text/plain": [
       "         MODEL   Accuracy\n",
       "0     model_rf  97.859478\n",
       "1  model_dtree  97.755981\n",
       "2    model_knn  89.956013\n",
       "3    model_xgb  91.160351\n",
       "4    model_mlp  49.956484\n",
       "5   spred_gnb   51.374874\n",
       "6    spred_mnb  51.894715"
      ]
     },
     "execution_count": 82,
     "metadata": {},
     "output_type": "execute_result"
    }
   ],
   "source": [
    "data = {\"MODEL\":pd.Series([\"model_rf\",\"model_dtree\",\"model_knn\",\"model_xgb\",\"model_mlp\",\"spred_gnb \",\"spred_mnb\"]),\n",
    "        \"Accuracy\":pd.Series([accuracy_rf,accuracy_dtree,accuracy_knn,accuracy_XGB,accuracy_mlp,accuracy_gnb,accuracy_mnb])}\n",
    "table=pd.DataFrame(data)\n",
    "table "
   ]
  },
  {
   "cell_type": "code",
   "execution_count": 62,
   "metadata": {
    "ExecuteTime": {
     "end_time": "2021-03-23T08:03:02.464150Z",
     "start_time": "2021-03-23T08:03:02.370195Z"
    }
   },
   "outputs": [],
   "source": [
    "#Splitting Training and Test Set\n",
    "from sklearn.model_selection import train_test_split\n",
    "X_train,X_test,Y_train,Y_test = train_test_split(X,Y,test_size=0.25,random_state=0)\n"
   ]
  },
  {
   "cell_type": "code",
   "execution_count": 63,
   "metadata": {
    "ExecuteTime": {
     "end_time": "2021-03-23T08:03:28.798081Z",
     "start_time": "2021-03-23T08:03:28.593094Z"
    }
   },
   "outputs": [],
   "source": [
    "from sklearn.preprocessing import StandardScaler\n",
    "sc_X = StandardScaler()\n",
    "X_train = sc_X.fit_transform(X_train)\n",
    "X_test = sc_X.transform(X_test)\n"
   ]
  },
  {
   "cell_type": "code",
   "execution_count": 67,
   "metadata": {
    "ExecuteTime": {
     "end_time": "2021-03-23T08:19:23.490865Z",
     "start_time": "2021-03-23T08:19:21.665376Z"
    }
   },
   "outputs": [
    {
     "data": {
      "text/plain": [
       "DecisionTreeClassifier()"
      ]
     },
     "execution_count": 67,
     "metadata": {},
     "output_type": "execute_result"
    }
   ],
   "source": [
    "#Fitting Kernel_SVM Classification Model\n",
    "from sklearn.svm import SVC\n",
    "model1 = DecisionTreeClassifier() \n",
    "model1.fit(X_train,Y_train)"
   ]
  },
  {
   "cell_type": "code",
   "execution_count": 91,
   "metadata": {
    "ExecuteTime": {
     "end_time": "2021-03-23T08:50:11.496400Z",
     "start_time": "2021-03-23T08:48:30.760869Z"
    }
   },
   "outputs": [],
   "source": [
    "#Applying K-Fold Cross Validation\n",
    "from sklearn.model_selection import cross_val_score\n",
    "accuracy = cross_val_score(estimator=model1, X = X_train_smote, y = y_train_smote , cv=10)\n",
    "accuracy.mean()\n",
    "accuracy.std()\n",
    "#Predicting the test set results\n",
    "y_pred = model1.predict(X_test)"
   ]
  },
  {
   "cell_type": "code",
   "execution_count": 92,
   "metadata": {
    "ExecuteTime": {
     "end_time": "2021-03-23T08:50:19.055466Z",
     "start_time": "2021-03-23T08:50:19.036464Z"
    }
   },
   "outputs": [
    {
     "data": {
      "text/plain": [
       "array([0.92643467, 0.98428152, 0.98314865, 0.98300704, 0.98470634,\n",
       "       0.98290023, 0.98389152, 0.98406854, 0.98413935, 0.98173193])"
      ]
     },
     "execution_count": 92,
     "metadata": {},
     "output_type": "execute_result"
    }
   ],
   "source": [
    "accuracy"
   ]
  },
  {
   "cell_type": "code",
   "execution_count": null,
   "metadata": {},
   "outputs": [],
   "source": []
  }
 ],
 "metadata": {
  "kernelspec": {
   "display_name": "Python 3",
   "language": "python",
   "name": "python3"
  },
  "language_info": {
   "codemirror_mode": {
    "name": "ipython",
    "version": 3
   },
   "file_extension": ".py",
   "mimetype": "text/x-python",
   "name": "python",
   "nbconvert_exporter": "python",
   "pygments_lexer": "ipython3",
   "version": "3.8.3"
  },
  "varInspector": {
   "cols": {
    "lenName": 16,
    "lenType": 16,
    "lenVar": 40
   },
   "kernels_config": {
    "python": {
     "delete_cmd_postfix": "",
     "delete_cmd_prefix": "del ",
     "library": "var_list.py",
     "varRefreshCmd": "print(var_dic_list())"
    },
    "r": {
     "delete_cmd_postfix": ") ",
     "delete_cmd_prefix": "rm(",
     "library": "var_list.r",
     "varRefreshCmd": "cat(var_dic_list()) "
    }
   },
   "types_to_exclude": [
    "module",
    "function",
    "builtin_function_or_method",
    "instance",
    "_Feature"
   ],
   "window_display": false
  }
 },
 "nbformat": 4,
 "nbformat_minor": 4
}
