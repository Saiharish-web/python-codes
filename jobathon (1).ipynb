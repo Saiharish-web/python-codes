{
 "cells": [
  {
   "cell_type": "code",
   "execution_count": 1,
   "metadata": {
    "ExecuteTime": {
     "end_time": "2021-02-27T13:06:07.699225Z",
     "start_time": "2021-02-27T13:06:06.283323Z"
    }
   },
   "outputs": [],
   "source": [
    "import numpy as np\n",
    "import pandas as pd\n",
    "import matplotlib.pyplot as plt\n",
    "%matplotlib inline\n",
    "import seaborn as sns\n",
    "import warnings\n",
    "warnings.filterwarnings(\"ignore\")"
   ]
  },
  {
   "cell_type": "code",
   "execution_count": 2,
   "metadata": {
    "ExecuteTime": {
     "end_time": "2021-02-27T13:06:07.808635Z",
     "start_time": "2021-02-27T13:06:07.702218Z"
    }
   },
   "outputs": [],
   "source": [
    "df_train = pd.read_csv(\"train_Df64byy.csv\")\n",
    "df_test = pd.read_csv(\"test_YCcRUnU.csv\")"
   ]
  },
  {
   "cell_type": "code",
   "execution_count": 3,
   "metadata": {
    "ExecuteTime": {
     "end_time": "2021-02-27T13:06:07.824457Z",
     "start_time": "2021-02-27T13:06:07.811638Z"
    }
   },
   "outputs": [
    {
     "data": {
      "text/plain": [
       "((50882, 14), (21805, 13))"
      ]
     },
     "execution_count": 3,
     "metadata": {},
     "output_type": "execute_result"
    }
   ],
   "source": [
    "df_train.shape,df_test.shape"
   ]
  },
  {
   "cell_type": "code",
   "execution_count": 4,
   "metadata": {
    "ExecuteTime": {
     "end_time": "2021-02-27T13:06:07.855362Z",
     "start_time": "2021-02-27T13:06:07.828387Z"
    }
   },
   "outputs": [
    {
     "data": {
      "text/html": [
       "<div>\n",
       "<style scoped>\n",
       "    .dataframe tbody tr th:only-of-type {\n",
       "        vertical-align: middle;\n",
       "    }\n",
       "\n",
       "    .dataframe tbody tr th {\n",
       "        vertical-align: top;\n",
       "    }\n",
       "\n",
       "    .dataframe thead th {\n",
       "        text-align: right;\n",
       "    }\n",
       "</style>\n",
       "<table border=\"1\" class=\"dataframe\">\n",
       "  <thead>\n",
       "    <tr style=\"text-align: right;\">\n",
       "      <th></th>\n",
       "      <th>ID</th>\n",
       "      <th>City_Code</th>\n",
       "      <th>Region_Code</th>\n",
       "      <th>Accomodation_Type</th>\n",
       "      <th>Reco_Insurance_Type</th>\n",
       "      <th>Upper_Age</th>\n",
       "      <th>Lower_Age</th>\n",
       "      <th>Is_Spouse</th>\n",
       "      <th>Health Indicator</th>\n",
       "      <th>Holding_Policy_Duration</th>\n",
       "      <th>Holding_Policy_Type</th>\n",
       "      <th>Reco_Policy_Cat</th>\n",
       "      <th>Reco_Policy_Premium</th>\n",
       "      <th>Response</th>\n",
       "    </tr>\n",
       "  </thead>\n",
       "  <tbody>\n",
       "    <tr>\n",
       "      <th>0</th>\n",
       "      <td>1</td>\n",
       "      <td>C3</td>\n",
       "      <td>3213</td>\n",
       "      <td>Rented</td>\n",
       "      <td>Individual</td>\n",
       "      <td>36</td>\n",
       "      <td>36</td>\n",
       "      <td>No</td>\n",
       "      <td>X1</td>\n",
       "      <td>14+</td>\n",
       "      <td>3.0</td>\n",
       "      <td>22</td>\n",
       "      <td>11628.0</td>\n",
       "      <td>0</td>\n",
       "    </tr>\n",
       "    <tr>\n",
       "      <th>1</th>\n",
       "      <td>2</td>\n",
       "      <td>C5</td>\n",
       "      <td>1117</td>\n",
       "      <td>Owned</td>\n",
       "      <td>Joint</td>\n",
       "      <td>75</td>\n",
       "      <td>22</td>\n",
       "      <td>No</td>\n",
       "      <td>X2</td>\n",
       "      <td>NaN</td>\n",
       "      <td>NaN</td>\n",
       "      <td>22</td>\n",
       "      <td>30510.0</td>\n",
       "      <td>0</td>\n",
       "    </tr>\n",
       "    <tr>\n",
       "      <th>2</th>\n",
       "      <td>3</td>\n",
       "      <td>C5</td>\n",
       "      <td>3732</td>\n",
       "      <td>Owned</td>\n",
       "      <td>Individual</td>\n",
       "      <td>32</td>\n",
       "      <td>32</td>\n",
       "      <td>No</td>\n",
       "      <td>NaN</td>\n",
       "      <td>1.0</td>\n",
       "      <td>1.0</td>\n",
       "      <td>19</td>\n",
       "      <td>7450.0</td>\n",
       "      <td>1</td>\n",
       "    </tr>\n",
       "    <tr>\n",
       "      <th>3</th>\n",
       "      <td>4</td>\n",
       "      <td>C24</td>\n",
       "      <td>4378</td>\n",
       "      <td>Owned</td>\n",
       "      <td>Joint</td>\n",
       "      <td>52</td>\n",
       "      <td>48</td>\n",
       "      <td>No</td>\n",
       "      <td>X1</td>\n",
       "      <td>14+</td>\n",
       "      <td>3.0</td>\n",
       "      <td>19</td>\n",
       "      <td>17780.0</td>\n",
       "      <td>0</td>\n",
       "    </tr>\n",
       "    <tr>\n",
       "      <th>4</th>\n",
       "      <td>5</td>\n",
       "      <td>C8</td>\n",
       "      <td>2190</td>\n",
       "      <td>Rented</td>\n",
       "      <td>Individual</td>\n",
       "      <td>44</td>\n",
       "      <td>44</td>\n",
       "      <td>No</td>\n",
       "      <td>X2</td>\n",
       "      <td>3.0</td>\n",
       "      <td>1.0</td>\n",
       "      <td>16</td>\n",
       "      <td>10404.0</td>\n",
       "      <td>0</td>\n",
       "    </tr>\n",
       "  </tbody>\n",
       "</table>\n",
       "</div>"
      ],
      "text/plain": [
       "   ID City_Code  Region_Code Accomodation_Type Reco_Insurance_Type  Upper_Age  \\\n",
       "0   1        C3         3213            Rented          Individual         36   \n",
       "1   2        C5         1117             Owned               Joint         75   \n",
       "2   3        C5         3732             Owned          Individual         32   \n",
       "3   4       C24         4378             Owned               Joint         52   \n",
       "4   5        C8         2190            Rented          Individual         44   \n",
       "\n",
       "   Lower_Age Is_Spouse Health Indicator Holding_Policy_Duration  \\\n",
       "0         36        No               X1                     14+   \n",
       "1         22        No               X2                     NaN   \n",
       "2         32        No              NaN                     1.0   \n",
       "3         48        No               X1                     14+   \n",
       "4         44        No               X2                     3.0   \n",
       "\n",
       "   Holding_Policy_Type  Reco_Policy_Cat  Reco_Policy_Premium  Response  \n",
       "0                  3.0               22              11628.0         0  \n",
       "1                  NaN               22              30510.0         0  \n",
       "2                  1.0               19               7450.0         1  \n",
       "3                  3.0               19              17780.0         0  \n",
       "4                  1.0               16              10404.0         0  "
      ]
     },
     "execution_count": 4,
     "metadata": {},
     "output_type": "execute_result"
    }
   ],
   "source": [
    "df_train.head()"
   ]
  },
  {
   "cell_type": "code",
   "execution_count": 5,
   "metadata": {
    "ExecuteTime": {
     "end_time": "2021-02-27T13:06:07.887253Z",
     "start_time": "2021-02-27T13:06:07.858356Z"
    }
   },
   "outputs": [
    {
     "data": {
      "text/plain": [
       "ID                             0\n",
       "City_Code                      0\n",
       "Region_Code                    0\n",
       "Accomodation_Type              0\n",
       "Reco_Insurance_Type            0\n",
       "Upper_Age                      0\n",
       "Lower_Age                      0\n",
       "Is_Spouse                      0\n",
       "Health Indicator           11691\n",
       "Holding_Policy_Duration    20251\n",
       "Holding_Policy_Type        20251\n",
       "Reco_Policy_Cat                0\n",
       "Reco_Policy_Premium            0\n",
       "Response                       0\n",
       "dtype: int64"
      ]
     },
     "execution_count": 5,
     "metadata": {},
     "output_type": "execute_result"
    }
   ],
   "source": [
    "df_train.isna().sum()"
   ]
  },
  {
   "cell_type": "code",
   "execution_count": 6,
   "metadata": {
    "ExecuteTime": {
     "end_time": "2021-02-27T13:06:07.918850Z",
     "start_time": "2021-02-27T13:06:07.891758Z"
    }
   },
   "outputs": [
    {
     "data": {
      "text/html": [
       "<div>\n",
       "<style scoped>\n",
       "    .dataframe tbody tr th:only-of-type {\n",
       "        vertical-align: middle;\n",
       "    }\n",
       "\n",
       "    .dataframe tbody tr th {\n",
       "        vertical-align: top;\n",
       "    }\n",
       "\n",
       "    .dataframe thead th {\n",
       "        text-align: right;\n",
       "    }\n",
       "</style>\n",
       "<table border=\"1\" class=\"dataframe\">\n",
       "  <thead>\n",
       "    <tr style=\"text-align: right;\">\n",
       "      <th></th>\n",
       "      <th>City_Code</th>\n",
       "      <th>Region_Code</th>\n",
       "      <th>Accomodation_Type</th>\n",
       "      <th>Reco_Insurance_Type</th>\n",
       "      <th>Upper_Age</th>\n",
       "      <th>Lower_Age</th>\n",
       "      <th>Is_Spouse</th>\n",
       "      <th>Health Indicator</th>\n",
       "      <th>Holding_Policy_Duration</th>\n",
       "      <th>Holding_Policy_Type</th>\n",
       "      <th>Reco_Policy_Cat</th>\n",
       "      <th>Reco_Policy_Premium</th>\n",
       "      <th>Response</th>\n",
       "    </tr>\n",
       "  </thead>\n",
       "  <tbody>\n",
       "    <tr>\n",
       "      <th>0</th>\n",
       "      <td>C3</td>\n",
       "      <td>3213</td>\n",
       "      <td>Rented</td>\n",
       "      <td>Individual</td>\n",
       "      <td>36</td>\n",
       "      <td>36</td>\n",
       "      <td>No</td>\n",
       "      <td>X1</td>\n",
       "      <td>14+</td>\n",
       "      <td>3.0</td>\n",
       "      <td>22</td>\n",
       "      <td>11628.0</td>\n",
       "      <td>0</td>\n",
       "    </tr>\n",
       "    <tr>\n",
       "      <th>1</th>\n",
       "      <td>C5</td>\n",
       "      <td>1117</td>\n",
       "      <td>Owned</td>\n",
       "      <td>Joint</td>\n",
       "      <td>75</td>\n",
       "      <td>22</td>\n",
       "      <td>No</td>\n",
       "      <td>X2</td>\n",
       "      <td>NaN</td>\n",
       "      <td>NaN</td>\n",
       "      <td>22</td>\n",
       "      <td>30510.0</td>\n",
       "      <td>0</td>\n",
       "    </tr>\n",
       "    <tr>\n",
       "      <th>2</th>\n",
       "      <td>C5</td>\n",
       "      <td>3732</td>\n",
       "      <td>Owned</td>\n",
       "      <td>Individual</td>\n",
       "      <td>32</td>\n",
       "      <td>32</td>\n",
       "      <td>No</td>\n",
       "      <td>NaN</td>\n",
       "      <td>1.0</td>\n",
       "      <td>1.0</td>\n",
       "      <td>19</td>\n",
       "      <td>7450.0</td>\n",
       "      <td>1</td>\n",
       "    </tr>\n",
       "    <tr>\n",
       "      <th>3</th>\n",
       "      <td>C24</td>\n",
       "      <td>4378</td>\n",
       "      <td>Owned</td>\n",
       "      <td>Joint</td>\n",
       "      <td>52</td>\n",
       "      <td>48</td>\n",
       "      <td>No</td>\n",
       "      <td>X1</td>\n",
       "      <td>14+</td>\n",
       "      <td>3.0</td>\n",
       "      <td>19</td>\n",
       "      <td>17780.0</td>\n",
       "      <td>0</td>\n",
       "    </tr>\n",
       "    <tr>\n",
       "      <th>4</th>\n",
       "      <td>C8</td>\n",
       "      <td>2190</td>\n",
       "      <td>Rented</td>\n",
       "      <td>Individual</td>\n",
       "      <td>44</td>\n",
       "      <td>44</td>\n",
       "      <td>No</td>\n",
       "      <td>X2</td>\n",
       "      <td>3.0</td>\n",
       "      <td>1.0</td>\n",
       "      <td>16</td>\n",
       "      <td>10404.0</td>\n",
       "      <td>0</td>\n",
       "    </tr>\n",
       "  </tbody>\n",
       "</table>\n",
       "</div>"
      ],
      "text/plain": [
       "  City_Code  Region_Code Accomodation_Type Reco_Insurance_Type  Upper_Age  \\\n",
       "0        C3         3213            Rented          Individual         36   \n",
       "1        C5         1117             Owned               Joint         75   \n",
       "2        C5         3732             Owned          Individual         32   \n",
       "3       C24         4378             Owned               Joint         52   \n",
       "4        C8         2190            Rented          Individual         44   \n",
       "\n",
       "   Lower_Age Is_Spouse Health Indicator Holding_Policy_Duration  \\\n",
       "0         36        No               X1                     14+   \n",
       "1         22        No               X2                     NaN   \n",
       "2         32        No              NaN                     1.0   \n",
       "3         48        No               X1                     14+   \n",
       "4         44        No               X2                     3.0   \n",
       "\n",
       "   Holding_Policy_Type  Reco_Policy_Cat  Reco_Policy_Premium  Response  \n",
       "0                  3.0               22              11628.0         0  \n",
       "1                  NaN               22              30510.0         0  \n",
       "2                  1.0               19               7450.0         1  \n",
       "3                  3.0               19              17780.0         0  \n",
       "4                  1.0               16              10404.0         0  "
      ]
     },
     "execution_count": 6,
     "metadata": {},
     "output_type": "execute_result"
    }
   ],
   "source": [
    "df_train = df_train.drop(['ID'],axis=1)\n",
    "df_train.head()"
   ]
  },
  {
   "cell_type": "code",
   "execution_count": 7,
   "metadata": {
    "ExecuteTime": {
     "end_time": "2021-02-27T13:06:08.802211Z",
     "start_time": "2021-02-27T13:06:07.922234Z"
    }
   },
   "outputs": [
    {
     "data": {
      "text/plain": [
       "array([[<matplotlib.axes._subplots.AxesSubplot object at 0x00000248404C9B80>,\n",
       "        <matplotlib.axes._subplots.AxesSubplot object at 0x000002484051A0D0>,\n",
       "        <matplotlib.axes._subplots.AxesSubplot object at 0x00000248405544C0>],\n",
       "       [<matplotlib.axes._subplots.AxesSubplot object at 0x0000024840580940>,\n",
       "        <matplotlib.axes._subplots.AxesSubplot object at 0x00000248405ADD90>,\n",
       "        <matplotlib.axes._subplots.AxesSubplot object at 0x00000248405E5160>],\n",
       "       [<matplotlib.axes._subplots.AxesSubplot object at 0x00000248405E5250>,\n",
       "        <matplotlib.axes._subplots.AxesSubplot object at 0x0000024840C0DAF0>,\n",
       "        <matplotlib.axes._subplots.AxesSubplot object at 0x0000024840C39040>]],\n",
       "      dtype=object)"
      ]
     },
     "execution_count": 7,
     "metadata": {},
     "output_type": "execute_result"
    },
    {
     "data": {
      "image/png": "[encoded data removed]",
      "text/plain": [
       "<Figure size 1080x1296 with 9 Axes>"
      ]
     },
     "metadata": {
      "needs_background": "light"
     },
     "output_type": "display_data"
    }
   ],
   "source": [
    "plt.rcParams[\"figure.figsize\"] = 15,18\n",
    "df_train.hist()"
   ]
  },
  {
   "cell_type": "code",
   "execution_count": 8,
   "metadata": {
    "ExecuteTime": {
     "end_time": "2021-02-27T13:06:08.958398Z",
     "start_time": "2021-02-27T13:06:08.808194Z"
    }
   },
   "outputs": [
    {
     "data": {
      "text/plain": [
       "<matplotlib.axes._subplots.AxesSubplot at 0x248414123a0>"
      ]
     },
     "execution_count": 8,
     "metadata": {},
     "output_type": "execute_result"
    },
    {
     "data": {
      "image/png": "[encoded data removed]",
      "text/plain": [
       "<Figure size 504x360 with 1 Axes>"
      ]
     },
     "metadata": {
      "needs_background": "light"
     },
     "output_type": "display_data"
    }
   ],
   "source": [
    "plt.rcParams[\"figure.figsize\"] = 7,5\n",
    "df_train['Holding_Policy_Type'] = np.log1p(df_train['Holding_Policy_Type'])\n",
    "df_train['Holding_Policy_Type'].hist()"
   ]
  },
  {
   "cell_type": "code",
   "execution_count": 9,
   "metadata": {
    "ExecuteTime": {
     "end_time": "2021-02-27T13:06:09.117296Z",
     "start_time": "2021-02-27T13:06:08.960316Z"
    }
   },
   "outputs": [
    {
     "data": {
      "text/plain": [
       "<matplotlib.axes._subplots.AxesSubplot at 0x24841814490>"
      ]
     },
     "execution_count": 9,
     "metadata": {},
     "output_type": "execute_result"
    },
    {
     "data": {
      "image/png": "[encoded data removed]",
      "text/plain": [
       "<Figure size 504x360 with 1 Axes>"
      ]
     },
     "metadata": {
      "needs_background": "light"
     },
     "output_type": "display_data"
    }
   ],
   "source": [
    "df_train['Lower_Age']= np.log1p(df_train['Lower_Age'])\n",
    "df_train['Lower_Age'].hist()"
   ]
  },
  {
   "cell_type": "code",
   "execution_count": 10,
   "metadata": {
    "ExecuteTime": {
     "end_time": "2021-02-27T13:06:09.259400Z",
     "start_time": "2021-02-27T13:06:09.118197Z"
    }
   },
   "outputs": [
    {
     "data": {
      "text/plain": [
       "<matplotlib.axes._subplots.AxesSubplot at 0x24841a2bd00>"
      ]
     },
     "execution_count": 10,
     "metadata": {},
     "output_type": "execute_result"
    },
    {
     "data": {
      "image/png": "[encoded data removed]",
      "text/plain": [
       "<Figure size 504x360 with 1 Axes>"
      ]
     },
     "metadata": {
      "needs_background": "light"
     },
     "output_type": "display_data"
    }
   ],
   "source": [
    "df_train['Reco_Policy_Cat']= np.log1p(df_train['Reco_Policy_Cat'])\n",
    "df_train['Reco_Policy_Cat'].hist()"
   ]
  },
  {
   "cell_type": "code",
   "execution_count": 11,
   "metadata": {
    "ExecuteTime": {
     "end_time": "2021-02-27T13:06:09.416656Z",
     "start_time": "2021-02-27T13:06:09.260335Z"
    }
   },
   "outputs": [
    {
     "data": {
      "text/plain": [
       "<matplotlib.axes._subplots.AxesSubplot at 0x24841878af0>"
      ]
     },
     "execution_count": 11,
     "metadata": {},
     "output_type": "execute_result"
    },
    {
     "data": {
      "image/png": "[encoded data removed]",
      "text/plain": [
       "<Figure size 504x360 with 1 Axes>"
      ]
     },
     "metadata": {
      "needs_background": "light"
     },
     "output_type": "display_data"
    }
   ],
   "source": [
    "df_train['Reco_Policy_Premium']= np.log1p(df_train['Reco_Policy_Premium'])\n",
    "df_train['Reco_Policy_Premium'].hist()"
   ]
  },
  {
   "cell_type": "code",
   "execution_count": 12,
   "metadata": {
    "ExecuteTime": {
     "end_time": "2021-02-27T13:06:09.588843Z",
     "start_time": "2021-02-27T13:06:09.418655Z"
    }
   },
   "outputs": [
    {
     "data": {
      "text/plain": [
       "<matplotlib.axes._subplots.AxesSubplot at 0x248418cc8b0>"
      ]
     },
     "execution_count": 12,
     "metadata": {},
     "output_type": "execute_result"
    },
    {
     "data": {
      "image/png": "[encoded data removed]",
      "text/plain": [
       "<Figure size 504x360 with 1 Axes>"
      ]
     },
     "metadata": {
      "needs_background": "light"
     },
     "output_type": "display_data"
    }
   ],
   "source": [
    "df_train['Region_Code']= np.log1p(df_train['Region_Code'])\n",
    "df_train['Region_Code'].hist()"
   ]
  },
  {
   "cell_type": "code",
   "execution_count": 13,
   "metadata": {
    "ExecuteTime": {
     "end_time": "2021-02-27T13:06:09.807728Z",
     "start_time": "2021-02-27T13:06:09.590656Z"
    }
   },
   "outputs": [
    {
     "data": {
      "text/plain": [
       "<matplotlib.axes._subplots.AxesSubplot at 0x248418c36a0>"
      ]
     },
     "execution_count": 13,
     "metadata": {},
     "output_type": "execute_result"
    },
    {
     "data": {
      "image/png": "[encoded data removed]",
      "text/plain": [
       "<Figure size 504x360 with 1 Axes>"
      ]
     },
     "metadata": {
      "needs_background": "light"
     },
     "output_type": "display_data"
    }
   ],
   "source": [
    "dff_train['Response']= np.log1p(df_train['Response'])\n",
    "df_train['Response'].hist()"
   ]
  },
  {
   "cell_type": "code",
   "execution_count": null,
   "metadata": {},
   "outputs": [],
   "source": [
    "cat_label = [var for var in df_train.columns if df_train[var].dtypes == \"object\"]\n",
    "cat_label = df_train[cat_label]\n",
    "cat_label"
   ]
  },
  {
   "cell_type": "code",
   "execution_count": null,
   "metadata": {},
   "outputs": [],
   "source": [
    "df_train['Gender'] = pd.get_dummies(df_train['Gender'])"
   ]
  },
  {
   "cell_type": "code",
   "execution_count": 18,
   "metadata": {
    "ExecuteTime": {
     "end_time": "2021-02-27T13:06:10.077062Z",
     "start_time": "2021-02-27T13:06:10.063562Z"
    }
   },
   "outputs": [
    {
     "data": {
      "text/plain": [
       "1    27951\n",
       "0    22931\n",
       "Name: Accomodation_Type, dtype: int64"
      ]
     },
     "execution_count": 18,
     "metadata": {},
     "output_type": "execute_result"
    }
   ],
   "source": [
    "df_train['Accomodation_Type'].value_counts()"
   ]
  },
  {
   "cell_type": "code",
   "execution_count": 19,
   "metadata": {
    "ExecuteTime": {
     "end_time": "2021-02-27T13:06:10.123498Z",
     "start_time": "2021-02-27T13:06:10.080021Z"
    }
   },
   "outputs": [],
   "source": [
    "def encode_Reco_Insurance_Type(Reco_Insurance_Type):\n",
    "    if Reco_Insurance_Type ==\"Individual\":\n",
    "        return 1\n",
    "    else:\n",
    "        return 0\n",
    "    \n",
    "df_train['Reco_Insurance_Type'] = df_train['Reco_Insurance_Type'].apply(encode_Reco_Insurance_Type)"
   ]
  },
  {
   "cell_type": "code",
   "execution_count": 20,
   "metadata": {
    "ExecuteTime": {
     "end_time": "2021-02-27T13:06:10.138644Z",
     "start_time": "2021-02-27T13:06:10.126684Z"
    }
   },
   "outputs": [],
   "source": [
    "df_train['Is_Spouse'] = pd.get_dummies(df_train['Is_Spouse'])"
   ]
  },
  {
   "cell_type": "code",
   "execution_count": 21,
   "metadata": {
    "ExecuteTime": {
     "end_time": "2021-02-27T13:06:10.169811Z",
     "start_time": "2021-02-27T13:06:10.140637Z"
    }
   },
   "outputs": [
    {
     "data": {
      "text/plain": [
       "X1    13010\n",
       "X2    10332\n",
       "X3     6762\n",
       "X4     5743\n",
       "X5     1727\n",
       "X6     1280\n",
       "X7      196\n",
       "X8       78\n",
       "X9       63\n",
       "Name: Health Indicator, dtype: int64"
      ]
     },
     "execution_count": 21,
     "metadata": {},
     "output_type": "execute_result"
    }
   ],
   "source": [
    "df_train['Health Indicator'].value_counts()"
   ]
  },
  {
   "cell_type": "code",
   "execution_count": 22,
   "metadata": {
    "ExecuteTime": {
     "end_time": "2021-02-27T13:06:10.185122Z",
     "start_time": "2021-02-27T13:06:10.172775Z"
    }
   },
   "outputs": [
    {
     "data": {
      "text/plain": [
       "Index(['City_Code', 'Region_Code', 'Accomodation_Type', 'Reco_Insurance_Type',\n",
       "       'Upper_Age', 'Lower_Age', 'Is_Spouse', 'Health Indicator',\n",
       "       'Holding_Policy_Duration', 'Holding_Policy_Type', 'Reco_Policy_Cat',\n",
       "       'Reco_Policy_Premium', 'Response'],\n",
       "      dtype='object')"
      ]
     },
     "execution_count": 22,
     "metadata": {},
     "output_type": "execute_result"
    }
   ],
   "source": [
    "df_train.columns"
   ]
  },
  {
   "cell_type": "code",
   "execution_count": 23,
   "metadata": {
    "ExecuteTime": {
     "end_time": "2021-02-27T13:06:10.201257Z",
     "start_time": "2021-02-27T13:06:10.188122Z"
    }
   },
   "outputs": [],
   "source": [
    "df_train.columns=['CityCode', 'RegionCode', 'AccomodationType', 'RecoInsuranceType',\n",
    "       'UpperAge', 'LowerAge', 'IsSpouse', 'HealthIndicator',\n",
    "       'HoldingPolicyDuration', 'HoldingPolicyType', 'RecoPolicyCat',\n",
    "       'RecoPolicyPremium', 'Response']"
   ]
  },
  {
   "cell_type": "code",
   "execution_count": 24,
   "metadata": {
    "ExecuteTime": {
     "end_time": "2021-02-27T13:06:10.247524Z",
     "start_time": "2021-02-27T13:06:10.206840Z"
    }
   },
   "outputs": [],
   "source": [
    "def encode_HealthIndicator(HealthIndicator):\n",
    "    if HealthIndicator ==\"X1\":\n",
    "        return 1\n",
    "    elif HealthIndicator ==\"X2\":\n",
    "        return 2\n",
    "    elif HealthIndicator ==\"X3\":\n",
    "        return 3\n",
    "    elif HealthIndicator ==\"X4\":\n",
    "        return 4\n",
    "    elif HealthIndicator ==\"X5\":\n",
    "        return 5\n",
    "    elif HealthIndicator ==\"X6\":\n",
    "        return 6\n",
    "    elif HealthIndicator ==\"X7\":\n",
    "        return 7\n",
    "    elif HealthIndicator ==\"X8\":\n",
    "        return 8\n",
    "    elif HealthIndicator ==\"X9\":\n",
    "        return 9\n",
    "    \n",
    "    \n",
    "df_train['HealthIndicator'] = df_train['HealthIndicator'].apply(encode_HealthIndicator)"
   ]
  },
  {
   "cell_type": "code",
   "execution_count": 25,
   "metadata": {
    "ExecuteTime": {
     "end_time": "2021-02-27T13:06:10.293611Z",
     "start_time": "2021-02-27T13:06:10.249410Z"
    }
   },
   "outputs": [],
   "source": [
    "def encode_CityCode(CityCode):\n",
    "    if CityCode ==\"C1\":\n",
    "        return 1\n",
    "    elif CityCode ==\"C2\":\n",
    "        return 2\n",
    "    elif CityCode ==\"C3\":\n",
    "        return 3\n",
    "    elif CityCode ==\"C4\":\n",
    "        return 4\n",
    "    elif CityCode ==\"C5\":\n",
    "        return 5\n",
    "    elif CityCode ==\"C6\":\n",
    "        return 6\n",
    "    elif CityCode ==\"C7\":\n",
    "        return 7\n",
    "    elif CityCode ==\"C8\":\n",
    "        return 8\n",
    "    elif CityCode ==\"C9\":\n",
    "        return 9\n",
    "    elif CityCode ==\"C10\":\n",
    "        return 10\n",
    "    elif CityCode ==\"C11\":\n",
    "        return 11\n",
    "    elif CityCode ==\"C12\":\n",
    "        return 12\n",
    "    elif CityCode ==\"C13\":\n",
    "        return 13\n",
    "    elif CityCode ==\"C14\":\n",
    "        return 14\n",
    "    elif CityCode ==\"C15\":\n",
    "        return 15\n",
    "    elif CityCode ==\"C16\":\n",
    "        return 16\n",
    "    elif CityCode ==\"C17\":\n",
    "        return 17\n",
    "    elif CityCode ==\"C18\":\n",
    "        return 18\n",
    "    elif CityCode ==\"C19\":\n",
    "        return 19\n",
    "    elif CityCode ==\"C20\":\n",
    "        return 20\n",
    "    elif CityCode ==\"C21\":\n",
    "        return 21\n",
    "    elif CityCode ==\"C22\":\n",
    "        return 22\n",
    "    elif CityCode ==\"C23\":\n",
    "        return 23\n",
    "    elif CityCode ==\"C24\":\n",
    "        return 24\n",
    "    elif CityCode ==\"C25\":\n",
    "        return 25\n",
    "    elif CityCode ==\"C26\":\n",
    "        return 26\n",
    "    elif CityCode ==\"C27\":\n",
    "        return 27\n",
    "    elif CityCode ==\"C28\":\n",
    "        return 28\n",
    "    elif CityCode ==\"C29\":\n",
    "        return 29\n",
    "    elif CityCode ==\"C30\":\n",
    "        return 30\n",
    "    elif CityCode ==\"C31\":\n",
    "        return 31\n",
    "    elif CityCode ==\"C32\":\n",
    "        return 32\n",
    "    elif CityCode ==\"C33\":\n",
    "        return 33\n",
    "    elif CityCode ==\"C34\":\n",
    "        return 34\n",
    "    elif CityCode ==\"C35\":\n",
    "        return 35\n",
    "    elif CityCode ==\"C36\":\n",
    "        return 36\n",
    "    \n",
    "    \n",
    "        \n",
    "df_train['CityCode'] = df_train['CityCode'].apply(encode_CityCode)"
   ]
  },
  {
   "cell_type": "code",
   "execution_count": 26,
   "metadata": {
    "ExecuteTime": {
     "end_time": "2021-02-27T13:06:10.341435Z",
     "start_time": "2021-02-27T13:06:10.296566Z"
    }
   },
   "outputs": [],
   "source": [
    "def encode_HoldingPolicyDuration(HoldingPolicyDuration):\n",
    "    if HoldingPolicyDuration =='1.0':\n",
    "        return 1\n",
    "    elif HoldingPolicyDuration =='2.0':\n",
    "        return 2\n",
    "    elif HoldingPolicyDuration =='3.0':\n",
    "        return 3\n",
    "    elif HoldingPolicyDuration =='4.0':\n",
    "        return 4\n",
    "    elif HoldingPolicyDuration =='5.0':\n",
    "        return 5\n",
    "    elif HoldingPolicyDuration =='6.0':\n",
    "        return 6\n",
    "    elif HoldingPolicyDuration =='7.0':\n",
    "        return 7\n",
    "    elif HoldingPolicyDuration =='8.0':\n",
    "        return 8\n",
    "    elif HoldingPolicyDuration =='9.0':\n",
    "        return 9\n",
    "    elif HoldingPolicyDuration =='10.0':\n",
    "        return 10\n",
    "    elif HoldingPolicyDuration =='11.0':\n",
    "        return 11\n",
    "    elif HoldingPolicyDuration =='12.0':\n",
    "        return 12\n",
    "    elif HoldingPolicyDuration =='13.0':\n",
    "        return 13\n",
    "    elif HoldingPolicyDuration =='14.0':\n",
    "        return 14\n",
    "    elif HoldingPolicyDuration =='14.0+':\n",
    "        return 15\n",
    "\n",
    "    \n",
    "df_train['HoldingPolicyDuration'] = df_train['HoldingPolicyDuration'].apply(encode_HoldingPolicyDuration)"
   ]
  },
  {
   "cell_type": "code",
   "execution_count": 27,
   "metadata": {
    "ExecuteTime": {
     "end_time": "2021-02-27T13:06:10.371710Z",
     "start_time": "2021-02-27T13:06:10.343867Z"
    }
   },
   "outputs": [
    {
     "data": {
      "text/html": [
       "<div>\n",
       "<style scoped>\n",
       "    .dataframe tbody tr th:only-of-type {\n",
       "        vertical-align: middle;\n",
       "    }\n",
       "\n",
       "    .dataframe tbody tr th {\n",
       "        vertical-align: top;\n",
       "    }\n",
       "\n",
       "    .dataframe thead th {\n",
       "        text-align: right;\n",
       "    }\n",
       "</style>\n",
       "<table border=\"1\" class=\"dataframe\">\n",
       "  <thead>\n",
       "    <tr style=\"text-align: right;\">\n",
       "      <th></th>\n",
       "      <th>CityCode</th>\n",
       "      <th>RegionCode</th>\n",
       "      <th>AccomodationType</th>\n",
       "      <th>RecoInsuranceType</th>\n",
       "      <th>UpperAge</th>\n",
       "      <th>LowerAge</th>\n",
       "      <th>IsSpouse</th>\n",
       "      <th>HealthIndicator</th>\n",
       "      <th>HoldingPolicyDuration</th>\n",
       "      <th>HoldingPolicyType</th>\n",
       "      <th>RecoPolicyCat</th>\n",
       "      <th>RecoPolicyPremium</th>\n",
       "      <th>Response</th>\n",
       "    </tr>\n",
       "  </thead>\n",
       "  <tbody>\n",
       "    <tr>\n",
       "      <th>0</th>\n",
       "      <td>3</td>\n",
       "      <td>8.075272</td>\n",
       "      <td>0</td>\n",
       "      <td>1</td>\n",
       "      <td>3.610918</td>\n",
       "      <td>3.610918</td>\n",
       "      <td>1</td>\n",
       "      <td>1.0</td>\n",
       "      <td>NaN</td>\n",
       "      <td>1.386294</td>\n",
       "      <td>3.135494</td>\n",
       "      <td>9.361257</td>\n",
       "      <td>0.000000</td>\n",
       "    </tr>\n",
       "    <tr>\n",
       "      <th>1</th>\n",
       "      <td>5</td>\n",
       "      <td>7.019297</td>\n",
       "      <td>1</td>\n",
       "      <td>0</td>\n",
       "      <td>4.330733</td>\n",
       "      <td>3.135494</td>\n",
       "      <td>1</td>\n",
       "      <td>2.0</td>\n",
       "      <td>NaN</td>\n",
       "      <td>NaN</td>\n",
       "      <td>3.135494</td>\n",
       "      <td>10.325843</td>\n",
       "      <td>0.000000</td>\n",
       "    </tr>\n",
       "    <tr>\n",
       "      <th>2</th>\n",
       "      <td>5</td>\n",
       "      <td>8.224967</td>\n",
       "      <td>1</td>\n",
       "      <td>1</td>\n",
       "      <td>3.496508</td>\n",
       "      <td>3.496508</td>\n",
       "      <td>1</td>\n",
       "      <td>NaN</td>\n",
       "      <td>1.0</td>\n",
       "      <td>0.693147</td>\n",
       "      <td>2.995732</td>\n",
       "      <td>8.916104</td>\n",
       "      <td>0.693147</td>\n",
       "    </tr>\n",
       "    <tr>\n",
       "      <th>3</th>\n",
       "      <td>24</td>\n",
       "      <td>8.384576</td>\n",
       "      <td>1</td>\n",
       "      <td>0</td>\n",
       "      <td>3.970292</td>\n",
       "      <td>3.891820</td>\n",
       "      <td>1</td>\n",
       "      <td>1.0</td>\n",
       "      <td>NaN</td>\n",
       "      <td>1.386294</td>\n",
       "      <td>2.995732</td>\n",
       "      <td>9.785886</td>\n",
       "      <td>0.000000</td>\n",
       "    </tr>\n",
       "    <tr>\n",
       "      <th>4</th>\n",
       "      <td>8</td>\n",
       "      <td>7.692113</td>\n",
       "      <td>0</td>\n",
       "      <td>1</td>\n",
       "      <td>3.806662</td>\n",
       "      <td>3.806662</td>\n",
       "      <td>1</td>\n",
       "      <td>2.0</td>\n",
       "      <td>3.0</td>\n",
       "      <td>0.693147</td>\n",
       "      <td>2.833213</td>\n",
       "      <td>9.250042</td>\n",
       "      <td>0.000000</td>\n",
       "    </tr>\n",
       "  </tbody>\n",
       "</table>\n",
       "</div>"
      ],
      "text/plain": [
       "   CityCode  RegionCode  AccomodationType  RecoInsuranceType  UpperAge  \\\n",
       "0         3    8.075272                 0                  1  3.610918   \n",
       "1         5    7.019297                 1                  0  4.330733   \n",
       "2         5    8.224967                 1                  1  3.496508   \n",
       "3        24    8.384576                 1                  0  3.970292   \n",
       "4         8    7.692113                 0                  1  3.806662   \n",
       "\n",
       "   LowerAge  IsSpouse  HealthIndicator  HoldingPolicyDuration  \\\n",
       "0  3.610918         1              1.0                    NaN   \n",
       "1  3.135494         1              2.0                    NaN   \n",
       "2  3.496508         1              NaN                    1.0   \n",
       "3  3.891820         1              1.0                    NaN   \n",
       "4  3.806662         1              2.0                    3.0   \n",
       "\n",
       "   HoldingPolicyType  RecoPolicyCat  RecoPolicyPremium  Response  \n",
       "0           1.386294       3.135494           9.361257  0.000000  \n",
       "1                NaN       3.135494          10.325843  0.000000  \n",
       "2           0.693147       2.995732           8.916104  0.693147  \n",
       "3           1.386294       2.995732           9.785886  0.000000  \n",
       "4           0.693147       2.833213           9.250042  0.000000  "
      ]
     },
     "execution_count": 27,
     "metadata": {},
     "output_type": "execute_result"
    }
   ],
   "source": [
    "df_train.head()"
   ]
  },
  {
   "cell_type": "code",
   "execution_count": 28,
   "metadata": {
    "ExecuteTime": {
     "end_time": "2021-02-27T13:06:10.418165Z",
     "start_time": "2021-02-27T13:06:10.373704Z"
    }
   },
   "outputs": [
    {
     "data": {
      "text/html": [
       "<div>\n",
       "<style scoped>\n",
       "    .dataframe tbody tr th:only-of-type {\n",
       "        vertical-align: middle;\n",
       "    }\n",
       "\n",
       "    .dataframe tbody tr th {\n",
       "        vertical-align: top;\n",
       "    }\n",
       "\n",
       "    .dataframe thead th {\n",
       "        text-align: right;\n",
       "    }\n",
       "</style>\n",
       "<table border=\"1\" class=\"dataframe\">\n",
       "  <thead>\n",
       "    <tr style=\"text-align: right;\">\n",
       "      <th></th>\n",
       "      <th>CityCode</th>\n",
       "      <th>RegionCode</th>\n",
       "      <th>AccomodationType</th>\n",
       "      <th>RecoInsuranceType</th>\n",
       "      <th>UpperAge</th>\n",
       "      <th>LowerAge</th>\n",
       "      <th>IsSpouse</th>\n",
       "      <th>HealthIndicator</th>\n",
       "      <th>HoldingPolicyDuration</th>\n",
       "      <th>HoldingPolicyType</th>\n",
       "      <th>RecoPolicyCat</th>\n",
       "      <th>RecoPolicyPremium</th>\n",
       "      <th>Response</th>\n",
       "    </tr>\n",
       "  </thead>\n",
       "  <tbody>\n",
       "    <tr>\n",
       "      <th>0</th>\n",
       "      <td>3</td>\n",
       "      <td>8.075272</td>\n",
       "      <td>0</td>\n",
       "      <td>1</td>\n",
       "      <td>3.610918</td>\n",
       "      <td>3.610918</td>\n",
       "      <td>1</td>\n",
       "      <td>1.0</td>\n",
       "      <td>NaN</td>\n",
       "      <td>1.386294</td>\n",
       "      <td>3.135494</td>\n",
       "      <td>9.361257</td>\n",
       "      <td>0.000000</td>\n",
       "    </tr>\n",
       "    <tr>\n",
       "      <th>1</th>\n",
       "      <td>5</td>\n",
       "      <td>7.019297</td>\n",
       "      <td>1</td>\n",
       "      <td>0</td>\n",
       "      <td>4.330733</td>\n",
       "      <td>3.135494</td>\n",
       "      <td>1</td>\n",
       "      <td>2.0</td>\n",
       "      <td>NaN</td>\n",
       "      <td>NaN</td>\n",
       "      <td>3.135494</td>\n",
       "      <td>10.325843</td>\n",
       "      <td>0.000000</td>\n",
       "    </tr>\n",
       "    <tr>\n",
       "      <th>2</th>\n",
       "      <td>5</td>\n",
       "      <td>8.224967</td>\n",
       "      <td>1</td>\n",
       "      <td>1</td>\n",
       "      <td>3.496508</td>\n",
       "      <td>3.496508</td>\n",
       "      <td>1</td>\n",
       "      <td>NaN</td>\n",
       "      <td>1.0</td>\n",
       "      <td>0.693147</td>\n",
       "      <td>2.995732</td>\n",
       "      <td>8.916104</td>\n",
       "      <td>0.693147</td>\n",
       "    </tr>\n",
       "    <tr>\n",
       "      <th>3</th>\n",
       "      <td>24</td>\n",
       "      <td>8.384576</td>\n",
       "      <td>1</td>\n",
       "      <td>0</td>\n",
       "      <td>3.970292</td>\n",
       "      <td>3.891820</td>\n",
       "      <td>1</td>\n",
       "      <td>1.0</td>\n",
       "      <td>NaN</td>\n",
       "      <td>1.386294</td>\n",
       "      <td>2.995732</td>\n",
       "      <td>9.785886</td>\n",
       "      <td>0.000000</td>\n",
       "    </tr>\n",
       "    <tr>\n",
       "      <th>4</th>\n",
       "      <td>8</td>\n",
       "      <td>7.692113</td>\n",
       "      <td>0</td>\n",
       "      <td>1</td>\n",
       "      <td>3.806662</td>\n",
       "      <td>3.806662</td>\n",
       "      <td>1</td>\n",
       "      <td>2.0</td>\n",
       "      <td>3.0</td>\n",
       "      <td>0.693147</td>\n",
       "      <td>2.833213</td>\n",
       "      <td>9.250042</td>\n",
       "      <td>0.000000</td>\n",
       "    </tr>\n",
       "    <tr>\n",
       "      <th>...</th>\n",
       "      <td>...</td>\n",
       "      <td>...</td>\n",
       "      <td>...</td>\n",
       "      <td>...</td>\n",
       "      <td>...</td>\n",
       "      <td>...</td>\n",
       "      <td>...</td>\n",
       "      <td>...</td>\n",
       "      <td>...</td>\n",
       "      <td>...</td>\n",
       "      <td>...</td>\n",
       "      <td>...</td>\n",
       "      <td>...</td>\n",
       "    </tr>\n",
       "    <tr>\n",
       "      <th>50877</th>\n",
       "      <td>4</td>\n",
       "      <td>6.740519</td>\n",
       "      <td>0</td>\n",
       "      <td>1</td>\n",
       "      <td>3.135494</td>\n",
       "      <td>3.135494</td>\n",
       "      <td>1</td>\n",
       "      <td>3.0</td>\n",
       "      <td>NaN</td>\n",
       "      <td>NaN</td>\n",
       "      <td>2.944439</td>\n",
       "      <td>8.949625</td>\n",
       "      <td>0.000000</td>\n",
       "    </tr>\n",
       "    <tr>\n",
       "      <th>50878</th>\n",
       "      <td>5</td>\n",
       "      <td>8.340217</td>\n",
       "      <td>0</td>\n",
       "      <td>1</td>\n",
       "      <td>3.332205</td>\n",
       "      <td>3.332205</td>\n",
       "      <td>1</td>\n",
       "      <td>3.0</td>\n",
       "      <td>7.0</td>\n",
       "      <td>1.386294</td>\n",
       "      <td>1.609438</td>\n",
       "      <td>8.595820</td>\n",
       "      <td>0.000000</td>\n",
       "    </tr>\n",
       "    <tr>\n",
       "      <th>50879</th>\n",
       "      <td>1</td>\n",
       "      <td>6.093570</td>\n",
       "      <td>0</td>\n",
       "      <td>1</td>\n",
       "      <td>4.158883</td>\n",
       "      <td>4.158883</td>\n",
       "      <td>1</td>\n",
       "      <td>2.0</td>\n",
       "      <td>NaN</td>\n",
       "      <td>0.693147</td>\n",
       "      <td>2.564949</td>\n",
       "      <td>9.339173</td>\n",
       "      <td>0.000000</td>\n",
       "    </tr>\n",
       "    <tr>\n",
       "      <th>50880</th>\n",
       "      <td>1</td>\n",
       "      <td>1.609438</td>\n",
       "      <td>1</td>\n",
       "      <td>0</td>\n",
       "      <td>4.276666</td>\n",
       "      <td>3.912023</td>\n",
       "      <td>1</td>\n",
       "      <td>2.0</td>\n",
       "      <td>2.0</td>\n",
       "      <td>1.098612</td>\n",
       "      <td>2.833213</td>\n",
       "      <td>10.246375</td>\n",
       "      <td>0.693147</td>\n",
       "    </tr>\n",
       "    <tr>\n",
       "      <th>50881</th>\n",
       "      <td>3</td>\n",
       "      <td>8.260234</td>\n",
       "      <td>0</td>\n",
       "      <td>1</td>\n",
       "      <td>3.218876</td>\n",
       "      <td>3.218876</td>\n",
       "      <td>1</td>\n",
       "      <td>3.0</td>\n",
       "      <td>2.0</td>\n",
       "      <td>1.386294</td>\n",
       "      <td>2.944439</td>\n",
       "      <td>9.343559</td>\n",
       "      <td>0.000000</td>\n",
       "    </tr>\n",
       "  </tbody>\n",
       "</table>\n",
       "<p>50882 rows × 13 columns</p>\n",
       "</div>"
      ],
      "text/plain": [
       "       CityCode  RegionCode  AccomodationType  RecoInsuranceType  UpperAge  \\\n",
       "0             3    8.075272                 0                  1  3.610918   \n",
       "1             5    7.019297                 1                  0  4.330733   \n",
       "2             5    8.224967                 1                  1  3.496508   \n",
       "3            24    8.384576                 1                  0  3.970292   \n",
       "4             8    7.692113                 0                  1  3.806662   \n",
       "...         ...         ...               ...                ...       ...   \n",
       "50877         4    6.740519                 0                  1  3.135494   \n",
       "50878         5    8.340217                 0                  1  3.332205   \n",
       "50879         1    6.093570                 0                  1  4.158883   \n",
       "50880         1    1.609438                 1                  0  4.276666   \n",
       "50881         3    8.260234                 0                  1  3.218876   \n",
       "\n",
       "       LowerAge  IsSpouse  HealthIndicator  HoldingPolicyDuration  \\\n",
       "0      3.610918         1              1.0                    NaN   \n",
       "1      3.135494         1              2.0                    NaN   \n",
       "2      3.496508         1              NaN                    1.0   \n",
       "3      3.891820         1              1.0                    NaN   \n",
       "4      3.806662         1              2.0                    3.0   \n",
       "...         ...       ...              ...                    ...   \n",
       "50877  3.135494         1              3.0                    NaN   \n",
       "50878  3.332205         1              3.0                    7.0   \n",
       "50879  4.158883         1              2.0                    NaN   \n",
       "50880  3.912023         1              2.0                    2.0   \n",
       "50881  3.218876         1              3.0                    2.0   \n",
       "\n",
       "       HoldingPolicyType  RecoPolicyCat  RecoPolicyPremium  Response  \n",
       "0               1.386294       3.135494           9.361257  0.000000  \n",
       "1                    NaN       3.135494          10.325843  0.000000  \n",
       "2               0.693147       2.995732           8.916104  0.693147  \n",
       "3               1.386294       2.995732           9.785886  0.000000  \n",
       "4               0.693147       2.833213           9.250042  0.000000  \n",
       "...                  ...            ...                ...       ...  \n",
       "50877                NaN       2.944439           8.949625  0.000000  \n",
       "50878           1.386294       1.609438           8.595820  0.000000  \n",
       "50879           0.693147       2.564949           9.339173  0.000000  \n",
       "50880           1.098612       2.833213          10.246375  0.693147  \n",
       "50881           1.386294       2.944439           9.343559  0.000000  \n",
       "\n",
       "[50882 rows x 13 columns]"
      ]
     },
     "execution_count": 28,
     "metadata": {},
     "output_type": "execute_result"
    }
   ],
   "source": [
    "df_train"
   ]
  },
  {
   "cell_type": "code",
   "execution_count": 29,
   "metadata": {
    "ExecuteTime": {
     "end_time": "2021-02-27T13:06:10.434112Z",
     "start_time": "2021-02-27T13:06:10.421157Z"
    }
   },
   "outputs": [
    {
     "data": {
      "text/plain": [
       "1.0     4499\n",
       "2.0     4260\n",
       "3.0     3586\n",
       "4.0     2771\n",
       "5.0     2362\n",
       "6.0     1894\n",
       "7.0     1645\n",
       "8.0     1316\n",
       "9.0     1114\n",
       "10.0     813\n",
       "11.0     546\n",
       "12.0     513\n",
       "13.0     511\n",
       "14.0     466\n",
       "Name: HoldingPolicyDuration, dtype: int64"
      ]
     },
     "execution_count": 29,
     "metadata": {},
     "output_type": "execute_result"
    }
   ],
   "source": [
    "df_train['HoldingPolicyDuration'].value_counts()"
   ]
  },
  {
   "cell_type": "code",
   "execution_count": 30,
   "metadata": {
    "ExecuteTime": {
     "end_time": "2021-02-27T13:06:10.481951Z",
     "start_time": "2021-02-27T13:06:10.436103Z"
    }
   },
   "outputs": [
    {
     "data": {
      "text/plain": [
       "CityCode                 1.212203\n",
       "RegionCode              -1.393276\n",
       "AccomodationType        -0.198293\n",
       "RecoInsuranceType       -1.474244\n",
       "UpperAge                -0.198856\n",
       "LowerAge                -0.103716\n",
       "IsSpouse                -1.800028\n",
       "HealthIndicator          1.003491\n",
       "HoldingPolicyDuration    0.948271\n",
       "HoldingPolicyType       -0.502859\n",
       "RecoPolicyCat           -1.750732\n",
       "RecoPolicyPremium       -0.350890\n",
       "Response                 1.217936\n",
       "dtype: float64"
      ]
     },
     "execution_count": 30,
     "metadata": {},
     "output_type": "execute_result"
    }
   ],
   "source": [
    "df_train.skew()"
   ]
  },
  {
   "cell_type": "code",
   "execution_count": 31,
   "metadata": {
    "ExecuteTime": {
     "end_time": "2021-02-27T13:06:11.806549Z",
     "start_time": "2021-02-27T13:06:10.485939Z"
    }
   },
   "outputs": [
    {
     "data": {
      "text/plain": [
       "array([[<matplotlib.axes._subplots.AxesSubplot object at 0x0000024840EB1400>,\n",
       "        <matplotlib.axes._subplots.AxesSubplot object at 0x00000248411BD460>,\n",
       "        <matplotlib.axes._subplots.AxesSubplot object at 0x00000248411E7790>,\n",
       "        <matplotlib.axes._subplots.AxesSubplot object at 0x0000024841211C10>],\n",
       "       [<matplotlib.axes._subplots.AxesSubplot object at 0x0000024841239100>,\n",
       "        <matplotlib.axes._subplots.AxesSubplot object at 0x000002484126E430>,\n",
       "        <matplotlib.axes._subplots.AxesSubplot object at 0x000002484126E520>,\n",
       "        <matplotlib.axes._subplots.AxesSubplot object at 0x00000248412999D0>],\n",
       "       [<matplotlib.axes._subplots.AxesSubplot object at 0x0000024841301220>,\n",
       "        <matplotlib.axes._subplots.AxesSubplot object at 0x000002484132E670>,\n",
       "        <matplotlib.axes._subplots.AxesSubplot object at 0x000002484199AAC0>,\n",
       "        <matplotlib.axes._subplots.AxesSubplot object at 0x0000024842A37F10>],\n",
       "       [<matplotlib.axes._subplots.AxesSubplot object at 0x0000024842A6E3A0>,\n",
       "        <matplotlib.axes._subplots.AxesSubplot object at 0x0000024842A9B730>,\n",
       "        <matplotlib.axes._subplots.AxesSubplot object at 0x0000024842ABBD30>,\n",
       "        <matplotlib.axes._subplots.AxesSubplot object at 0x0000024842AF41C0>]],\n",
       "      dtype=object)"
      ]
     },
     "execution_count": 31,
     "metadata": {},
     "output_type": "execute_result"
    },
    {
     "data": {
      "image/png": "[encoded data removed]",
      "text/plain": [
       "<Figure size 1080x1296 with 16 Axes>"
      ]
     },
     "metadata": {
      "needs_background": "light"
     },
     "output_type": "display_data"
    }
   ],
   "source": [
    "plt.rcParams[\"figure.figsize\"] = 15,18\n",
    "df_train.hist()"
   ]
  },
  {
   "cell_type": "code",
   "execution_count": 32,
   "metadata": {
    "ExecuteTime": {
     "end_time": "2021-02-27T13:06:11.990291Z",
     "start_time": "2021-02-27T13:06:11.810765Z"
    }
   },
   "outputs": [
    {
     "data": {
      "text/plain": [
       "<matplotlib.axes._subplots.AxesSubplot at 0x24842e14280>"
      ]
     },
     "execution_count": 32,
     "metadata": {},
     "output_type": "execute_result"
    },
    {
     "data": {
      "image/png": "[encoded data removed]",
      "text/plain": [
       "<Figure size 504x360 with 1 Axes>"
      ]
     },
     "metadata": {
      "needs_background": "light"
     },
     "output_type": "display_data"
    }
   ],
   "source": [
    "plt.rcParams[\"figure.figsize\"] = 7,5\n",
    "df_train['AccomodationType']= np.log1p(df_train['AccomodationType'])\n",
    "df_train['AccomodationType'].hist()"
   ]
  },
  {
   "cell_type": "code",
   "execution_count": 33,
   "metadata": {
    "ExecuteTime": {
     "end_time": "2021-02-27T13:06:12.241049Z",
     "start_time": "2021-02-27T13:06:11.992887Z"
    }
   },
   "outputs": [
    {
     "data": {
      "text/plain": [
       "<matplotlib.axes._subplots.AxesSubplot at 0x24842fa46d0>"
      ]
     },
     "execution_count": 33,
     "metadata": {},
     "output_type": "execute_result"
    },
    {
     "data": {
      "image/png": "[encoded data removed]",
      "text/plain": [
       "<Figure size 504x360 with 1 Axes>"
      ]
     },
     "metadata": {
      "needs_background": "light"
     },
     "output_type": "display_data"
    }
   ],
   "source": [
    "plt.rcParams[\"figure.figsize\"] = 7,5\n",
    "df_train['RecoInsuranceType']= np.log1p(df_train['RecoInsuranceType'])\n",
    "df_train['RecoInsuranceType'].hist()"
   ]
  },
  {
   "cell_type": "code",
   "execution_count": 34,
   "metadata": {
    "ExecuteTime": {
     "end_time": "2021-02-27T13:06:12.414634Z",
     "start_time": "2021-02-27T13:06:12.243041Z"
    }
   },
   "outputs": [
    {
     "data": {
      "text/plain": [
       "<matplotlib.axes._subplots.AxesSubplot at 0x248412db640>"
      ]
     },
     "execution_count": 34,
     "metadata": {},
     "output_type": "execute_result"
    },
    {
     "data": {
      "image/png": "[encoded data removed]",
      "text/plain": [
       "<Figure size 504x360 with 1 Axes>"
      ]
     },
     "metadata": {
      "needs_background": "light"
     },
     "output_type": "display_data"
    }
   ],
   "source": [
    "plt.rcParams[\"figure.figsize\"] = 7,5\n",
    "df_train['IsSpouse']= np.log1p(df_train['IsSpouse'])\n",
    "df_train['IsSpouse'].hist()"
   ]
  },
  {
   "cell_type": "code",
   "execution_count": 35,
   "metadata": {
    "ExecuteTime": {
     "end_time": "2021-02-27T13:06:14.432138Z",
     "start_time": "2021-02-27T13:06:12.418632Z"
    }
   },
   "outputs": [
    {
     "data": {
      "text/plain": [
       "array([[<matplotlib.axes._subplots.AxesSubplot object at 0x0000024842DFBB80>,\n",
       "        <matplotlib.axes._subplots.AxesSubplot object at 0x00000248434345E0>,\n",
       "        <matplotlib.axes._subplots.AxesSubplot object at 0x000002484307FA30>,\n",
       "        <matplotlib.axes._subplots.AxesSubplot object at 0x00000248430ABE80>],\n",
       "       [<matplotlib.axes._subplots.AxesSubplot object at 0x00000248430E4310>,\n",
       "        <matplotlib.axes._subplots.AxesSubplot object at 0x0000024843110640>,\n",
       "        <matplotlib.axes._subplots.AxesSubplot object at 0x0000024843110730>,\n",
       "        <matplotlib.axes._subplots.AxesSubplot object at 0x000002484313DBE0>],\n",
       "       [<matplotlib.axes._subplots.AxesSubplot object at 0x00000248431A5460>,\n",
       "        <matplotlib.axes._subplots.AxesSubplot object at 0x00000248431CF8B0>,\n",
       "        <matplotlib.axes._subplots.AxesSubplot object at 0x00000248431FED00>,\n",
       "        <matplotlib.axes._subplots.AxesSubplot object at 0x0000024843237190>],\n",
       "       [<matplotlib.axes._subplots.AxesSubplot object at 0x00000248432635E0>,\n",
       "        <matplotlib.axes._subplots.AxesSubplot object at 0x0000024843291970>,\n",
       "        <matplotlib.axes._subplots.AxesSubplot object at 0x00000248432B1F70>,\n",
       "        <matplotlib.axes._subplots.AxesSubplot object at 0x00000248432E9400>]],\n",
       "      dtype=object)"
      ]
     },
     "execution_count": 35,
     "metadata": {},
     "output_type": "execute_result"
    },
    {
     "data": {
      "image/png": "[encoded data removed]",
      "text/plain": [
       "<Figure size 1080x1296 with 16 Axes>"
      ]
     },
     "metadata": {
      "needs_background": "light"
     },
     "output_type": "display_data"
    }
   ],
   "source": [
    "plt.rcParams[\"figure.figsize\"] = 15,18\n",
    "df_train.hist()"
   ]
  },
  {
   "cell_type": "code",
   "execution_count": null,
   "metadata": {},
   "outputs": [],
   "source": []
  },
  {
   "cell_type": "code",
   "execution_count": 36,
   "metadata": {
    "ExecuteTime": {
     "end_time": "2021-02-27T13:06:14.463321Z",
     "start_time": "2021-02-27T13:06:14.436085Z"
    }
   },
   "outputs": [],
   "source": [
    "x = df_train.drop(['Response'],axis=1)\n",
    "y = df_train['Response']"
   ]
  },
  {
   "cell_type": "code",
   "execution_count": 37,
   "metadata": {
    "ExecuteTime": {
     "end_time": "2021-02-27T13:06:14.952452Z",
     "start_time": "2021-02-27T13:06:14.469579Z"
    }
   },
   "outputs": [
    {
     "data": {
      "text/html": [
       "<div>\n",
       "<style scoped>\n",
       "    .dataframe tbody tr th:only-of-type {\n",
       "        vertical-align: middle;\n",
       "    }\n",
       "\n",
       "    .dataframe tbody tr th {\n",
       "        vertical-align: top;\n",
       "    }\n",
       "\n",
       "    .dataframe thead th {\n",
       "        text-align: right;\n",
       "    }\n",
       "</style>\n",
       "<table border=\"1\" class=\"dataframe\">\n",
       "  <thead>\n",
       "    <tr style=\"text-align: right;\">\n",
       "      <th></th>\n",
       "      <th>CityCode</th>\n",
       "      <th>RegionCode</th>\n",
       "      <th>AccomodationType</th>\n",
       "      <th>RecoInsuranceType</th>\n",
       "      <th>UpperAge</th>\n",
       "      <th>LowerAge</th>\n",
       "      <th>IsSpouse</th>\n",
       "      <th>HealthIndicator</th>\n",
       "      <th>HoldingPolicyDuration</th>\n",
       "      <th>HoldingPolicyType</th>\n",
       "      <th>RecoPolicyCat</th>\n",
       "      <th>RecoPolicyPremium</th>\n",
       "    </tr>\n",
       "  </thead>\n",
       "  <tbody>\n",
       "    <tr>\n",
       "      <th>0</th>\n",
       "      <td>0.057143</td>\n",
       "      <td>0.918363</td>\n",
       "      <td>0.0</td>\n",
       "      <td>1.0</td>\n",
       "      <td>0.480763</td>\n",
       "      <td>0.519328</td>\n",
       "      <td>1.0</td>\n",
       "      <td>0.000</td>\n",
       "      <td>0.230769</td>\n",
       "      <td>0.756471</td>\n",
       "      <td>1.000000</td>\n",
       "      <td>0.553155</td>\n",
       "    </tr>\n",
       "    <tr>\n",
       "      <th>1</th>\n",
       "      <td>0.114286</td>\n",
       "      <td>0.786996</td>\n",
       "      <td>1.0</td>\n",
       "      <td>0.0</td>\n",
       "      <td>1.000000</td>\n",
       "      <td>0.201854</td>\n",
       "      <td>1.0</td>\n",
       "      <td>0.125</td>\n",
       "      <td>0.230769</td>\n",
       "      <td>0.756471</td>\n",
       "      <td>1.000000</td>\n",
       "      <td>0.880718</td>\n",
       "    </tr>\n",
       "    <tr>\n",
       "      <th>2</th>\n",
       "      <td>0.114286</td>\n",
       "      <td>0.936986</td>\n",
       "      <td>1.0</td>\n",
       "      <td>1.0</td>\n",
       "      <td>0.398233</td>\n",
       "      <td>0.442928</td>\n",
       "      <td>1.0</td>\n",
       "      <td>0.125</td>\n",
       "      <td>0.000000</td>\n",
       "      <td>0.000000</td>\n",
       "      <td>0.942776</td>\n",
       "      <td>0.401985</td>\n",
       "    </tr>\n",
       "    <tr>\n",
       "      <th>3</th>\n",
       "      <td>0.657143</td>\n",
       "      <td>0.956842</td>\n",
       "      <td>1.0</td>\n",
       "      <td>0.0</td>\n",
       "      <td>0.739996</td>\n",
       "      <td>0.706907</td>\n",
       "      <td>1.0</td>\n",
       "      <td>0.000</td>\n",
       "      <td>0.230769</td>\n",
       "      <td>0.756471</td>\n",
       "      <td>0.942776</td>\n",
       "      <td>0.697354</td>\n",
       "    </tr>\n",
       "    <tr>\n",
       "      <th>4</th>\n",
       "      <td>0.200000</td>\n",
       "      <td>0.870697</td>\n",
       "      <td>0.0</td>\n",
       "      <td>1.0</td>\n",
       "      <td>0.621963</td>\n",
       "      <td>0.650041</td>\n",
       "      <td>1.0</td>\n",
       "      <td>0.125</td>\n",
       "      <td>0.153846</td>\n",
       "      <td>0.000000</td>\n",
       "      <td>0.876233</td>\n",
       "      <td>0.515387</td>\n",
       "    </tr>\n",
       "  </tbody>\n",
       "</table>\n",
       "</div>"
      ],
      "text/plain": [
       "   CityCode  RegionCode  AccomodationType  RecoInsuranceType  UpperAge  \\\n",
       "0  0.057143    0.918363               0.0                1.0  0.480763   \n",
       "1  0.114286    0.786996               1.0                0.0  1.000000   \n",
       "2  0.114286    0.936986               1.0                1.0  0.398233   \n",
       "3  0.657143    0.956842               1.0                0.0  0.739996   \n",
       "4  0.200000    0.870697               0.0                1.0  0.621963   \n",
       "\n",
       "   LowerAge  IsSpouse  HealthIndicator  HoldingPolicyDuration  \\\n",
       "0  0.519328       1.0            0.000               0.230769   \n",
       "1  0.201854       1.0            0.125               0.230769   \n",
       "2  0.442928       1.0            0.125               0.000000   \n",
       "3  0.706907       1.0            0.000               0.230769   \n",
       "4  0.650041       1.0            0.125               0.153846   \n",
       "\n",
       "   HoldingPolicyType  RecoPolicyCat  RecoPolicyPremium  \n",
       "0           0.756471       1.000000           0.553155  \n",
       "1           0.756471       1.000000           0.880718  \n",
       "2           0.000000       0.942776           0.401985  \n",
       "3           0.756471       0.942776           0.697354  \n",
       "4           0.000000       0.876233           0.515387  "
      ]
     },
     "execution_count": 37,
     "metadata": {},
     "output_type": "execute_result"
    }
   ],
   "source": [
    "x['HoldingPolicyDuration'] =x['HoldingPolicyDuration'].fillna(x['HoldingPolicyDuration'].median())\n",
    "x['HealthIndicator'] =x['HealthIndicator'].fillna(x['HealthIndicator'].median())\n",
    "x['HoldingPolicyType'] =x['HoldingPolicyType'].fillna(x['HoldingPolicyType'].median())\n",
    "x = x.apply(lambda x:(x.astype(float) - min(x))/(max(x)-min(x)), axis = 0)\n",
    "x.head()"
   ]
  },
  {
   "cell_type": "code",
   "execution_count": 38,
   "metadata": {
    "ExecuteTime": {
     "end_time": "2021-02-27T13:06:15.124847Z",
     "start_time": "2021-02-27T13:06:14.955407Z"
    }
   },
   "outputs": [],
   "source": [
    "from sklearn.model_selection import train_test_split\n",
    "x_train,x_test,y_train,y_test=train_test_split(x,y,test_size=0.30,random_state=42,stratify=y)"
   ]
  },
  {
   "cell_type": "code",
   "execution_count": 39,
   "metadata": {
    "ExecuteTime": {
     "end_time": "2021-02-27T13:06:15.690836Z",
     "start_time": "2021-02-27T13:06:15.127846Z"
    }
   },
   "outputs": [],
   "source": [
    "from sklearn.pipeline import Pipeline\n",
    "from sklearn.linear_model import LogisticRegression \n",
    "from sklearn.ensemble import RandomForestClassifier\n",
    "from sklearn.naive_bayes import GaussianNB\n",
    "from xgboost import XGBClassifier\n",
    "from sklearn.neighbors import KNeighborsClassifier\n",
    "from sklearn.tree import DecisionTreeClassifier\n",
    "from sklearn.metrics import classification_report\n",
    "from sklearn.metrics import confusion_matrix"
   ]
  },
  {
   "cell_type": "code",
   "execution_count": 40,
   "metadata": {
    "ExecuteTime": {
     "end_time": "2021-02-27T13:06:15.706979Z",
     "start_time": "2021-02-27T13:06:15.693835Z"
    }
   },
   "outputs": [],
   "source": [
    "pipeline_lr=Pipeline([('lr_classifier',LogisticRegression(random_state=0))])\n",
    "pipeline_dt=Pipeline([('dt_classifier',DecisionTreeClassifier())])\n",
    "pipeline_rf=Pipeline([('rf_classifier',RandomForestClassifier(class_weight = ({0:100, 1:99929180})))])\n",
    "pipeline_Nb=Pipeline([('Nb_Gaussion',GaussianNB())])\n",
    "pipeline_XGb=Pipeline([('XGb_classifier',XGBClassifier())])\n",
    "pipeline_KN=Pipeline([('KNeighborsClassifier',KNeighborsClassifier(n_neighbors=25))])"
   ]
  },
  {
   "cell_type": "code",
   "execution_count": 41,
   "metadata": {
    "ExecuteTime": {
     "end_time": "2021-02-27T13:06:15.722026Z",
     "start_time": "2021-02-27T13:06:15.712715Z"
    }
   },
   "outputs": [],
   "source": [
    "pipelines = [pipeline_lr, pipeline_dt, pipeline_rf,pipeline_Nb,pipeline_XGb,pipeline_KN]"
   ]
  },
  {
   "cell_type": "code",
   "execution_count": 42,
   "metadata": {
    "ExecuteTime": {
     "end_time": "2021-02-27T13:06:15.736797Z",
     "start_time": "2021-02-27T13:06:15.726441Z"
    }
   },
   "outputs": [],
   "source": [
    "best_accuracy=0.0\n",
    "best_classifier=0\n",
    "best_pipeline=\"\"\n",
    "pipe_dict = {0: 'Logistic Regression', 1: 'Decision Tree', 2: 'RandomForest',3:'GaussianNB',4:'XGBClassifier',5:'pipeline_KN'}"
   ]
  },
  {
   "cell_type": "code",
   "execution_count": 43,
   "metadata": {
    "ExecuteTime": {
     "end_time": "2021-02-27T13:06:16.478493Z",
     "start_time": "2021-02-27T13:06:15.740981Z"
    }
   },
   "outputs": [
    {
     "ename": "ValueError",
     "evalue": "Unknown label type: 'continuous'",
     "output_type": "error",
     "traceback": [
      "\u001b[1;31m---------------------------------------------------------------------------\u001b[0m",
      "\u001b[1;31mValueError\u001b[0m                                Traceback (most recent call last)",
      "\u001b[1;32m<ipython-input-43-cf49cc0dfd0f>\u001b[0m in \u001b[0;36m<module>\u001b[1;34m\u001b[0m\n\u001b[0;32m      1\u001b[0m \u001b[1;32mfor\u001b[0m \u001b[0mpipe\u001b[0m \u001b[1;32min\u001b[0m \u001b[0mpipelines\u001b[0m\u001b[1;33m:\u001b[0m\u001b[1;33m\u001b[0m\u001b[1;33m\u001b[0m\u001b[0m\n\u001b[1;32m----> 2\u001b[1;33m     \u001b[0mpipe\u001b[0m\u001b[1;33m.\u001b[0m\u001b[0mfit\u001b[0m\u001b[1;33m(\u001b[0m\u001b[0mx_train\u001b[0m\u001b[1;33m,\u001b[0m \u001b[0my_train\u001b[0m\u001b[1;33m)\u001b[0m\u001b[1;33m\u001b[0m\u001b[1;33m\u001b[0m\u001b[0m\n\u001b[0m",
      "\u001b[1;32m~\\anaconda3\\lib\\site-packages\\sklearn\\pipeline.py\u001b[0m in \u001b[0;36mfit\u001b[1;34m(self, X, y, **fit_params)\u001b[0m\n\u001b[0;32m    333\u001b[0m             \u001b[1;32mif\u001b[0m \u001b[0mself\u001b[0m\u001b[1;33m.\u001b[0m\u001b[0m_final_estimator\u001b[0m \u001b[1;33m!=\u001b[0m \u001b[1;34m'passthrough'\u001b[0m\u001b[1;33m:\u001b[0m\u001b[1;33m\u001b[0m\u001b[1;33m\u001b[0m\u001b[0m\n\u001b[0;32m    334\u001b[0m                 \u001b[0mfit_params_last_step\u001b[0m \u001b[1;33m=\u001b[0m \u001b[0mfit_params_steps\u001b[0m\u001b[1;33m[\u001b[0m\u001b[0mself\u001b[0m\u001b[1;33m.\u001b[0m\u001b[0msteps\u001b[0m\u001b[1;33m[\u001b[0m\u001b[1;33m-\u001b[0m\u001b[1;36m1\u001b[0m\u001b[1;33m]\u001b[0m\u001b[1;33m[\u001b[0m\u001b[1;36m0\u001b[0m\u001b[1;33m]\u001b[0m\u001b[1;33m]\u001b[0m\u001b[1;33m\u001b[0m\u001b[1;33m\u001b[0m\u001b[0m\n\u001b[1;32m--> 335\u001b[1;33m                 \u001b[0mself\u001b[0m\u001b[1;33m.\u001b[0m\u001b[0m_final_estimator\u001b[0m\u001b[1;33m.\u001b[0m\u001b[0mfit\u001b[0m\u001b[1;33m(\u001b[0m\u001b[0mXt\u001b[0m\u001b[1;33m,\u001b[0m \u001b[0my\u001b[0m\u001b[1;33m,\u001b[0m \u001b[1;33m**\u001b[0m\u001b[0mfit_params_last_step\u001b[0m\u001b[1;33m)\u001b[0m\u001b[1;33m\u001b[0m\u001b[1;33m\u001b[0m\u001b[0m\n\u001b[0m\u001b[0;32m    336\u001b[0m \u001b[1;33m\u001b[0m\u001b[0m\n\u001b[0;32m    337\u001b[0m         \u001b[1;32mreturn\u001b[0m \u001b[0mself\u001b[0m\u001b[1;33m\u001b[0m\u001b[1;33m\u001b[0m\u001b[0m\n",
      "\u001b[1;32m~\\anaconda3\\lib\\site-packages\\sklearn\\linear_model\\_logistic.py\u001b[0m in \u001b[0;36mfit\u001b[1;34m(self, X, y, sample_weight)\u001b[0m\n\u001b[0;32m   1343\u001b[0m                                    \u001b[0morder\u001b[0m\u001b[1;33m=\u001b[0m\u001b[1;34m\"C\"\u001b[0m\u001b[1;33m,\u001b[0m\u001b[1;33m\u001b[0m\u001b[1;33m\u001b[0m\u001b[0m\n\u001b[0;32m   1344\u001b[0m                                    accept_large_sparse=solver != 'liblinear')\n\u001b[1;32m-> 1345\u001b[1;33m         \u001b[0mcheck_classification_targets\u001b[0m\u001b[1;33m(\u001b[0m\u001b[0my\u001b[0m\u001b[1;33m)\u001b[0m\u001b[1;33m\u001b[0m\u001b[1;33m\u001b[0m\u001b[0m\n\u001b[0m\u001b[0;32m   1346\u001b[0m         \u001b[0mself\u001b[0m\u001b[1;33m.\u001b[0m\u001b[0mclasses_\u001b[0m \u001b[1;33m=\u001b[0m \u001b[0mnp\u001b[0m\u001b[1;33m.\u001b[0m\u001b[0munique\u001b[0m\u001b[1;33m(\u001b[0m\u001b[0my\u001b[0m\u001b[1;33m)\u001b[0m\u001b[1;33m\u001b[0m\u001b[1;33m\u001b[0m\u001b[0m\n\u001b[0;32m   1347\u001b[0m \u001b[1;33m\u001b[0m\u001b[0m\n",
      "\u001b[1;32m~\\anaconda3\\lib\\site-packages\\sklearn\\utils\\multiclass.py\u001b[0m in \u001b[0;36mcheck_classification_targets\u001b[1;34m(y)\u001b[0m\n\u001b[0;32m    170\u001b[0m     if y_type not in ['binary', 'multiclass', 'multiclass-multioutput',\n\u001b[0;32m    171\u001b[0m                       'multilabel-indicator', 'multilabel-sequences']:\n\u001b[1;32m--> 172\u001b[1;33m         \u001b[1;32mraise\u001b[0m \u001b[0mValueError\u001b[0m\u001b[1;33m(\u001b[0m\u001b[1;34m\"Unknown label type: %r\"\u001b[0m \u001b[1;33m%\u001b[0m \u001b[0my_type\u001b[0m\u001b[1;33m)\u001b[0m\u001b[1;33m\u001b[0m\u001b[1;33m\u001b[0m\u001b[0m\n\u001b[0m\u001b[0;32m    173\u001b[0m \u001b[1;33m\u001b[0m\u001b[0m\n\u001b[0;32m    174\u001b[0m \u001b[1;33m\u001b[0m\u001b[0m\n",
      "\u001b[1;31mValueError\u001b[0m: Unknown label type: 'continuous'"
     ]
    }
   ],
   "source": [
    "for pipe in pipelines:\n",
    "    pipe.fit(x_train, y_train)"
   ]
  },
  {
   "cell_type": "code",
   "execution_count": null,
   "metadata": {
    "ExecuteTime": {
     "end_time": "2021-02-27T13:06:16.575920Z",
     "start_time": "2021-02-27T13:06:06.398Z"
    }
   },
   "outputs": [],
   "source": [
    "for i,model in enumerate(pipelines):\n",
    "    print(\"{} Test Accuracy: {}\".format(pipe_dict[i],model.score(x_test,y_test)))\n",
    "    print(classification_report(y_test,model.predict(x_test)))\n",
    "    y_pred_new=model.predict(x_test)"
   ]
  },
  {
   "cell_type": "code",
   "execution_count": null,
   "metadata": {
    "ExecuteTime": {
     "end_time": "2021-02-27T13:06:16.577915Z",
     "start_time": "2021-02-27T13:06:06.400Z"
    }
   },
   "outputs": [],
   "source": [
    "y_pred_new"
   ]
  },
  {
   "cell_type": "code",
   "execution_count": null,
   "metadata": {
    "ExecuteTime": {
     "end_time": "2021-02-27T13:06:16.579908Z",
     "start_time": "2021-02-27T13:06:06.402Z"
    }
   },
   "outputs": [],
   "source": [
    "ypred= pd.DataFrame(y_pred_new )"
   ]
  },
  {
   "cell_type": "code",
   "execution_count": null,
   "metadata": {
    "ExecuteTime": {
     "end_time": "2021-02-27T13:06:16.581955Z",
     "start_time": "2021-02-27T13:06:06.405Z"
    }
   },
   "outputs": [],
   "source": [
    "pd.set_option(\"display.max_rows\",None)"
   ]
  },
  {
   "cell_type": "code",
   "execution_count": null,
   "metadata": {
    "ExecuteTime": {
     "end_time": "2021-02-27T13:06:16.583853Z",
     "start_time": "2021-02-27T13:06:06.408Z"
    }
   },
   "outputs": [],
   "source": [
    "ypred"
   ]
  },
  {
   "cell_type": "code",
   "execution_count": null,
   "metadata": {
    "ExecuteTime": {
     "end_time": "2021-02-27T13:06:16.585846Z",
     "start_time": "2021-02-27T13:06:06.410Z"
    }
   },
   "outputs": [],
   "source": [
    "ypred.columns= [\"Response\"]"
   ]
  },
  {
   "cell_type": "code",
   "execution_count": null,
   "metadata": {
    "ExecuteTime": {
     "end_time": "2021-02-27T13:06:16.588041Z",
     "start_time": "2021-02-27T13:06:06.413Z"
    }
   },
   "outputs": [],
   "source": [
    "ypred"
   ]
  },
  {
   "cell_type": "code",
   "execution_count": null,
   "metadata": {
    "ExecuteTime": {
     "end_time": "2021-02-27T13:06:16.590704Z",
     "start_time": "2021-02-27T13:06:06.415Z"
    }
   },
   "outputs": [],
   "source": [
    "ypred['Response'].unique()"
   ]
  },
  {
   "cell_type": "code",
   "execution_count": null,
   "metadata": {
    "ExecuteTime": {
     "end_time": "2021-02-27T13:06:16.592677Z",
     "start_time": "2021-02-27T13:06:06.418Z"
    }
   },
   "outputs": [],
   "source": [
    "ypred['Response'].nunique()"
   ]
  },
  {
   "cell_type": "code",
   "execution_count": null,
   "metadata": {},
   "outputs": [],
   "source": []
  }
 ],
 "metadata": {
  "kernelspec": {
   "display_name": "Python 3",
   "language": "python",
   "name": "python3"
  },
  "language_info": {
   "codemirror_mode": {
    "name": "ipython",
    "version": 3
   },
   "file_extension": ".py",
   "mimetype": "text/x-python",
   "name": "python",
   "nbconvert_exporter": "python",
   "pygments_lexer": "ipython3",
   "version": "3.8.3"
  },
  "varInspector": {
   "cols": {
    "lenName": 16,
    "lenType": 16,
    "lenVar": 40
   },
   "kernels_config": {
    "python": {
     "delete_cmd_postfix": "",
     "delete_cmd_prefix": "del ",
     "library": "var_list.py",
     "varRefreshCmd": "print(var_dic_list())"
    },
    "r": {
     "delete_cmd_postfix": ") ",
     "delete_cmd_prefix": "rm(",
     "library": "var_list.r",
     "varRefreshCmd": "cat(var_dic_list()) "
    }
   },
   "types_to_exclude": [
    "module",
    "function",
    "builtin_function_or_method",
    "instance",
    "_Feature"
   ],
   "window_display": false
  }
 },
 "nbformat": 4,
 "nbformat_minor": 4
}
