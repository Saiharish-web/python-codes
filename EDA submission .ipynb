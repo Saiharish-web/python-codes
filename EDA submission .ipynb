{
 "cells": [
  {
   "cell_type": "markdown",
   "metadata": {},
   "source": [
    "# Performing EDA for incident impact prediction\n",
    "we have performed EDA intially by doing the manual process, and futher we have speed up the EDA process using \"sweet viz\" , \"pandas profilling\", \" Dtale\" \n"
   ]
  },
  {
   "cell_type": "code",
   "execution_count": 1,
   "metadata": {
    "ExecuteTime": {
     "end_time": "2021-03-02T11:42:20.631413Z",
     "start_time": "2021-03-02T11:41:35.753570Z"
    }
   },
   "outputs": [],
   "source": [
    "import pandas as pd\n",
    "import numpy as np \n",
    "import sweetviz as sv \n",
    "import pandas_profiling as pp\n",
    "import dtale\n",
    "import seaborn as sns \n",
    "from matplotlib import pyplot as plt "
   ]
  },
  {
   "cell_type": "markdown",
   "metadata": {},
   "source": [
    "# import the dataset \n"
   ]
  },
  {
   "cell_type": "code",
   "execution_count": 2,
   "metadata": {
    "ExecuteTime": {
     "end_time": "2021-03-02T11:42:20.672019Z",
     "start_time": "2021-03-02T11:42:20.631413Z"
    }
   },
   "outputs": [],
   "source": [
    "service=pd.read_csv(\"sample_service.xlsx - Sheet1.csv\")"
   ]
  },
  {
   "cell_type": "code",
   "execution_count": 3,
   "metadata": {
    "ExecuteTime": {
     "end_time": "2021-03-02T11:42:20.874596Z",
     "start_time": "2021-03-02T11:42:20.677299Z"
    }
   },
   "outputs": [
    {
     "data": {
      "text/html": [
       "<div>\n",
       "<style scoped>\n",
       "    .dataframe tbody tr th:only-of-type {\n",
       "        vertical-align: middle;\n",
       "    }\n",
       "\n",
       "    .dataframe tbody tr th {\n",
       "        vertical-align: top;\n",
       "    }\n",
       "\n",
       "    .dataframe thead th {\n",
       "        text-align: right;\n",
       "    }\n",
       "</style>\n",
       "<table border=\"1\" class=\"dataframe\">\n",
       "  <thead>\n",
       "    <tr style=\"text-align: right;\">\n",
       "      <th></th>\n",
       "      <th>ID</th>\n",
       "      <th>ID_status</th>\n",
       "      <th>active</th>\n",
       "      <th>count_reassign</th>\n",
       "      <th>count_opening</th>\n",
       "      <th>count_updated</th>\n",
       "      <th>ID_caller</th>\n",
       "      <th>opened_by</th>\n",
       "      <th>opened_time</th>\n",
       "      <th>Created_by</th>\n",
       "      <th>...</th>\n",
       "      <th>Category Id</th>\n",
       "      <th>user_symptom</th>\n",
       "      <th>Support_group</th>\n",
       "      <th>support_incharge</th>\n",
       "      <th>Doc_knowledge</th>\n",
       "      <th>confirmation_check</th>\n",
       "      <th>impact</th>\n",
       "      <th>notify</th>\n",
       "      <th>problem_ID</th>\n",
       "      <th>change_request</th>\n",
       "    </tr>\n",
       "  </thead>\n",
       "  <tbody>\n",
       "    <tr>\n",
       "      <th>0</th>\n",
       "      <td>INC0000045</td>\n",
       "      <td>New</td>\n",
       "      <td>True</td>\n",
       "      <td>0</td>\n",
       "      <td>0</td>\n",
       "      <td>0</td>\n",
       "      <td>Caller 2403</td>\n",
       "      <td>Opened by  8</td>\n",
       "      <td>2/29/16 1:16</td>\n",
       "      <td>Created by 6</td>\n",
       "      <td>...</td>\n",
       "      <td>Subcategory 170</td>\n",
       "      <td>Symptom 72</td>\n",
       "      <td>Group 56</td>\n",
       "      <td>?</td>\n",
       "      <td>True</td>\n",
       "      <td>False</td>\n",
       "      <td>2 - Medium</td>\n",
       "      <td>Do Not Notify</td>\n",
       "      <td>?</td>\n",
       "      <td>?</td>\n",
       "    </tr>\n",
       "    <tr>\n",
       "      <th>1</th>\n",
       "      <td>INC0000045</td>\n",
       "      <td>Resolved</td>\n",
       "      <td>True</td>\n",
       "      <td>0</td>\n",
       "      <td>0</td>\n",
       "      <td>2</td>\n",
       "      <td>Caller 2403</td>\n",
       "      <td>Opened by  8</td>\n",
       "      <td>2/29/16 1:16</td>\n",
       "      <td>Created by 6</td>\n",
       "      <td>...</td>\n",
       "      <td>Subcategory 170</td>\n",
       "      <td>Symptom 72</td>\n",
       "      <td>Group 56</td>\n",
       "      <td>?</td>\n",
       "      <td>True</td>\n",
       "      <td>False</td>\n",
       "      <td>2 - Medium</td>\n",
       "      <td>Do Not Notify</td>\n",
       "      <td>?</td>\n",
       "      <td>?</td>\n",
       "    </tr>\n",
       "    <tr>\n",
       "      <th>2</th>\n",
       "      <td>INC0000045</td>\n",
       "      <td>NaN</td>\n",
       "      <td>True</td>\n",
       "      <td>0</td>\n",
       "      <td>0</td>\n",
       "      <td>3</td>\n",
       "      <td>Caller 2403</td>\n",
       "      <td>Opened by  8</td>\n",
       "      <td>2/29/16 1:16</td>\n",
       "      <td>Created by 6</td>\n",
       "      <td>...</td>\n",
       "      <td>Subcategory 170</td>\n",
       "      <td>Symptom 72</td>\n",
       "      <td>Group 56</td>\n",
       "      <td>?</td>\n",
       "      <td>True</td>\n",
       "      <td>False</td>\n",
       "      <td>2 - Medium</td>\n",
       "      <td>Do Not Notify</td>\n",
       "      <td>?</td>\n",
       "      <td>?</td>\n",
       "    </tr>\n",
       "    <tr>\n",
       "      <th>3</th>\n",
       "      <td>INC0000045</td>\n",
       "      <td>Closed</td>\n",
       "      <td>False</td>\n",
       "      <td>0</td>\n",
       "      <td>0</td>\n",
       "      <td>4</td>\n",
       "      <td>Caller 2403</td>\n",
       "      <td>Opened by  8</td>\n",
       "      <td>2/29/16 1:16</td>\n",
       "      <td>Created by 6</td>\n",
       "      <td>...</td>\n",
       "      <td>Subcategory 170</td>\n",
       "      <td>Symptom 72</td>\n",
       "      <td>Group 56</td>\n",
       "      <td>?</td>\n",
       "      <td>True</td>\n",
       "      <td>False</td>\n",
       "      <td>2 - Medium</td>\n",
       "      <td>Do Not Notify</td>\n",
       "      <td>?</td>\n",
       "      <td>?</td>\n",
       "    </tr>\n",
       "    <tr>\n",
       "      <th>4</th>\n",
       "      <td>INC0000047</td>\n",
       "      <td>New</td>\n",
       "      <td>True</td>\n",
       "      <td>0</td>\n",
       "      <td>0</td>\n",
       "      <td>0</td>\n",
       "      <td>Caller 2403</td>\n",
       "      <td>Opened by  397</td>\n",
       "      <td>2/29/16 4:40</td>\n",
       "      <td>Created by 171</td>\n",
       "      <td>...</td>\n",
       "      <td>Subcategory 215</td>\n",
       "      <td>Symptom 471</td>\n",
       "      <td>Group 70</td>\n",
       "      <td>Resolver 89</td>\n",
       "      <td>True</td>\n",
       "      <td>False</td>\n",
       "      <td>2 - Medium</td>\n",
       "      <td>Do Not Notify</td>\n",
       "      <td>?</td>\n",
       "      <td>?</td>\n",
       "    </tr>\n",
       "  </tbody>\n",
       "</table>\n",
       "<p>5 rows × 25 columns</p>\n",
       "</div>"
      ],
      "text/plain": [
       "           ID ID_status  active  count_reassign  count_opening  count_updated  \\\n",
       "0  INC0000045       New    True               0              0              0   \n",
       "1  INC0000045  Resolved    True               0              0              2   \n",
       "2  INC0000045       NaN    True               0              0              3   \n",
       "3  INC0000045    Closed   False               0              0              4   \n",
       "4  INC0000047       New    True               0              0              0   \n",
       "\n",
       "     ID_caller       opened_by   opened_time      Created_by  ...  \\\n",
       "0  Caller 2403    Opened by  8  2/29/16 1:16    Created by 6  ...   \n",
       "1  Caller 2403    Opened by  8  2/29/16 1:16    Created by 6  ...   \n",
       "2  Caller 2403    Opened by  8  2/29/16 1:16    Created by 6  ...   \n",
       "3  Caller 2403    Opened by  8  2/29/16 1:16    Created by 6  ...   \n",
       "4  Caller 2403  Opened by  397  2/29/16 4:40  Created by 171  ...   \n",
       "\n",
       "       Category Id user_symptom Support_group support_incharge Doc_knowledge  \\\n",
       "0  Subcategory 170   Symptom 72      Group 56                ?          True   \n",
       "1  Subcategory 170   Symptom 72      Group 56                ?          True   \n",
       "2  Subcategory 170   Symptom 72      Group 56                ?          True   \n",
       "3  Subcategory 170   Symptom 72      Group 56                ?          True   \n",
       "4  Subcategory 215  Symptom 471      Group 70      Resolver 89          True   \n",
       "\n",
       "  confirmation_check      impact         notify problem_ID  change_request  \n",
       "0              False  2 - Medium  Do Not Notify          ?               ?  \n",
       "1              False  2 - Medium  Do Not Notify          ?               ?  \n",
       "2              False  2 - Medium  Do Not Notify          ?               ?  \n",
       "3              False  2 - Medium  Do Not Notify          ?               ?  \n",
       "4              False  2 - Medium  Do Not Notify          ?               ?  \n",
       "\n",
       "[5 rows x 25 columns]"
      ]
     },
     "execution_count": 3,
     "metadata": {},
     "output_type": "execute_result"
    }
   ],
   "source": [
    "service.head()"
   ]
  },
  {
   "cell_type": "markdown",
   "metadata": {},
   "source": [
    "#  we have replaced special character \"?\" with nan."
   ]
  },
  {
   "cell_type": "code",
   "execution_count": 4,
   "metadata": {
    "ExecuteTime": {
     "end_time": "2021-03-02T11:42:20.899276Z",
     "start_time": "2021-03-02T11:42:20.880049Z"
    }
   },
   "outputs": [],
   "source": [
    "service.replace('?', np.nan,inplace=True)"
   ]
  },
  {
   "cell_type": "code",
   "execution_count": 5,
   "metadata": {
    "ExecuteTime": {
     "end_time": "2021-03-02T11:42:21.041542Z",
     "start_time": "2021-03-02T11:42:20.900273Z"
    }
   },
   "outputs": [
    {
     "data": {
      "text/html": [
       "<div>\n",
       "<style scoped>\n",
       "    .dataframe tbody tr th:only-of-type {\n",
       "        vertical-align: middle;\n",
       "    }\n",
       "\n",
       "    .dataframe tbody tr th {\n",
       "        vertical-align: top;\n",
       "    }\n",
       "\n",
       "    .dataframe thead th {\n",
       "        text-align: right;\n",
       "    }\n",
       "</style>\n",
       "<table border=\"1\" class=\"dataframe\">\n",
       "  <thead>\n",
       "    <tr style=\"text-align: right;\">\n",
       "      <th></th>\n",
       "      <th>ID</th>\n",
       "      <th>ID_status</th>\n",
       "      <th>active</th>\n",
       "      <th>count_reassign</th>\n",
       "      <th>count_opening</th>\n",
       "      <th>count_updated</th>\n",
       "      <th>ID_caller</th>\n",
       "      <th>opened_by</th>\n",
       "      <th>opened_time</th>\n",
       "      <th>Created_by</th>\n",
       "      <th>...</th>\n",
       "      <th>Category Id</th>\n",
       "      <th>user_symptom</th>\n",
       "      <th>Support_group</th>\n",
       "      <th>support_incharge</th>\n",
       "      <th>Doc_knowledge</th>\n",
       "      <th>confirmation_check</th>\n",
       "      <th>impact</th>\n",
       "      <th>notify</th>\n",
       "      <th>problem_ID</th>\n",
       "      <th>change_request</th>\n",
       "    </tr>\n",
       "  </thead>\n",
       "  <tbody>\n",
       "    <tr>\n",
       "      <th>0</th>\n",
       "      <td>INC0000045</td>\n",
       "      <td>New</td>\n",
       "      <td>True</td>\n",
       "      <td>0</td>\n",
       "      <td>0</td>\n",
       "      <td>0</td>\n",
       "      <td>Caller 2403</td>\n",
       "      <td>Opened by  8</td>\n",
       "      <td>2/29/16 1:16</td>\n",
       "      <td>Created by 6</td>\n",
       "      <td>...</td>\n",
       "      <td>Subcategory 170</td>\n",
       "      <td>Symptom 72</td>\n",
       "      <td>Group 56</td>\n",
       "      <td>NaN</td>\n",
       "      <td>True</td>\n",
       "      <td>False</td>\n",
       "      <td>2 - Medium</td>\n",
       "      <td>Do Not Notify</td>\n",
       "      <td>NaN</td>\n",
       "      <td>NaN</td>\n",
       "    </tr>\n",
       "    <tr>\n",
       "      <th>1</th>\n",
       "      <td>INC0000045</td>\n",
       "      <td>Resolved</td>\n",
       "      <td>True</td>\n",
       "      <td>0</td>\n",
       "      <td>0</td>\n",
       "      <td>2</td>\n",
       "      <td>Caller 2403</td>\n",
       "      <td>Opened by  8</td>\n",
       "      <td>2/29/16 1:16</td>\n",
       "      <td>Created by 6</td>\n",
       "      <td>...</td>\n",
       "      <td>Subcategory 170</td>\n",
       "      <td>Symptom 72</td>\n",
       "      <td>Group 56</td>\n",
       "      <td>NaN</td>\n",
       "      <td>True</td>\n",
       "      <td>False</td>\n",
       "      <td>2 - Medium</td>\n",
       "      <td>Do Not Notify</td>\n",
       "      <td>NaN</td>\n",
       "      <td>NaN</td>\n",
       "    </tr>\n",
       "    <tr>\n",
       "      <th>2</th>\n",
       "      <td>INC0000045</td>\n",
       "      <td>NaN</td>\n",
       "      <td>True</td>\n",
       "      <td>0</td>\n",
       "      <td>0</td>\n",
       "      <td>3</td>\n",
       "      <td>Caller 2403</td>\n",
       "      <td>Opened by  8</td>\n",
       "      <td>2/29/16 1:16</td>\n",
       "      <td>Created by 6</td>\n",
       "      <td>...</td>\n",
       "      <td>Subcategory 170</td>\n",
       "      <td>Symptom 72</td>\n",
       "      <td>Group 56</td>\n",
       "      <td>NaN</td>\n",
       "      <td>True</td>\n",
       "      <td>False</td>\n",
       "      <td>2 - Medium</td>\n",
       "      <td>Do Not Notify</td>\n",
       "      <td>NaN</td>\n",
       "      <td>NaN</td>\n",
       "    </tr>\n",
       "    <tr>\n",
       "      <th>3</th>\n",
       "      <td>INC0000045</td>\n",
       "      <td>Closed</td>\n",
       "      <td>False</td>\n",
       "      <td>0</td>\n",
       "      <td>0</td>\n",
       "      <td>4</td>\n",
       "      <td>Caller 2403</td>\n",
       "      <td>Opened by  8</td>\n",
       "      <td>2/29/16 1:16</td>\n",
       "      <td>Created by 6</td>\n",
       "      <td>...</td>\n",
       "      <td>Subcategory 170</td>\n",
       "      <td>Symptom 72</td>\n",
       "      <td>Group 56</td>\n",
       "      <td>NaN</td>\n",
       "      <td>True</td>\n",
       "      <td>False</td>\n",
       "      <td>2 - Medium</td>\n",
       "      <td>Do Not Notify</td>\n",
       "      <td>NaN</td>\n",
       "      <td>NaN</td>\n",
       "    </tr>\n",
       "    <tr>\n",
       "      <th>4</th>\n",
       "      <td>INC0000047</td>\n",
       "      <td>New</td>\n",
       "      <td>True</td>\n",
       "      <td>0</td>\n",
       "      <td>0</td>\n",
       "      <td>0</td>\n",
       "      <td>Caller 2403</td>\n",
       "      <td>Opened by  397</td>\n",
       "      <td>2/29/16 4:40</td>\n",
       "      <td>Created by 171</td>\n",
       "      <td>...</td>\n",
       "      <td>Subcategory 215</td>\n",
       "      <td>Symptom 471</td>\n",
       "      <td>Group 70</td>\n",
       "      <td>Resolver 89</td>\n",
       "      <td>True</td>\n",
       "      <td>False</td>\n",
       "      <td>2 - Medium</td>\n",
       "      <td>Do Not Notify</td>\n",
       "      <td>NaN</td>\n",
       "      <td>NaN</td>\n",
       "    </tr>\n",
       "  </tbody>\n",
       "</table>\n",
       "<p>5 rows × 25 columns</p>\n",
       "</div>"
      ],
      "text/plain": [
       "           ID ID_status  active  count_reassign  count_opening  count_updated  \\\n",
       "0  INC0000045       New    True               0              0              0   \n",
       "1  INC0000045  Resolved    True               0              0              2   \n",
       "2  INC0000045       NaN    True               0              0              3   \n",
       "3  INC0000045    Closed   False               0              0              4   \n",
       "4  INC0000047       New    True               0              0              0   \n",
       "\n",
       "     ID_caller       opened_by   opened_time      Created_by  ...  \\\n",
       "0  Caller 2403    Opened by  8  2/29/16 1:16    Created by 6  ...   \n",
       "1  Caller 2403    Opened by  8  2/29/16 1:16    Created by 6  ...   \n",
       "2  Caller 2403    Opened by  8  2/29/16 1:16    Created by 6  ...   \n",
       "3  Caller 2403    Opened by  8  2/29/16 1:16    Created by 6  ...   \n",
       "4  Caller 2403  Opened by  397  2/29/16 4:40  Created by 171  ...   \n",
       "\n",
       "       Category Id user_symptom Support_group support_incharge Doc_knowledge  \\\n",
       "0  Subcategory 170   Symptom 72      Group 56              NaN          True   \n",
       "1  Subcategory 170   Symptom 72      Group 56              NaN          True   \n",
       "2  Subcategory 170   Symptom 72      Group 56              NaN          True   \n",
       "3  Subcategory 170   Symptom 72      Group 56              NaN          True   \n",
       "4  Subcategory 215  Symptom 471      Group 70      Resolver 89          True   \n",
       "\n",
       "  confirmation_check      impact         notify problem_ID  change_request  \n",
       "0              False  2 - Medium  Do Not Notify        NaN             NaN  \n",
       "1              False  2 - Medium  Do Not Notify        NaN             NaN  \n",
       "2              False  2 - Medium  Do Not Notify        NaN             NaN  \n",
       "3              False  2 - Medium  Do Not Notify        NaN             NaN  \n",
       "4              False  2 - Medium  Do Not Notify        NaN             NaN  \n",
       "\n",
       "[5 rows x 25 columns]"
      ]
     },
     "execution_count": 5,
     "metadata": {},
     "output_type": "execute_result"
    }
   ],
   "source": [
    "service.head()"
   ]
  },
  {
   "cell_type": "code",
   "execution_count": 6,
   "metadata": {
    "ExecuteTime": {
     "end_time": "2021-03-02T11:42:21.091371Z",
     "start_time": "2021-03-02T11:42:21.047199Z"
    }
   },
   "outputs": [
    {
     "data": {
      "text/plain": [
       "(349, 25)"
      ]
     },
     "execution_count": 6,
     "metadata": {},
     "output_type": "execute_result"
    }
   ],
   "source": [
    "service.shape"
   ]
  },
  {
   "cell_type": "markdown",
   "metadata": {},
   "source": [
    "#  we have done the visualization to understand the data "
   ]
  },
  {
   "cell_type": "code",
   "execution_count": 7,
   "metadata": {
    "ExecuteTime": {
     "end_time": "2021-03-02T11:42:22.129435Z",
     "start_time": "2021-03-02T11:42:21.096219Z"
    }
   },
   "outputs": [
    {
     "data": {
      "text/plain": [
       "<matplotlib.axes._subplots.AxesSubplot at 0x188cff54b80>"
      ]
     },
     "execution_count": 7,
     "metadata": {},
     "output_type": "execute_result"
    },
    {
     "data": {
      "image/png": "[encoded data removed]",
      "text/plain": [
       "<Figure size 432x288 with 1 Axes>"
      ]
     },
     "metadata": {
      "needs_background": "light"
     },
     "output_type": "display_data"
    }
   ],
   "source": [
    "sns.heatmap(service.isnull(),cbar=False,cmap='viridis')"
   ]
  },
  {
   "cell_type": "markdown",
   "metadata": {},
   "source": [
    "#\n",
    "we can observe that created by , created at, has missing values nearly of about 40% \n",
    "of data  and in support incharge 80% of the data is missing and in problem id and change request nearly 90-95% of the data is missing."
   ]
  },
  {
   "cell_type": "code",
   "execution_count": 8,
   "metadata": {
    "ExecuteTime": {
     "end_time": "2021-03-02T11:42:22.489189Z",
     "start_time": "2021-03-02T11:42:22.136223Z"
    }
   },
   "outputs": [
    {
     "data": {
      "text/plain": [
       "<matplotlib.axes._subplots.AxesSubplot at 0x188d0073790>"
      ]
     },
     "execution_count": 8,
     "metadata": {},
     "output_type": "execute_result"
    },
    {
     "data": {
      "image/png": "[encoded data removed]",
      "text/plain": [
       "<Figure size 432x288 with 1 Axes>"
      ]
     },
     "metadata": {},
     "output_type": "display_data"
    }
   ],
   "source": [
    "sns.set_style('whitegrid')\n",
    "sns.countplot(x='impact',data=service,palette='RdBu_r')"
   ]
  },
  {
   "cell_type": "markdown",
   "metadata": {},
   "source": [
    "#\n",
    "The above count plot says that there are nearly around 300 2-medium issues, around 10 1-high issues and  15 3-low medium issues which causes the impact."
   ]
  },
  {
   "cell_type": "code",
   "execution_count": 9,
   "metadata": {
    "ExecuteTime": {
     "end_time": "2021-03-02T11:42:23.011267Z",
     "start_time": "2021-03-02T11:42:22.500705Z"
    }
   },
   "outputs": [
    {
     "data": {
      "text/plain": [
       "<matplotlib.axes._subplots.AxesSubplot at 0x188d0100520>"
      ]
     },
     "execution_count": 9,
     "metadata": {},
     "output_type": "execute_result"
    },
    {
     "data": {
      "image/png": "[encoded data removed]",
      "text/plain": [
       "<Figure size 432x288 with 1 Axes>"
      ]
     },
     "metadata": {},
     "output_type": "display_data"
    }
   ],
   "source": [
    "sns.set_style('whitegrid')\n",
    "sns.countplot(x='impact',hue='ID_status',data=service,palette='RdBu_r')"
   ]
  },
  {
   "cell_type": "markdown",
   "metadata": {},
   "source": [
    "#\n",
    "The above visualization shows the impact with respect to the ID status."
   ]
  },
  {
   "cell_type": "code",
   "execution_count": 10,
   "metadata": {
    "ExecuteTime": {
     "end_time": "2021-03-02T11:42:23.339603Z",
     "start_time": "2021-03-02T11:42:23.013477Z"
    }
   },
   "outputs": [
    {
     "data": {
      "text/plain": [
       "<matplotlib.axes._subplots.AxesSubplot at 0x188d0073b50>"
      ]
     },
     "execution_count": 10,
     "metadata": {},
     "output_type": "execute_result"
    },
    {
     "data": {
      "image/png": "[encoded data removed]",
      "text/plain": [
       "<Figure size 432x288 with 1 Axes>"
      ]
     },
     "metadata": {},
     "output_type": "display_data"
    }
   ],
   "source": [
    "sns.set_style('whitegrid')\n",
    "sns.countplot(x='impact',hue='active',data=service,palette='RdBu_r')"
   ]
  },
  {
   "cell_type": "markdown",
   "metadata": {},
   "source": [
    "# \n",
    "impact with respect to status of the issues."
   ]
  },
  {
   "cell_type": "code",
   "execution_count": 11,
   "metadata": {
    "ExecuteTime": {
     "end_time": "2021-03-02T11:42:24.576739Z",
     "start_time": "2021-03-02T11:42:23.345943Z"
    }
   },
   "outputs": [
    {
     "data": {
      "text/plain": [
       "<matplotlib.axes._subplots.AxesSubplot at 0x188d016adc0>"
      ]
     },
     "execution_count": 11,
     "metadata": {},
     "output_type": "execute_result"
    },
    {
     "data": {
      "image/png": "[encoded data removed]",
      "text/plain": [
       "<Figure size 2160x576 with 1 Axes>"
      ]
     },
     "metadata": {},
     "output_type": "display_data"
    }
   ],
   "source": [
    "plt.figure(figsize=(30,8))\n",
    "sns.set_style('whitegrid')\n",
    "sns.countplot(x='impact',hue='user_symptom',data=service)"
   ]
  },
  {
   "cell_type": "markdown",
   "metadata": {},
   "source": [
    "# \n",
    "impact with respect to user symptoms "
   ]
  },
  {
   "cell_type": "code",
   "execution_count": 12,
   "metadata": {
    "ExecuteTime": {
     "end_time": "2021-03-02T11:42:24.613108Z",
     "start_time": "2021-03-02T11:42:24.577588Z"
    }
   },
   "outputs": [
    {
     "data": {
      "text/html": [
       "<div>\n",
       "<style scoped>\n",
       "    .dataframe tbody tr th:only-of-type {\n",
       "        vertical-align: middle;\n",
       "    }\n",
       "\n",
       "    .dataframe tbody tr th {\n",
       "        vertical-align: top;\n",
       "    }\n",
       "\n",
       "    .dataframe thead th {\n",
       "        text-align: right;\n",
       "    }\n",
       "</style>\n",
       "<table border=\"1\" class=\"dataframe\">\n",
       "  <thead>\n",
       "    <tr style=\"text-align: right;\">\n",
       "      <th></th>\n",
       "      <th>active</th>\n",
       "      <th>count_reassign</th>\n",
       "      <th>count_opening</th>\n",
       "      <th>count_updated</th>\n",
       "      <th>Doc_knowledge</th>\n",
       "      <th>confirmation_check</th>\n",
       "    </tr>\n",
       "  </thead>\n",
       "  <tbody>\n",
       "    <tr>\n",
       "      <th>active</th>\n",
       "      <td>1.000000</td>\n",
       "      <td>-0.040621</td>\n",
       "      <td>-0.043858</td>\n",
       "      <td>-0.271440</td>\n",
       "      <td>NaN</td>\n",
       "      <td>-0.158888</td>\n",
       "    </tr>\n",
       "    <tr>\n",
       "      <th>count_reassign</th>\n",
       "      <td>-0.040621</td>\n",
       "      <td>1.000000</td>\n",
       "      <td>0.280939</td>\n",
       "      <td>0.593666</td>\n",
       "      <td>NaN</td>\n",
       "      <td>0.015397</td>\n",
       "    </tr>\n",
       "    <tr>\n",
       "      <th>count_opening</th>\n",
       "      <td>-0.043858</td>\n",
       "      <td>0.280939</td>\n",
       "      <td>1.000000</td>\n",
       "      <td>0.341662</td>\n",
       "      <td>NaN</td>\n",
       "      <td>-0.015993</td>\n",
       "    </tr>\n",
       "    <tr>\n",
       "      <th>count_updated</th>\n",
       "      <td>-0.271440</td>\n",
       "      <td>0.593666</td>\n",
       "      <td>0.341662</td>\n",
       "      <td>1.000000</td>\n",
       "      <td>NaN</td>\n",
       "      <td>0.403637</td>\n",
       "    </tr>\n",
       "    <tr>\n",
       "      <th>Doc_knowledge</th>\n",
       "      <td>NaN</td>\n",
       "      <td>NaN</td>\n",
       "      <td>NaN</td>\n",
       "      <td>NaN</td>\n",
       "      <td>NaN</td>\n",
       "      <td>NaN</td>\n",
       "    </tr>\n",
       "    <tr>\n",
       "      <th>confirmation_check</th>\n",
       "      <td>-0.158888</td>\n",
       "      <td>0.015397</td>\n",
       "      <td>-0.015993</td>\n",
       "      <td>0.403637</td>\n",
       "      <td>NaN</td>\n",
       "      <td>1.000000</td>\n",
       "    </tr>\n",
       "  </tbody>\n",
       "</table>\n",
       "</div>"
      ],
      "text/plain": [
       "                      active  count_reassign  count_opening  count_updated  \\\n",
       "active              1.000000       -0.040621      -0.043858      -0.271440   \n",
       "count_reassign     -0.040621        1.000000       0.280939       0.593666   \n",
       "count_opening      -0.043858        0.280939       1.000000       0.341662   \n",
       "count_updated      -0.271440        0.593666       0.341662       1.000000   \n",
       "Doc_knowledge            NaN             NaN            NaN            NaN   \n",
       "confirmation_check -0.158888        0.015397      -0.015993       0.403637   \n",
       "\n",
       "                    Doc_knowledge  confirmation_check  \n",
       "active                        NaN           -0.158888  \n",
       "count_reassign                NaN            0.015397  \n",
       "count_opening                 NaN           -0.015993  \n",
       "count_updated                 NaN            0.403637  \n",
       "Doc_knowledge                 NaN                 NaN  \n",
       "confirmation_check            NaN            1.000000  "
      ]
     },
     "execution_count": 12,
     "metadata": {},
     "output_type": "execute_result"
    }
   ],
   "source": [
    "service.corr()"
   ]
  },
  {
   "cell_type": "markdown",
   "metadata": {},
   "source": [
    "# speeding up the EDA process using Dtale "
   ]
  },
  {
   "cell_type": "code",
   "execution_count": 13,
   "metadata": {
    "ExecuteTime": {
     "end_time": "2021-03-02T11:42:30.968296Z",
     "start_time": "2021-03-02T11:42:24.614927Z"
    }
   },
   "outputs": [],
   "source": [
    " eda =dtale.show(service)"
   ]
  },
  {
   "cell_type": "code",
   "execution_count": 17,
   "metadata": {
    "ExecuteTime": {
     "end_time": "2021-03-02T11:43:48.451859Z",
     "start_time": "2021-03-02T11:43:46.375370Z"
    }
   },
   "outputs": [
    {
     "data": {
      "text/html": [
       "\n",
       "        <iframe\n",
       "            width=\"100%\"\n",
       "            height=\"475\"\n",
       "            src=\"http://DESKTOP-IIA5N5O:40001/dtale/iframe/1\"\n",
       "            frameborder=\"0\"\n",
       "            allowfullscreen\n",
       "        ></iframe>\n",
       "        "
      ],
      "text/plain": [
       "<IPython.lib.display.IFrame at 0x188dda07cd0>"
      ]
     },
     "metadata": {},
     "output_type": "display_data"
    },
    {
     "data": {
      "text/plain": []
     },
     "execution_count": 17,
     "metadata": {},
     "output_type": "execute_result"
    }
   ],
   "source": [
    "eda"
   ]
  },
  {
   "cell_type": "markdown",
   "metadata": {},
   "source": [
    "# EDA process using sweet viz"
   ]
  },
  {
   "cell_type": "code",
   "execution_count": 14,
   "metadata": {
    "ExecuteTime": {
     "end_time": "2021-03-02T11:42:43.880432Z",
     "start_time": "2021-03-02T11:42:31.035416Z"
    }
   },
   "outputs": [
    {
     "data": {
      "application/vnd.jupyter.widget-view+json": {
       "model_id": "c2fa488c468240b0a3a0b3f126c44567",
       "version_major": 2,
       "version_minor": 0
      },
      "text/plain": [
       "HBox(children=(FloatProgress(value=0.0, layout=Layout(flex='2'), max=26.0), HTML(value='')), layout=Layout(dis…"
      ]
     },
     "metadata": {},
     "output_type": "display_data"
    },
    {
     "name": "stdout",
     "output_type": "stream",
     "text": [
      "\n",
      "Report EDA using sweet viz.html was generated! NOTEBOOK/COLAB USERS: the web browser MAY not pop up, regardless, the report IS saved in your notebook/colab files.\n"
     ]
    }
   ],
   "source": [
    "sweet_report = sv.analyze(service)\n",
    "sweet_report.show_html('EDA using sweet viz.html')"
   ]
  },
  {
   "cell_type": "markdown",
   "metadata": {},
   "source": [
    "# EDA process using pandas profiling "
   ]
  },
  {
   "cell_type": "code",
   "execution_count": 15,
   "metadata": {
    "ExecuteTime": {
     "end_time": "2021-03-02T11:43:19.393224Z",
     "start_time": "2021-03-02T11:42:43.880432Z"
    }
   },
   "outputs": [
    {
     "data": {
      "application/vnd.jupyter.widget-view+json": {
       "model_id": "9cbdf759a12b44489ee4c5347853d061",
       "version_major": 2,
       "version_minor": 0
      },
      "text/plain": [
       "HBox(children=(FloatProgress(value=0.0, description='Summarize dataset', max=39.0, style=ProgressStyle(descrip…"
      ]
     },
     "metadata": {},
     "output_type": "display_data"
    },
    {
     "name": "stderr",
     "output_type": "stream",
     "text": [
      "C:\\Users\\Anup w\\anaconda3\\lib\\site-packages\\pandas_profiling\\model\\correlations.py:101: UserWarning:\n",
      "\n",
      "There was an attempt to calculate the cramers correlation, but this failed.\n",
      "To hide this warning, disable the calculation\n",
      "(using `df.profile_report(correlations={\"cramers\": {\"calculate\": False}})`\n",
      "If this is problematic for your use case, please report this as an issue:\n",
      "https://github.com/pandas-profiling/pandas-profiling/issues\n",
      "(include the error message: 'No data; `observed` has size 0.')\n",
      "\n"
     ]
    },
    {
     "name": "stdout",
     "output_type": "stream",
     "text": [
      "\n"
     ]
    },
    {
     "data": {
      "application/vnd.jupyter.widget-view+json": {
       "model_id": "791f32919f5c478893ddea7da5143ff9",
       "version_major": 2,
       "version_minor": 0
      },
      "text/plain": [
       "HBox(children=(FloatProgress(value=0.0, description='Generate report structure', max=1.0, style=ProgressStyle(…"
      ]
     },
     "metadata": {},
     "output_type": "display_data"
    },
    {
     "name": "stdout",
     "output_type": "stream",
     "text": [
      "\n"
     ]
    },
    {
     "data": {
      "application/vnd.jupyter.widget-view+json": {
       "model_id": "a846498b1cb846e7901541b5db5c1da2",
       "version_major": 2,
       "version_minor": 0
      },
      "text/plain": [
       "HBox(children=(FloatProgress(value=0.0, description='Render HTML', max=1.0, style=ProgressStyle(description_wi…"
      ]
     },
     "metadata": {},
     "output_type": "display_data"
    },
    {
     "name": "stdout",
     "output_type": "stream",
     "text": [
      "\n"
     ]
    },
    {
     "data": {
      "application/vnd.jupyter.widget-view+json": {
       "model_id": "104e175c1d9c424499d5c657090281c9",
       "version_major": 2,
       "version_minor": 0
      },
      "text/plain": [
       "HBox(children=(FloatProgress(value=0.0, description='Export report to file', max=1.0, style=ProgressStyle(desc…"
      ]
     },
     "metadata": {},
     "output_type": "display_data"
    },
    {
     "name": "stdout",
     "output_type": "stream",
     "text": [
      "\n"
     ]
    }
   ],
   "source": [
    "EDA_report= pp.ProfileReport(service)\n",
    "EDA_report.to_file(output_file='EDA using pandas profiling.html')"
   ]
  }
 ],
 "metadata": {
  "kernelspec": {
   "display_name": "Python 3",
   "language": "python",
   "name": "python3"
  },
  "language_info": {
   "codemirror_mode": {
    "name": "ipython",
    "version": 3
   },
   "file_extension": ".py",
   "mimetype": "text/x-python",
   "name": "python",
   "nbconvert_exporter": "python",
   "pygments_lexer": "ipython3",
   "version": "3.8.3"
  },
  "varInspector": {
   "cols": {
    "lenName": 16,
    "lenType": 16,
    "lenVar": 40
   },
   "kernels_config": {
    "python": {
     "delete_cmd_postfix": "",
     "delete_cmd_prefix": "del ",
     "library": "var_list.py",
     "varRefreshCmd": "print(var_dic_list())"
    },
    "r": {
     "delete_cmd_postfix": ") ",
     "delete_cmd_prefix": "rm(",
     "library": "var_list.r",
     "varRefreshCmd": "cat(var_dic_list()) "
    }
   },
   "types_to_exclude": [
    "module",
    "function",
    "builtin_function_or_method",
    "instance",
    "_Feature"
   ],
   "window_display": false
  }
 },
 "nbformat": 4,
 "nbformat_minor": 4
}
