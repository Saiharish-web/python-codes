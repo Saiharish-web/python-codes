{
 "cells": [
  {
   "cell_type": "markdown",
   "metadata": {},
   "source": [
    "# model building using important features , the important features used to predict impact of the incident are : \n",
    "number, caller_id, open_by, updatedby, createdby, assigned_to, loc, category, opened_at_day, sysmodcount,"
   ]
  },
  {
   "cell_type": "markdown",
   "metadata": {},
   "source": [
    "\n",
    "import the basic libraries "
   ]
  },
  {
   "cell_type": "code",
   "execution_count": 1,
   "metadata": {
    "ExecuteTime": {
     "end_time": "2021-03-11T08:07:07.450635Z",
     "start_time": "2021-03-11T08:06:51.699009Z"
    }
   },
   "outputs": [],
   "source": [
    "import pandas as pd\n",
    "import numpy as np \n",
    "from matplotlib import pyplot as plt \n",
    "import seaborn as sns \n"
   ]
  },
  {
   "cell_type": "markdown",
   "metadata": {},
   "source": [
    "# import the dataset \n"
   ]
  },
  {
   "cell_type": "code",
   "execution_count": 2,
   "metadata": {
    "ExecuteTime": {
     "end_time": "2021-03-11T08:07:08.254491Z",
     "start_time": "2021-03-11T08:07:07.450635Z"
    }
   },
   "outputs": [],
   "source": [
    "df = pd.read_csv(\"final data.csv\")"
   ]
  },
  {
   "cell_type": "code",
   "execution_count": 3,
   "metadata": {
    "ExecuteTime": {
     "end_time": "2021-03-11T08:07:08.308053Z",
     "start_time": "2021-03-11T08:07:08.254491Z"
    }
   },
   "outputs": [
    {
     "data": {
      "text/html": [
       "<div>\n",
       "<style scoped>\n",
       "    .dataframe tbody tr th:only-of-type {\n",
       "        vertical-align: middle;\n",
       "    }\n",
       "\n",
       "    .dataframe tbody tr th {\n",
       "        vertical-align: top;\n",
       "    }\n",
       "\n",
       "    .dataframe thead th {\n",
       "        text-align: right;\n",
       "    }\n",
       "</style>\n",
       "<table border=\"1\" class=\"dataframe\">\n",
       "  <thead>\n",
       "    <tr style=\"text-align: right;\">\n",
       "      <th></th>\n",
       "      <th>number</th>\n",
       "      <th>incidentstate</th>\n",
       "      <th>active</th>\n",
       "      <th>reassignmentcount</th>\n",
       "      <th>reopencount</th>\n",
       "      <th>sysmodcount</th>\n",
       "      <th>contact_type</th>\n",
       "      <th>knowledge</th>\n",
       "      <th>upriorityconfirmation</th>\n",
       "      <th>caller_id</th>\n",
       "      <th>...</th>\n",
       "      <th>opened_at_day</th>\n",
       "      <th>opened_at_month</th>\n",
       "      <th>opened_at_year</th>\n",
       "      <th>opened_at_hr</th>\n",
       "      <th>opened_at_minute</th>\n",
       "      <th>created_at_day</th>\n",
       "      <th>created_at_month</th>\n",
       "      <th>created_at_year</th>\n",
       "      <th>created_at_hr</th>\n",
       "      <th>created_at_minute</th>\n",
       "    </tr>\n",
       "  </thead>\n",
       "  <tbody>\n",
       "    <tr>\n",
       "      <th>0</th>\n",
       "      <td>0</td>\n",
       "      <td>7</td>\n",
       "      <td>1</td>\n",
       "      <td>0</td>\n",
       "      <td>0</td>\n",
       "      <td>0</td>\n",
       "      <td>3</td>\n",
       "      <td>1</td>\n",
       "      <td>0</td>\n",
       "      <td>2403</td>\n",
       "      <td>...</td>\n",
       "      <td>29</td>\n",
       "      <td>2</td>\n",
       "      <td>2016</td>\n",
       "      <td>4</td>\n",
       "      <td>40</td>\n",
       "      <td>29</td>\n",
       "      <td>2</td>\n",
       "      <td>2016</td>\n",
       "      <td>4</td>\n",
       "      <td>57</td>\n",
       "    </tr>\n",
       "    <tr>\n",
       "      <th>1</th>\n",
       "      <td>0</td>\n",
       "      <td>1</td>\n",
       "      <td>1</td>\n",
       "      <td>1</td>\n",
       "      <td>0</td>\n",
       "      <td>1</td>\n",
       "      <td>3</td>\n",
       "      <td>1</td>\n",
       "      <td>0</td>\n",
       "      <td>2403</td>\n",
       "      <td>...</td>\n",
       "      <td>29</td>\n",
       "      <td>2</td>\n",
       "      <td>2016</td>\n",
       "      <td>4</td>\n",
       "      <td>40</td>\n",
       "      <td>29</td>\n",
       "      <td>2</td>\n",
       "      <td>2016</td>\n",
       "      <td>4</td>\n",
       "      <td>57</td>\n",
       "    </tr>\n",
       "    <tr>\n",
       "      <th>2</th>\n",
       "      <td>0</td>\n",
       "      <td>1</td>\n",
       "      <td>1</td>\n",
       "      <td>1</td>\n",
       "      <td>0</td>\n",
       "      <td>2</td>\n",
       "      <td>3</td>\n",
       "      <td>1</td>\n",
       "      <td>0</td>\n",
       "      <td>2403</td>\n",
       "      <td>...</td>\n",
       "      <td>29</td>\n",
       "      <td>2</td>\n",
       "      <td>2016</td>\n",
       "      <td>4</td>\n",
       "      <td>40</td>\n",
       "      <td>29</td>\n",
       "      <td>2</td>\n",
       "      <td>2016</td>\n",
       "      <td>4</td>\n",
       "      <td>57</td>\n",
       "    </tr>\n",
       "    <tr>\n",
       "      <th>3</th>\n",
       "      <td>0</td>\n",
       "      <td>1</td>\n",
       "      <td>1</td>\n",
       "      <td>1</td>\n",
       "      <td>0</td>\n",
       "      <td>3</td>\n",
       "      <td>3</td>\n",
       "      <td>1</td>\n",
       "      <td>0</td>\n",
       "      <td>2403</td>\n",
       "      <td>...</td>\n",
       "      <td>29</td>\n",
       "      <td>2</td>\n",
       "      <td>2016</td>\n",
       "      <td>4</td>\n",
       "      <td>40</td>\n",
       "      <td>29</td>\n",
       "      <td>2</td>\n",
       "      <td>2016</td>\n",
       "      <td>4</td>\n",
       "      <td>57</td>\n",
       "    </tr>\n",
       "    <tr>\n",
       "      <th>4</th>\n",
       "      <td>0</td>\n",
       "      <td>1</td>\n",
       "      <td>1</td>\n",
       "      <td>1</td>\n",
       "      <td>0</td>\n",
       "      <td>4</td>\n",
       "      <td>3</td>\n",
       "      <td>1</td>\n",
       "      <td>0</td>\n",
       "      <td>2403</td>\n",
       "      <td>...</td>\n",
       "      <td>29</td>\n",
       "      <td>2</td>\n",
       "      <td>2016</td>\n",
       "      <td>4</td>\n",
       "      <td>40</td>\n",
       "      <td>29</td>\n",
       "      <td>2</td>\n",
       "      <td>2016</td>\n",
       "      <td>4</td>\n",
       "      <td>57</td>\n",
       "    </tr>\n",
       "  </tbody>\n",
       "</table>\n",
       "<p>5 rows × 33 columns</p>\n",
       "</div>"
      ],
      "text/plain": [
       "   number  incidentstate  active  reassignmentcount  reopencount  sysmodcount  \\\n",
       "0       0              7       1                  0            0            0   \n",
       "1       0              1       1                  1            0            1   \n",
       "2       0              1       1                  1            0            2   \n",
       "3       0              1       1                  1            0            3   \n",
       "4       0              1       1                  1            0            4   \n",
       "\n",
       "   contact_type  knowledge  upriorityconfirmation  caller_id  ...  \\\n",
       "0             3          1                      0       2403  ...   \n",
       "1             3          1                      0       2403  ...   \n",
       "2             3          1                      0       2403  ...   \n",
       "3             3          1                      0       2403  ...   \n",
       "4             3          1                      0       2403  ...   \n",
       "\n",
       "   opened_at_day  opened_at_month  opened_at_year  opened_at_hr  \\\n",
       "0             29                2            2016             4   \n",
       "1             29                2            2016             4   \n",
       "2             29                2            2016             4   \n",
       "3             29                2            2016             4   \n",
       "4             29                2            2016             4   \n",
       "\n",
       "   opened_at_minute  created_at_day  created_at_month  created_at_year  \\\n",
       "0                40              29                 2             2016   \n",
       "1                40              29                 2             2016   \n",
       "2                40              29                 2             2016   \n",
       "3                40              29                 2             2016   \n",
       "4                40              29                 2             2016   \n",
       "\n",
       "   created_at_hr  created_at_minute  \n",
       "0              4                 57  \n",
       "1              4                 57  \n",
       "2              4                 57  \n",
       "3              4                 57  \n",
       "4              4                 57  \n",
       "\n",
       "[5 rows x 33 columns]"
      ]
     },
     "execution_count": 3,
     "metadata": {},
     "output_type": "execute_result"
    }
   ],
   "source": [
    "df.head()"
   ]
  },
  {
   "cell_type": "code",
   "execution_count": 4,
   "metadata": {
    "ExecuteTime": {
     "end_time": "2021-03-11T08:07:08.439463Z",
     "start_time": "2021-03-11T08:07:08.308053Z"
    }
   },
   "outputs": [
    {
     "data": {
      "text/plain": [
       "Index(['number', 'incidentstate', 'active', 'reassignmentcount', 'reopencount',\n",
       "       'sysmodcount', 'contact_type', 'knowledge', 'upriorityconfirmation',\n",
       "       'caller_id', 'open_by', 'createdby', 'updatedby', 'loc', 'category',\n",
       "       'symptom', 'i_impact', 'assigned_to', 'updated_day', 'updated_month',\n",
       "       'updated_year', 'updated_hr', 'updated_minute', 'opened_at_day',\n",
       "       'opened_at_month', 'opened_at_year', 'opened_at_hr', 'opened_at_minute',\n",
       "       'created_at_day', 'created_at_month', 'created_at_year',\n",
       "       'created_at_hr', 'created_at_minute'],\n",
       "      dtype='object')"
      ]
     },
     "execution_count": 4,
     "metadata": {},
     "output_type": "execute_result"
    }
   ],
   "source": [
    "df.columns"
   ]
  },
  {
   "cell_type": "code",
   "execution_count": 5,
   "metadata": {
    "ExecuteTime": {
     "end_time": "2021-03-11T08:07:08.609356Z",
     "start_time": "2021-03-11T08:07:08.439463Z"
    }
   },
   "outputs": [],
   "source": [
    "df.columns=['number','incidentstate','active','reassignmentcount','reopencount',\n",
    "       'sysmodcount','contacttype','knowledge','upriorityconfirmation',\n",
    "       'callerid','open_by','createdby','updatedby','loc','category',\n",
    "       'symptom','iimpact','assignedto','updatedday','updatedmonth',\n",
    "       'updatedyear','updatedhr','updatedminute','openedatday',\n",
    "       'openedatmonth','openedatyear','openedathr','openedatminute',\n",
    "       'createdatday','createdatmonth','createdatyear',\n",
    "       'createdathr','createdatminute']"
   ]
  },
  {
   "cell_type": "code",
   "execution_count": 6,
   "metadata": {
    "ExecuteTime": {
     "end_time": "2021-03-11T08:07:08.804815Z",
     "start_time": "2021-03-11T08:07:08.609356Z"
    }
   },
   "outputs": [],
   "source": [
    "df_new=df.drop (['incidentstate','active','reassignmentcount','contacttype','knowledge','upriorityconfirmation','symptom','updatedday','updatedmonth','updatedyear','updatedhr','updatedminute','openedatmonth','openedatyear','openedathr','openedatminute','createdatday','createdatmonth','createdatyear','createdathr','createdatminute'], axis=1)"
   ]
  },
  {
   "cell_type": "code",
   "execution_count": 7,
   "metadata": {
    "ExecuteTime": {
     "end_time": "2021-03-11T08:07:08.972768Z",
     "start_time": "2021-03-11T08:07:08.805814Z"
    }
   },
   "outputs": [
    {
     "data": {
      "text/html": [
       "<div>\n",
       "<style scoped>\n",
       "    .dataframe tbody tr th:only-of-type {\n",
       "        vertical-align: middle;\n",
       "    }\n",
       "\n",
       "    .dataframe tbody tr th {\n",
       "        vertical-align: top;\n",
       "    }\n",
       "\n",
       "    .dataframe thead th {\n",
       "        text-align: right;\n",
       "    }\n",
       "</style>\n",
       "<table border=\"1\" class=\"dataframe\">\n",
       "  <thead>\n",
       "    <tr style=\"text-align: right;\">\n",
       "      <th></th>\n",
       "      <th>number</th>\n",
       "      <th>reopencount</th>\n",
       "      <th>sysmodcount</th>\n",
       "      <th>callerid</th>\n",
       "      <th>open_by</th>\n",
       "      <th>createdby</th>\n",
       "      <th>updatedby</th>\n",
       "      <th>loc</th>\n",
       "      <th>category</th>\n",
       "      <th>iimpact</th>\n",
       "      <th>assignedto</th>\n",
       "      <th>openedatday</th>\n",
       "    </tr>\n",
       "  </thead>\n",
       "  <tbody>\n",
       "    <tr>\n",
       "      <th>0</th>\n",
       "      <td>0</td>\n",
       "      <td>0</td>\n",
       "      <td>0</td>\n",
       "      <td>2403</td>\n",
       "      <td>397</td>\n",
       "      <td>171</td>\n",
       "      <td>746</td>\n",
       "      <td>165</td>\n",
       "      <td>215</td>\n",
       "      <td>2</td>\n",
       "      <td>89</td>\n",
       "      <td>29</td>\n",
       "    </tr>\n",
       "    <tr>\n",
       "      <th>1</th>\n",
       "      <td>0</td>\n",
       "      <td>0</td>\n",
       "      <td>1</td>\n",
       "      <td>2403</td>\n",
       "      <td>397</td>\n",
       "      <td>171</td>\n",
       "      <td>21</td>\n",
       "      <td>165</td>\n",
       "      <td>215</td>\n",
       "      <td>2</td>\n",
       "      <td>31</td>\n",
       "      <td>29</td>\n",
       "    </tr>\n",
       "    <tr>\n",
       "      <th>2</th>\n",
       "      <td>0</td>\n",
       "      <td>0</td>\n",
       "      <td>2</td>\n",
       "      <td>2403</td>\n",
       "      <td>397</td>\n",
       "      <td>171</td>\n",
       "      <td>21</td>\n",
       "      <td>165</td>\n",
       "      <td>215</td>\n",
       "      <td>2</td>\n",
       "      <td>31</td>\n",
       "      <td>29</td>\n",
       "    </tr>\n",
       "    <tr>\n",
       "      <th>3</th>\n",
       "      <td>0</td>\n",
       "      <td>0</td>\n",
       "      <td>3</td>\n",
       "      <td>2403</td>\n",
       "      <td>397</td>\n",
       "      <td>171</td>\n",
       "      <td>804</td>\n",
       "      <td>165</td>\n",
       "      <td>215</td>\n",
       "      <td>2</td>\n",
       "      <td>31</td>\n",
       "      <td>29</td>\n",
       "    </tr>\n",
       "    <tr>\n",
       "      <th>4</th>\n",
       "      <td>0</td>\n",
       "      <td>0</td>\n",
       "      <td>4</td>\n",
       "      <td>2403</td>\n",
       "      <td>397</td>\n",
       "      <td>171</td>\n",
       "      <td>703</td>\n",
       "      <td>165</td>\n",
       "      <td>215</td>\n",
       "      <td>2</td>\n",
       "      <td>31</td>\n",
       "      <td>29</td>\n",
       "    </tr>\n",
       "  </tbody>\n",
       "</table>\n",
       "</div>"
      ],
      "text/plain": [
       "   number  reopencount  sysmodcount  callerid  open_by  createdby  updatedby  \\\n",
       "0       0            0            0      2403      397        171        746   \n",
       "1       0            0            1      2403      397        171         21   \n",
       "2       0            0            2      2403      397        171         21   \n",
       "3       0            0            3      2403      397        171        804   \n",
       "4       0            0            4      2403      397        171        703   \n",
       "\n",
       "   loc  category  iimpact  assignedto  openedatday  \n",
       "0  165       215        2          89           29  \n",
       "1  165       215        2          31           29  \n",
       "2  165       215        2          31           29  \n",
       "3  165       215        2          31           29  \n",
       "4  165       215        2          31           29  "
      ]
     },
     "execution_count": 7,
     "metadata": {},
     "output_type": "execute_result"
    }
   ],
   "source": [
    "df_new.head(5)"
   ]
  },
  {
   "cell_type": "code",
   "execution_count": 8,
   "metadata": {
    "ExecuteTime": {
     "end_time": "2021-03-11T08:07:09.126818Z",
     "start_time": "2021-03-11T08:07:08.972768Z"
    }
   },
   "outputs": [
    {
     "data": {
      "text/html": [
       "<div>\n",
       "<style scoped>\n",
       "    .dataframe tbody tr th:only-of-type {\n",
       "        vertical-align: middle;\n",
       "    }\n",
       "\n",
       "    .dataframe tbody tr th {\n",
       "        vertical-align: top;\n",
       "    }\n",
       "\n",
       "    .dataframe thead th {\n",
       "        text-align: right;\n",
       "    }\n",
       "</style>\n",
       "<table border=\"1\" class=\"dataframe\">\n",
       "  <thead>\n",
       "    <tr style=\"text-align: right;\">\n",
       "      <th></th>\n",
       "      <th>number</th>\n",
       "      <th>sysmodcount</th>\n",
       "      <th>callerid</th>\n",
       "      <th>open_by</th>\n",
       "      <th>createdby</th>\n",
       "      <th>updatedby</th>\n",
       "      <th>loc</th>\n",
       "      <th>category</th>\n",
       "      <th>iimpact</th>\n",
       "      <th>assignedto</th>\n",
       "      <th>openedatday</th>\n",
       "    </tr>\n",
       "  </thead>\n",
       "  <tbody>\n",
       "    <tr>\n",
       "      <th>0</th>\n",
       "      <td>0</td>\n",
       "      <td>0</td>\n",
       "      <td>2403</td>\n",
       "      <td>397</td>\n",
       "      <td>171</td>\n",
       "      <td>746</td>\n",
       "      <td>165</td>\n",
       "      <td>215</td>\n",
       "      <td>2</td>\n",
       "      <td>89</td>\n",
       "      <td>29</td>\n",
       "    </tr>\n",
       "    <tr>\n",
       "      <th>1</th>\n",
       "      <td>0</td>\n",
       "      <td>1</td>\n",
       "      <td>2403</td>\n",
       "      <td>397</td>\n",
       "      <td>171</td>\n",
       "      <td>21</td>\n",
       "      <td>165</td>\n",
       "      <td>215</td>\n",
       "      <td>2</td>\n",
       "      <td>31</td>\n",
       "      <td>29</td>\n",
       "    </tr>\n",
       "    <tr>\n",
       "      <th>2</th>\n",
       "      <td>0</td>\n",
       "      <td>2</td>\n",
       "      <td>2403</td>\n",
       "      <td>397</td>\n",
       "      <td>171</td>\n",
       "      <td>21</td>\n",
       "      <td>165</td>\n",
       "      <td>215</td>\n",
       "      <td>2</td>\n",
       "      <td>31</td>\n",
       "      <td>29</td>\n",
       "    </tr>\n",
       "    <tr>\n",
       "      <th>3</th>\n",
       "      <td>0</td>\n",
       "      <td>3</td>\n",
       "      <td>2403</td>\n",
       "      <td>397</td>\n",
       "      <td>171</td>\n",
       "      <td>804</td>\n",
       "      <td>165</td>\n",
       "      <td>215</td>\n",
       "      <td>2</td>\n",
       "      <td>31</td>\n",
       "      <td>29</td>\n",
       "    </tr>\n",
       "    <tr>\n",
       "      <th>4</th>\n",
       "      <td>0</td>\n",
       "      <td>4</td>\n",
       "      <td>2403</td>\n",
       "      <td>397</td>\n",
       "      <td>171</td>\n",
       "      <td>703</td>\n",
       "      <td>165</td>\n",
       "      <td>215</td>\n",
       "      <td>2</td>\n",
       "      <td>31</td>\n",
       "      <td>29</td>\n",
       "    </tr>\n",
       "    <tr>\n",
       "      <th>...</th>\n",
       "      <td>...</td>\n",
       "      <td>...</td>\n",
       "      <td>...</td>\n",
       "      <td>...</td>\n",
       "      <td>...</td>\n",
       "      <td>...</td>\n",
       "      <td>...</td>\n",
       "      <td>...</td>\n",
       "      <td>...</td>\n",
       "      <td>...</td>\n",
       "      <td>...</td>\n",
       "    </tr>\n",
       "    <tr>\n",
       "      <th>141703</th>\n",
       "      <td>24915</td>\n",
       "      <td>4</td>\n",
       "      <td>116</td>\n",
       "      <td>12</td>\n",
       "      <td>10</td>\n",
       "      <td>27</td>\n",
       "      <td>204</td>\n",
       "      <td>223</td>\n",
       "      <td>2</td>\n",
       "      <td>10</td>\n",
       "      <td>16</td>\n",
       "    </tr>\n",
       "    <tr>\n",
       "      <th>141704</th>\n",
       "      <td>24916</td>\n",
       "      <td>0</td>\n",
       "      <td>116</td>\n",
       "      <td>12</td>\n",
       "      <td>10</td>\n",
       "      <td>908</td>\n",
       "      <td>204</td>\n",
       "      <td>223</td>\n",
       "      <td>2</td>\n",
       "      <td>10</td>\n",
       "      <td>16</td>\n",
       "    </tr>\n",
       "    <tr>\n",
       "      <th>141705</th>\n",
       "      <td>24916</td>\n",
       "      <td>1</td>\n",
       "      <td>116</td>\n",
       "      <td>12</td>\n",
       "      <td>10</td>\n",
       "      <td>60</td>\n",
       "      <td>204</td>\n",
       "      <td>223</td>\n",
       "      <td>2</td>\n",
       "      <td>10</td>\n",
       "      <td>16</td>\n",
       "    </tr>\n",
       "    <tr>\n",
       "      <th>141706</th>\n",
       "      <td>24916</td>\n",
       "      <td>2</td>\n",
       "      <td>116</td>\n",
       "      <td>12</td>\n",
       "      <td>10</td>\n",
       "      <td>27</td>\n",
       "      <td>204</td>\n",
       "      <td>223</td>\n",
       "      <td>2</td>\n",
       "      <td>10</td>\n",
       "      <td>16</td>\n",
       "    </tr>\n",
       "    <tr>\n",
       "      <th>141707</th>\n",
       "      <td>24916</td>\n",
       "      <td>3</td>\n",
       "      <td>116</td>\n",
       "      <td>12</td>\n",
       "      <td>10</td>\n",
       "      <td>27</td>\n",
       "      <td>204</td>\n",
       "      <td>223</td>\n",
       "      <td>2</td>\n",
       "      <td>10</td>\n",
       "      <td>16</td>\n",
       "    </tr>\n",
       "  </tbody>\n",
       "</table>\n",
       "<p>141708 rows × 11 columns</p>\n",
       "</div>"
      ],
      "text/plain": [
       "        number  sysmodcount  callerid  open_by  createdby  updatedby  loc  \\\n",
       "0            0            0      2403      397        171        746  165   \n",
       "1            0            1      2403      397        171         21  165   \n",
       "2            0            2      2403      397        171         21  165   \n",
       "3            0            3      2403      397        171        804  165   \n",
       "4            0            4      2403      397        171        703  165   \n",
       "...        ...          ...       ...      ...        ...        ...  ...   \n",
       "141703   24915            4       116       12         10         27  204   \n",
       "141704   24916            0       116       12         10        908  204   \n",
       "141705   24916            1       116       12         10         60  204   \n",
       "141706   24916            2       116       12         10         27  204   \n",
       "141707   24916            3       116       12         10         27  204   \n",
       "\n",
       "        category  iimpact  assignedto  openedatday  \n",
       "0            215        2          89           29  \n",
       "1            215        2          31           29  \n",
       "2            215        2          31           29  \n",
       "3            215        2          31           29  \n",
       "4            215        2          31           29  \n",
       "...          ...      ...         ...          ...  \n",
       "141703       223        2          10           16  \n",
       "141704       223        2          10           16  \n",
       "141705       223        2          10           16  \n",
       "141706       223        2          10           16  \n",
       "141707       223        2          10           16  \n",
       "\n",
       "[141708 rows x 11 columns]"
      ]
     },
     "execution_count": 8,
     "metadata": {},
     "output_type": "execute_result"
    }
   ],
   "source": [
    "df_new.drop(['reopencount'],axis=1)"
   ]
  },
  {
   "cell_type": "code",
   "execution_count": 9,
   "metadata": {
    "ExecuteTime": {
     "end_time": "2021-03-11T08:07:09.466734Z",
     "start_time": "2021-03-11T08:07:09.127819Z"
    }
   },
   "outputs": [],
   "source": [
    "X=df_new.drop(\"iimpact\", axis=1)"
   ]
  },
  {
   "cell_type": "code",
   "execution_count": 10,
   "metadata": {
    "ExecuteTime": {
     "end_time": "2021-03-11T08:07:09.629044Z",
     "start_time": "2021-03-11T08:07:09.466734Z"
    }
   },
   "outputs": [
    {
     "data": {
      "text/html": [
       "<div>\n",
       "<style scoped>\n",
       "    .dataframe tbody tr th:only-of-type {\n",
       "        vertical-align: middle;\n",
       "    }\n",
       "\n",
       "    .dataframe tbody tr th {\n",
       "        vertical-align: top;\n",
       "    }\n",
       "\n",
       "    .dataframe thead th {\n",
       "        text-align: right;\n",
       "    }\n",
       "</style>\n",
       "<table border=\"1\" class=\"dataframe\">\n",
       "  <thead>\n",
       "    <tr style=\"text-align: right;\">\n",
       "      <th></th>\n",
       "      <th>number</th>\n",
       "      <th>reopencount</th>\n",
       "      <th>sysmodcount</th>\n",
       "      <th>callerid</th>\n",
       "      <th>open_by</th>\n",
       "      <th>createdby</th>\n",
       "      <th>updatedby</th>\n",
       "      <th>loc</th>\n",
       "      <th>category</th>\n",
       "      <th>assignedto</th>\n",
       "      <th>openedatday</th>\n",
       "    </tr>\n",
       "  </thead>\n",
       "  <tbody>\n",
       "    <tr>\n",
       "      <th>0</th>\n",
       "      <td>0</td>\n",
       "      <td>0</td>\n",
       "      <td>0</td>\n",
       "      <td>2403</td>\n",
       "      <td>397</td>\n",
       "      <td>171</td>\n",
       "      <td>746</td>\n",
       "      <td>165</td>\n",
       "      <td>215</td>\n",
       "      <td>89</td>\n",
       "      <td>29</td>\n",
       "    </tr>\n",
       "    <tr>\n",
       "      <th>1</th>\n",
       "      <td>0</td>\n",
       "      <td>0</td>\n",
       "      <td>1</td>\n",
       "      <td>2403</td>\n",
       "      <td>397</td>\n",
       "      <td>171</td>\n",
       "      <td>21</td>\n",
       "      <td>165</td>\n",
       "      <td>215</td>\n",
       "      <td>31</td>\n",
       "      <td>29</td>\n",
       "    </tr>\n",
       "    <tr>\n",
       "      <th>2</th>\n",
       "      <td>0</td>\n",
       "      <td>0</td>\n",
       "      <td>2</td>\n",
       "      <td>2403</td>\n",
       "      <td>397</td>\n",
       "      <td>171</td>\n",
       "      <td>21</td>\n",
       "      <td>165</td>\n",
       "      <td>215</td>\n",
       "      <td>31</td>\n",
       "      <td>29</td>\n",
       "    </tr>\n",
       "    <tr>\n",
       "      <th>3</th>\n",
       "      <td>0</td>\n",
       "      <td>0</td>\n",
       "      <td>3</td>\n",
       "      <td>2403</td>\n",
       "      <td>397</td>\n",
       "      <td>171</td>\n",
       "      <td>804</td>\n",
       "      <td>165</td>\n",
       "      <td>215</td>\n",
       "      <td>31</td>\n",
       "      <td>29</td>\n",
       "    </tr>\n",
       "    <tr>\n",
       "      <th>4</th>\n",
       "      <td>0</td>\n",
       "      <td>0</td>\n",
       "      <td>4</td>\n",
       "      <td>2403</td>\n",
       "      <td>397</td>\n",
       "      <td>171</td>\n",
       "      <td>703</td>\n",
       "      <td>165</td>\n",
       "      <td>215</td>\n",
       "      <td>31</td>\n",
       "      <td>29</td>\n",
       "    </tr>\n",
       "  </tbody>\n",
       "</table>\n",
       "</div>"
      ],
      "text/plain": [
       "   number  reopencount  sysmodcount  callerid  open_by  createdby  updatedby  \\\n",
       "0       0            0            0      2403      397        171        746   \n",
       "1       0            0            1      2403      397        171         21   \n",
       "2       0            0            2      2403      397        171         21   \n",
       "3       0            0            3      2403      397        171        804   \n",
       "4       0            0            4      2403      397        171        703   \n",
       "\n",
       "   loc  category  assignedto  openedatday  \n",
       "0  165       215          89           29  \n",
       "1  165       215          31           29  \n",
       "2  165       215          31           29  \n",
       "3  165       215          31           29  \n",
       "4  165       215          31           29  "
      ]
     },
     "execution_count": 10,
     "metadata": {},
     "output_type": "execute_result"
    }
   ],
   "source": [
    "X.head()"
   ]
  },
  {
   "cell_type": "code",
   "execution_count": 11,
   "metadata": {
    "ExecuteTime": {
     "end_time": "2021-03-11T08:07:09.760898Z",
     "start_time": "2021-03-11T08:07:09.629044Z"
    }
   },
   "outputs": [
    {
     "data": {
      "text/plain": [
       "(141708, 11)"
      ]
     },
     "execution_count": 11,
     "metadata": {},
     "output_type": "execute_result"
    }
   ],
   "source": [
    "X.shape"
   ]
  },
  {
   "cell_type": "code",
   "execution_count": 12,
   "metadata": {
    "ExecuteTime": {
     "end_time": "2021-03-11T08:07:09.938841Z",
     "start_time": "2021-03-11T08:07:09.760898Z"
    }
   },
   "outputs": [],
   "source": [
    "Y = df_new['iimpact']"
   ]
  },
  {
   "cell_type": "code",
   "execution_count": 13,
   "metadata": {
    "ExecuteTime": {
     "end_time": "2021-03-11T08:07:10.030462Z",
     "start_time": "2021-03-11T08:07:09.938841Z"
    }
   },
   "outputs": [
    {
     "data": {
      "text/plain": [
       "0    2\n",
       "1    2\n",
       "2    2\n",
       "3    2\n",
       "4    2\n",
       "Name: iimpact, dtype: int64"
      ]
     },
     "execution_count": 13,
     "metadata": {},
     "output_type": "execute_result"
    }
   ],
   "source": [
    "Y.head()"
   ]
  },
  {
   "cell_type": "code",
   "execution_count": 14,
   "metadata": {
    "ExecuteTime": {
     "end_time": "2021-03-11T08:07:10.215737Z",
     "start_time": "2021-03-11T08:07:10.030462Z"
    }
   },
   "outputs": [
    {
     "data": {
      "text/plain": [
       "(141708,)"
      ]
     },
     "execution_count": 14,
     "metadata": {},
     "output_type": "execute_result"
    }
   ],
   "source": [
    "Y.shape"
   ]
  },
  {
   "cell_type": "code",
   "execution_count": 15,
   "metadata": {
    "ExecuteTime": {
     "end_time": "2021-03-11T08:07:12.053050Z",
     "start_time": "2021-03-11T08:07:10.215737Z"
    }
   },
   "outputs": [],
   "source": [
    "from sklearn.model_selection import train_test_split"
   ]
  },
  {
   "cell_type": "code",
   "execution_count": 16,
   "metadata": {
    "ExecuteTime": {
     "end_time": "2021-03-11T08:07:12.115501Z",
     "start_time": "2021-03-11T08:07:12.053050Z"
    }
   },
   "outputs": [],
   "source": [
    "X_train, X_test, y_train, y_test = train_test_split(X, Y, test_size=0.3,random_state=10)"
   ]
  },
  {
   "cell_type": "markdown",
   "metadata": {},
   "source": [
    "# Balancing the train data  "
   ]
  },
  {
   "cell_type": "code",
   "execution_count": 17,
   "metadata": {
    "ExecuteTime": {
     "end_time": "2021-03-11T08:07:16.649801Z",
     "start_time": "2021-03-11T08:07:12.115501Z"
    }
   },
   "outputs": [],
   "source": [
    "from imblearn.over_sampling import SMOTE"
   ]
  },
  {
   "cell_type": "code",
   "execution_count": 18,
   "metadata": {
    "ExecuteTime": {
     "end_time": "2021-03-11T08:07:16.665354Z",
     "start_time": "2021-03-11T08:07:16.649801Z"
    }
   },
   "outputs": [],
   "source": [
    "smote = SMOTE()"
   ]
  },
  {
   "cell_type": "code",
   "execution_count": 19,
   "metadata": {
    "ExecuteTime": {
     "end_time": "2021-03-11T08:07:17.105587Z",
     "start_time": "2021-03-11T08:07:16.667344Z"
    }
   },
   "outputs": [],
   "source": [
    "X_train_smote, y_train_smote = smote.fit_resample(X_train.astype('float'), y_train)"
   ]
  },
  {
   "cell_type": "code",
   "execution_count": 20,
   "metadata": {
    "ExecuteTime": {
     "end_time": "2021-03-11T08:07:17.121775Z",
     "start_time": "2021-03-11T08:07:17.106542Z"
    }
   },
   "outputs": [],
   "source": [
    "from collections import Counter\n"
   ]
  },
  {
   "cell_type": "code",
   "execution_count": 21,
   "metadata": {
    "ExecuteTime": {
     "end_time": "2021-03-11T08:07:17.313221Z",
     "start_time": "2021-03-11T08:07:17.123795Z"
    }
   },
   "outputs": [
    {
     "name": "stdout",
     "output_type": "stream",
     "text": [
      "Before SMOTE : Counter({2: 94155, 3: 2647, 1: 2393})\n",
      "After SMOTE : Counter({2: 94155, 1: 94155, 3: 94155})\n"
     ]
    }
   ],
   "source": [
    "print(\"Before SMOTE :\",Counter(y_train))\n",
    "print(\"After SMOTE :\",Counter(y_train_smote))"
   ]
  },
  {
   "cell_type": "markdown",
   "metadata": {},
   "source": [
    "# model building"
   ]
  },
  {
   "cell_type": "markdown",
   "metadata": {},
   "source": [
    "# 1. random forest classifier "
   ]
  },
  {
   "cell_type": "code",
   "execution_count": 22,
   "metadata": {
    "ExecuteTime": {
     "end_time": "2021-03-11T08:07:17.444035Z",
     "start_time": "2021-03-11T08:07:17.315179Z"
    }
   },
   "outputs": [],
   "source": [
    "X_train_smote_new= X_train_smote[['number', 'callerid', 'open_by', 'updatedby', 'createdby', 'assignedto', 'loc', 'category', 'openedatday', 'sysmodcount']]\n",
    "X_test_new= X_test[['number', 'callerid', 'open_by', 'updatedby', 'createdby', 'assignedto', 'loc', 'category', 'openedatday', 'sysmodcount']]"
   ]
  },
  {
   "cell_type": "code",
   "execution_count": 23,
   "metadata": {
    "ExecuteTime": {
     "end_time": "2021-03-11T08:08:42.471299Z",
     "start_time": "2021-03-11T08:07:17.450016Z"
    }
   },
   "outputs": [
    {
     "data": {
      "text/plain": [
       "RandomForestClassifier(max_depth=27)"
      ]
     },
     "execution_count": 23,
     "metadata": {},
     "output_type": "execute_result"
    }
   ],
   "source": [
    "from sklearn.ensemble import RandomForestClassifier\n",
    "model_rf = RandomForestClassifier(max_depth=27)\n",
    "model_rf.fit(X_train_smote_new,y_train_smote)\n",
    "   "
   ]
  },
  {
   "cell_type": "code",
   "execution_count": 24,
   "metadata": {
    "ExecuteTime": {
     "end_time": "2021-03-11T08:08:43.645157Z",
     "start_time": "2021-03-11T08:08:42.474291Z"
    }
   },
   "outputs": [],
   "source": [
    "# Predicting the model\n",
    "y_predict_rf = model_rf.predict(X_test_new)"
   ]
  },
  {
   "cell_type": "code",
   "execution_count": 25,
   "metadata": {
    "ExecuteTime": {
     "end_time": "2021-03-11T08:08:43.721954Z",
     "start_time": "2021-03-11T08:08:43.647151Z"
    }
   },
   "outputs": [
    {
     "name": "stdout",
     "output_type": "stream",
     "text": [
      "0.9814880154305742\n",
      "              precision    recall  f1-score   support\n",
      "\n",
      "           1       0.89      0.65      0.75      1098\n",
      "           2       0.99      0.99      0.99     40176\n",
      "           3       0.89      0.85      0.87      1239\n",
      "\n",
      "    accuracy                           0.98     42513\n",
      "   macro avg       0.92      0.83      0.87     42513\n",
      "weighted avg       0.98      0.98      0.98     42513\n",
      "\n"
     ]
    }
   ],
   "source": [
    "# Finding accuracy, precision, recall and confusion matrix\n",
    "from sklearn.metrics import accuracy_score, classification_report, confusion_matrix\n",
    "print(accuracy_score(y_test,y_predict_rf))\n",
    "print(classification_report(y_test,y_predict_rf))\n"
   ]
  },
  {
   "cell_type": "code",
   "execution_count": 26,
   "metadata": {
    "ExecuteTime": {
     "end_time": "2021-03-11T08:08:43.877536Z",
     "start_time": "2021-03-11T08:08:43.727939Z"
    }
   },
   "outputs": [
    {
     "data": {
      "text/plain": [
       "array([[  716,   378,     4],\n",
       "       [   82, 39962,   132],\n",
       "       [    7,   184,  1048]], dtype=int64)"
      ]
     },
     "execution_count": 26,
     "metadata": {},
     "output_type": "execute_result"
    }
   ],
   "source": [
    "confusion_matrix(y_test,y_predict_rf)\n"
   ]
  },
  {
   "cell_type": "code",
   "execution_count": 63,
   "metadata": {
    "ExecuteTime": {
     "end_time": "2021-03-11T09:35:49.156468Z",
     "start_time": "2021-03-11T09:35:49.148700Z"
    }
   },
   "outputs": [],
   "source": [
    "accuracy_rf = (716+39962+1048)/(42513)*100"
   ]
  },
  {
   "cell_type": "markdown",
   "metadata": {},
   "source": [
    "# 2. decision tree "
   ]
  },
  {
   "cell_type": "code",
   "execution_count": 27,
   "metadata": {
    "ExecuteTime": {
     "end_time": "2021-03-11T08:09:12.522925Z",
     "start_time": "2021-03-11T08:09:08.261720Z"
    }
   },
   "outputs": [
    {
     "data": {
      "text/plain": [
       "DecisionTreeClassifier()"
      ]
     },
     "execution_count": 27,
     "metadata": {},
     "output_type": "execute_result"
    }
   ],
   "source": [
    "# Training the model\n",
    "from sklearn.tree import DecisionTreeClassifier\n",
    "model_dtree=DecisionTreeClassifier()\n",
    "model_dtree.fit(X_train_smote_new,y_train_smote)"
   ]
  },
  {
   "cell_type": "code",
   "execution_count": 28,
   "metadata": {
    "ExecuteTime": {
     "end_time": "2021-03-11T08:09:39.549647Z",
     "start_time": "2021-03-11T08:09:39.521721Z"
    }
   },
   "outputs": [],
   "source": [
    "# Predicting the model\n",
    "y_predict_dtree = model_dtree.predict(X_test_new)"
   ]
  },
  {
   "cell_type": "code",
   "execution_count": 34,
   "metadata": {
    "ExecuteTime": {
     "end_time": "2021-03-11T08:12:38.486569Z",
     "start_time": "2021-03-11T08:12:38.418751Z"
    }
   },
   "outputs": [
    {
     "name": "stdout",
     "output_type": "stream",
     "text": [
      "0.9552607437724931\n",
      "              precision    recall  f1-score   support\n",
      "\n",
      "           1       0.44      0.60      0.51      1098\n",
      "           2       0.98      0.97      0.98     40176\n",
      "           3       0.70      0.81      0.75      1239\n",
      "\n",
      "    accuracy                           0.96     42513\n",
      "   macro avg       0.71      0.79      0.75     42513\n",
      "weighted avg       0.96      0.96      0.96     42513\n",
      "\n"
     ]
    }
   ],
   "source": [
    "# Finding accuracy, precision, recall and confusion matrix\n",
    "print(accuracy_score(y_test,y_predict_dtree))\n",
    "print(classification_report(y_test,y_predict_dtree))"
   ]
  },
  {
   "cell_type": "code",
   "execution_count": 35,
   "metadata": {
    "ExecuteTime": {
     "end_time": "2021-03-11T08:12:59.161203Z",
     "start_time": "2021-03-11T08:12:59.122306Z"
    }
   },
   "outputs": [
    {
     "data": {
      "text/plain": [
       "array([[  654,   427,    17],\n",
       "       [  806, 38955,   415],\n",
       "       [   13,   224,  1002]], dtype=int64)"
      ]
     },
     "execution_count": 35,
     "metadata": {},
     "output_type": "execute_result"
    }
   ],
   "source": [
    "confusion_matrix(y_test,y_predict_dtree )"
   ]
  },
  {
   "cell_type": "code",
   "execution_count": 65,
   "metadata": {
    "ExecuteTime": {
     "end_time": "2021-03-11T09:37:12.259796Z",
     "start_time": "2021-03-11T09:37:12.243011Z"
    }
   },
   "outputs": [],
   "source": [
    "accuracy_dtree = (654+38955+1002)/(42513)*100"
   ]
  },
  {
   "cell_type": "markdown",
   "metadata": {},
   "source": [
    "#  3. k nearest neighbour"
   ]
  },
  {
   "cell_type": "code",
   "execution_count": 30,
   "metadata": {
    "ExecuteTime": {
     "end_time": "2021-03-11T08:11:15.047021Z",
     "start_time": "2021-03-11T08:11:15.040040Z"
    }
   },
   "outputs": [],
   "source": [
    "# Training the model\n",
    "from sklearn.neighbors import KNeighborsClassifier\n",
    "model_knn = KNeighborsClassifier(n_neighbors=12,metric='euclidean') # Maximum accuracy for n=10\n"
   ]
  },
  {
   "cell_type": "code",
   "execution_count": 31,
   "metadata": {
    "ExecuteTime": {
     "end_time": "2021-03-11T08:11:38.557171Z",
     "start_time": "2021-03-11T08:11:36.419028Z"
    }
   },
   "outputs": [
    {
     "data": {
      "text/plain": [
       "KNeighborsClassifier(metric='euclidean', n_neighbors=12)"
      ]
     },
     "execution_count": 31,
     "metadata": {},
     "output_type": "execute_result"
    }
   ],
   "source": [
    "model_knn.fit(X_train_smote_new,y_train_smote)"
   ]
  },
  {
   "cell_type": "code",
   "execution_count": 32,
   "metadata": {
    "ExecuteTime": {
     "end_time": "2021-03-11T08:12:07.529052Z",
     "start_time": "2021-03-11T08:12:04.424957Z"
    }
   },
   "outputs": [],
   "source": [
    "# Predicting the model\n",
    "y_predict_knn = model_knn.predict(X_test_new)"
   ]
  },
  {
   "cell_type": "code",
   "execution_count": 37,
   "metadata": {
    "ExecuteTime": {
     "end_time": "2021-03-11T08:13:55.406459Z",
     "start_time": "2021-03-11T08:13:55.337613Z"
    }
   },
   "outputs": [
    {
     "name": "stdout",
     "output_type": "stream",
     "text": [
      "0.8463058358619716\n",
      "              precision    recall  f1-score   support\n",
      "\n",
      "           1       0.21      0.87      0.34      1098\n",
      "           2       0.99      0.84      0.91     40176\n",
      "           3       0.29      0.87      0.43      1239\n",
      "\n",
      "    accuracy                           0.85     42513\n",
      "   macro avg       0.50      0.86      0.56     42513\n",
      "weighted avg       0.95      0.85      0.88     42513\n",
      "\n"
     ]
    }
   ],
   "source": [
    "# Finding accuracy, precision, recall and confusion matrix\n",
    "print(accuracy_score(y_test,y_predict_knn))\n",
    "print(classification_report(y_test,y_predict_knn))"
   ]
  },
  {
   "cell_type": "code",
   "execution_count": 36,
   "metadata": {
    "ExecuteTime": {
     "end_time": "2021-03-11T08:13:18.357174Z",
     "start_time": "2021-03-11T08:13:18.319276Z"
    }
   },
   "outputs": [
    {
     "data": {
      "text/plain": [
       "array([[  950,   111,    37],\n",
       "       [ 3558, 33946,  2672],\n",
       "       [   42,   114,  1083]], dtype=int64)"
      ]
     },
     "execution_count": 36,
     "metadata": {},
     "output_type": "execute_result"
    }
   ],
   "source": [
    "confusion_matrix(y_test,y_predict_knn)"
   ]
  },
  {
   "cell_type": "code",
   "execution_count": 67,
   "metadata": {
    "ExecuteTime": {
     "end_time": "2021-03-11T09:38:33.852911Z",
     "start_time": "2021-03-11T09:38:33.846348Z"
    }
   },
   "outputs": [],
   "source": [
    "accuracy_knn = (950+33946+1083)/(42513)*100"
   ]
  },
  {
   "cell_type": "markdown",
   "metadata": {},
   "source": [
    "# 4. XGBoost classifier"
   ]
  },
  {
   "cell_type": "code",
   "execution_count": 38,
   "metadata": {
    "ExecuteTime": {
     "end_time": "2021-03-11T08:15:01.255546Z",
     "start_time": "2021-03-11T08:14:44.528857Z"
    }
   },
   "outputs": [],
   "source": [
    "# Training the model\n",
    "from xgboost import XGBClassifier\n",
    "model_xgb = XGBClassifier()\n"
   ]
  },
  {
   "cell_type": "code",
   "execution_count": 39,
   "metadata": {
    "ExecuteTime": {
     "end_time": "2021-03-11T08:15:55.432958Z",
     "start_time": "2021-03-11T08:15:04.453134Z"
    }
   },
   "outputs": [
    {
     "name": "stderr",
     "output_type": "stream",
     "text": [
      "C:\\Users\\Anup w\\anaconda3\\lib\\site-packages\\xgboost\\sklearn.py:892: UserWarning: The use of label encoder in XGBClassifier is deprecated and will be removed in a future release. To remove this warning, do the following: 1) Pass option use_label_encoder=False when constructing XGBClassifier object; and 2) Encode your labels (y) as integers starting with 0, i.e. 0, 1, 2, ..., [num_class - 1].\n",
      "  warnings.warn(label_encoder_deprecation_msg, UserWarning)\n"
     ]
    },
    {
     "name": "stdout",
     "output_type": "stream",
     "text": [
      "[13:45:05] WARNING: C:/Users/Administrator/workspace/xgboost-win64_release_1.3.0/src/learner.cc:1061: Starting in XGBoost 1.3.0, the default evaluation metric used with the objective 'multi:softprob' was changed from 'merror' to 'mlogloss'. Explicitly set eval_metric if you'd like to restore the old behavior.\n"
     ]
    },
    {
     "data": {
      "text/plain": [
       "XGBClassifier(base_score=0.5, booster='gbtree', colsample_bylevel=1,\n",
       "              colsample_bynode=1, colsample_bytree=1, gamma=0, gpu_id=-1,\n",
       "              importance_type='gain', interaction_constraints='',\n",
       "              learning_rate=0.300000012, max_delta_step=0, max_depth=6,\n",
       "              min_child_weight=1, missing=nan, monotone_constraints='()',\n",
       "              n_estimators=100, n_jobs=8, num_parallel_tree=1,\n",
       "              objective='multi:softprob', random_state=0, reg_alpha=0,\n",
       "              reg_lambda=1, scale_pos_weight=None, subsample=1,\n",
       "              tree_method='exact', validate_parameters=1, verbosity=None)"
      ]
     },
     "execution_count": 39,
     "metadata": {},
     "output_type": "execute_result"
    }
   ],
   "source": [
    "model_xgb.fit(X_train_smote_new,y_train_smote)"
   ]
  },
  {
   "cell_type": "code",
   "execution_count": 40,
   "metadata": {
    "ExecuteTime": {
     "end_time": "2021-03-11T08:16:18.714986Z",
     "start_time": "2021-03-11T08:16:18.624269Z"
    }
   },
   "outputs": [],
   "source": [
    "# Predicting the model\n",
    "y_predict_xgb = model_xgb.predict(X_test_new)"
   ]
  },
  {
   "cell_type": "code",
   "execution_count": 41,
   "metadata": {
    "ExecuteTime": {
     "end_time": "2021-03-11T08:16:33.822309Z",
     "start_time": "2021-03-11T08:16:33.768453Z"
    }
   },
   "outputs": [
    {
     "name": "stdout",
     "output_type": "stream",
     "text": [
      "0.9711147178510103\n",
      "              precision    recall  f1-score   support\n",
      "\n",
      "           1       0.81      0.43      0.56      1098\n",
      "           2       0.98      0.99      0.98     40176\n",
      "           3       0.80      0.80      0.80      1239\n",
      "\n",
      "    accuracy                           0.97     42513\n",
      "   macro avg       0.86      0.74      0.78     42513\n",
      "weighted avg       0.97      0.97      0.97     42513\n",
      "\n"
     ]
    }
   ],
   "source": [
    "# Finding accuracy, precision, recall and confusion matrix\n",
    "print(accuracy_score(y_test,y_predict_xgb))\n",
    "print(classification_report(y_test,y_predict_xgb))"
   ]
  },
  {
   "cell_type": "code",
   "execution_count": 42,
   "metadata": {
    "ExecuteTime": {
     "end_time": "2021-03-11T08:16:59.298793Z",
     "start_time": "2021-03-11T08:16:59.251882Z"
    }
   },
   "outputs": [
    {
     "data": {
      "text/plain": [
       "array([[  471,   624,     3],\n",
       "       [  107, 39817,   252],\n",
       "       [    3,   239,   997]], dtype=int64)"
      ]
     },
     "execution_count": 42,
     "metadata": {},
     "output_type": "execute_result"
    }
   ],
   "source": [
    "confusion_matrix(y_test,y_predict_xgb)"
   ]
  },
  {
   "cell_type": "code",
   "execution_count": 69,
   "metadata": {
    "ExecuteTime": {
     "end_time": "2021-03-11T09:39:32.322054Z",
     "start_time": "2021-03-11T09:39:32.312014Z"
    }
   },
   "outputs": [],
   "source": [
    "accuracy_XGB= (471+39817+997)/(42513)*100"
   ]
  },
  {
   "cell_type": "markdown",
   "metadata": {},
   "source": [
    "# 5 .Artificial neural network "
   ]
  },
  {
   "cell_type": "code",
   "execution_count": 43,
   "metadata": {
    "ExecuteTime": {
     "end_time": "2021-03-11T08:23:00.001913Z",
     "start_time": "2021-03-11T08:22:59.717984Z"
    }
   },
   "outputs": [],
   "source": [
    "# Training the model\n",
    "from sklearn.neural_network import MLPClassifier\n",
    "model_mlp = MLPClassifier()"
   ]
  },
  {
   "cell_type": "code",
   "execution_count": 44,
   "metadata": {
    "ExecuteTime": {
     "end_time": "2021-03-11T08:28:07.110172Z",
     "start_time": "2021-03-11T08:23:19.800308Z"
    }
   },
   "outputs": [
    {
     "name": "stderr",
     "output_type": "stream",
     "text": [
      "C:\\Users\\Anup w\\anaconda3\\lib\\site-packages\\sklearn\\neural_network\\_multilayer_perceptron.py:614: ConvergenceWarning: Stochastic Optimizer: Maximum iterations (200) reached and the optimization hasn't converged yet.\n",
      "  warnings.warn(\n"
     ]
    },
    {
     "data": {
      "text/plain": [
       "MLPClassifier()"
      ]
     },
     "execution_count": 44,
     "metadata": {},
     "output_type": "execute_result"
    }
   ],
   "source": [
    "model_mlp.fit(X_train_smote_new,y_train_smote)"
   ]
  },
  {
   "cell_type": "code",
   "execution_count": 45,
   "metadata": {
    "ExecuteTime": {
     "end_time": "2021-03-11T08:30:37.387701Z",
     "start_time": "2021-03-11T08:30:37.221903Z"
    }
   },
   "outputs": [],
   "source": [
    "# Predicting the model\n",
    "y_predict_mlp = model_mlp.predict(X_test_new)"
   ]
  },
  {
   "cell_type": "code",
   "execution_count": 46,
   "metadata": {
    "ExecuteTime": {
     "end_time": "2021-03-11T08:30:39.751422Z",
     "start_time": "2021-03-11T08:30:39.690128Z"
    }
   },
   "outputs": [
    {
     "name": "stdout",
     "output_type": "stream",
     "text": [
      "0.7074306682661774\n",
      "              precision    recall  f1-score   support\n",
      "\n",
      "           1       0.07      0.61      0.13      1098\n",
      "           2       0.98      0.71      0.82     40176\n",
      "           3       0.21      0.70      0.33      1239\n",
      "\n",
      "    accuracy                           0.71     42513\n",
      "   macro avg       0.42      0.67      0.43     42513\n",
      "weighted avg       0.93      0.71      0.79     42513\n",
      "\n"
     ]
    }
   ],
   "source": [
    "# Finding accuracy, precision, recall and confusion matrix\n",
    "print(accuracy_score(y_test,y_predict_mlp))\n",
    "print(classification_report(y_test,y_predict_mlp))"
   ]
  },
  {
   "cell_type": "code",
   "execution_count": 47,
   "metadata": {
    "ExecuteTime": {
     "end_time": "2021-03-11T08:31:05.555813Z",
     "start_time": "2021-03-11T08:31:05.507054Z"
    }
   },
   "outputs": [
    {
     "data": {
      "text/plain": [
       "array([[  670,   388,    40],\n",
       "       [ 8500, 28542,  3134],\n",
       "       [   79,   297,   863]], dtype=int64)"
      ]
     },
     "execution_count": 47,
     "metadata": {},
     "output_type": "execute_result"
    }
   ],
   "source": [
    "confusion_matrix(y_test,y_predict_mlp)"
   ]
  },
  {
   "cell_type": "code",
   "execution_count": 71,
   "metadata": {
    "ExecuteTime": {
     "end_time": "2021-03-11T09:40:32.944597Z",
     "start_time": "2021-03-11T09:40:32.939496Z"
    }
   },
   "outputs": [],
   "source": [
    "accuracy_mlp = (670+28542+863)/(42513)*100"
   ]
  },
  {
   "cell_type": "markdown",
   "metadata": {},
   "source": [
    "# 6. naive bayes "
   ]
  },
  {
   "cell_type": "code",
   "execution_count": 48,
   "metadata": {
    "ExecuteTime": {
     "end_time": "2021-03-11T08:59:45.262739Z",
     "start_time": "2021-03-11T08:59:45.245758Z"
    }
   },
   "outputs": [],
   "source": [
    "from sklearn.naive_bayes import GaussianNB\n",
    "from sklearn.naive_bayes import MultinomialNB"
   ]
  },
  {
   "cell_type": "code",
   "execution_count": 50,
   "metadata": {
    "ExecuteTime": {
     "end_time": "2021-03-11T09:00:58.867134Z",
     "start_time": "2021-03-11T09:00:58.857160Z"
    }
   },
   "outputs": [],
   "source": [
    "sgnb = GaussianNB()\n",
    "smnb = MultinomialNB()"
   ]
  },
  {
   "cell_type": "code",
   "execution_count": 51,
   "metadata": {
    "ExecuteTime": {
     "end_time": "2021-03-11T09:01:01.229722Z",
     "start_time": "2021-03-11T09:01:01.122301Z"
    }
   },
   "outputs": [],
   "source": [
    "spred_gnb = sgnb.fit(X_train_smote_new,y_train_smote)"
   ]
  },
  {
   "cell_type": "code",
   "execution_count": 52,
   "metadata": {
    "ExecuteTime": {
     "end_time": "2021-03-11T09:01:33.063037Z",
     "start_time": "2021-03-11T09:01:33.029120Z"
    }
   },
   "outputs": [],
   "source": [
    "# Predicting the model\n",
    "y_predict_sgnb = spred_gnb.predict(X_test_new)"
   ]
  },
  {
   "cell_type": "code",
   "execution_count": 53,
   "metadata": {
    "ExecuteTime": {
     "end_time": "2021-03-11T09:01:54.472162Z",
     "start_time": "2021-03-11T09:01:54.408335Z"
    }
   },
   "outputs": [
    {
     "name": "stdout",
     "output_type": "stream",
     "text": [
      "0.5040105379530967\n",
      "              precision    recall  f1-score   support\n",
      "\n",
      "           1       0.04      0.43      0.08      1098\n",
      "           2       0.96      0.51      0.66     40176\n",
      "           3       0.05      0.46      0.10      1239\n",
      "\n",
      "    accuracy                           0.50     42513\n",
      "   macro avg       0.35      0.47      0.28     42513\n",
      "weighted avg       0.91      0.50      0.63     42513\n",
      "\n"
     ]
    }
   ],
   "source": [
    "# Finding accuracy, precision, recall and confusion matrix\n",
    "print(accuracy_score(y_test,y_predict_sgnb))\n",
    "print(classification_report(y_test,y_predict_sgnb))"
   ]
  },
  {
   "cell_type": "code",
   "execution_count": 58,
   "metadata": {
    "ExecuteTime": {
     "end_time": "2021-03-11T09:03:48.632242Z",
     "start_time": "2021-03-11T09:03:48.580418Z"
    }
   },
   "outputs": [
    {
     "data": {
      "text/plain": [
       "array([[  474,   356,   268],\n",
       "       [10014, 20378,  9784],\n",
       "       [  250,   414,   575]], dtype=int64)"
      ]
     },
     "execution_count": 58,
     "metadata": {},
     "output_type": "execute_result"
    }
   ],
   "source": [
    "confusion_matrix(y_test,y_predict_sgnb )"
   ]
  },
  {
   "cell_type": "code",
   "execution_count": 73,
   "metadata": {
    "ExecuteTime": {
     "end_time": "2021-03-11T09:41:37.697273Z",
     "start_time": "2021-03-11T09:41:37.691628Z"
    }
   },
   "outputs": [],
   "source": [
    "accuracy_gnb = (474+20378+575)/(42513)*100"
   ]
  },
  {
   "cell_type": "code",
   "execution_count": 55,
   "metadata": {
    "ExecuteTime": {
     "end_time": "2021-03-11T09:02:44.637667Z",
     "start_time": "2021-03-11T09:02:44.568852Z"
    }
   },
   "outputs": [],
   "source": [
    "spred_mnb = smnb.fit(X_train_smote_new,y_train_smote)"
   ]
  },
  {
   "cell_type": "code",
   "execution_count": 56,
   "metadata": {
    "ExecuteTime": {
     "end_time": "2021-03-11T09:02:50.910284Z",
     "start_time": "2021-03-11T09:02:50.897319Z"
    }
   },
   "outputs": [],
   "source": [
    "# Predicting the model\n",
    "y_predict_smnb = spred_mnb.predict(X_test_new)"
   ]
  },
  {
   "cell_type": "code",
   "execution_count": 57,
   "metadata": {
    "ExecuteTime": {
     "end_time": "2021-03-11T09:03:11.440100Z",
     "start_time": "2021-03-11T09:03:11.378253Z"
    }
   },
   "outputs": [
    {
     "name": "stdout",
     "output_type": "stream",
     "text": [
      "0.21012396208218662\n",
      "              precision    recall  f1-score   support\n",
      "\n",
      "           1       0.03      0.47      0.06      1098\n",
      "           2       0.97      0.19      0.32     40176\n",
      "           3       0.04      0.57      0.07      1239\n",
      "\n",
      "    accuracy                           0.21     42513\n",
      "   macro avg       0.35      0.41      0.15     42513\n",
      "weighted avg       0.91      0.21      0.31     42513\n",
      "\n"
     ]
    }
   ],
   "source": [
    "# Finding accuracy, precision, recall and confusion matrix\n",
    "print(accuracy_score(y_test,y_predict_smnb))\n",
    "print(classification_report(y_test,y_predict_smnb))"
   ]
  },
  {
   "cell_type": "code",
   "execution_count": 59,
   "metadata": {
    "ExecuteTime": {
     "end_time": "2021-03-11T09:04:47.836338Z",
     "start_time": "2021-03-11T09:04:47.784475Z"
    }
   },
   "outputs": [
    {
     "data": {
      "text/plain": [
       "array([[  517,   141,   440],\n",
       "       [15040,  7708, 17428],\n",
       "       [  393,   138,   708]], dtype=int64)"
      ]
     },
     "execution_count": 59,
     "metadata": {},
     "output_type": "execute_result"
    }
   ],
   "source": [
    "confusion_matrix(y_test,y_predict_smnb)"
   ]
  },
  {
   "cell_type": "code",
   "execution_count": 75,
   "metadata": {
    "ExecuteTime": {
     "end_time": "2021-03-11T09:42:27.067289Z",
     "start_time": "2021-03-11T09:42:27.043528Z"
    }
   },
   "outputs": [],
   "source": [
    "accuracy_mnb =(517+7708+708)/(42513)*100"
   ]
  },
  {
   "cell_type": "code",
   "execution_count": 76,
   "metadata": {
    "ExecuteTime": {
     "end_time": "2021-03-11T09:42:35.681048Z",
     "start_time": "2021-03-11T09:42:35.653181Z"
    }
   },
   "outputs": [
    {
     "data": {
      "text/html": [
       "<div>\n",
       "<style scoped>\n",
       "    .dataframe tbody tr th:only-of-type {\n",
       "        vertical-align: middle;\n",
       "    }\n",
       "\n",
       "    .dataframe tbody tr th {\n",
       "        vertical-align: top;\n",
       "    }\n",
       "\n",
       "    .dataframe thead th {\n",
       "        text-align: right;\n",
       "    }\n",
       "</style>\n",
       "<table border=\"1\" class=\"dataframe\">\n",
       "  <thead>\n",
       "    <tr style=\"text-align: right;\">\n",
       "      <th></th>\n",
       "      <th>MODEL</th>\n",
       "      <th>Accuracy</th>\n",
       "    </tr>\n",
       "  </thead>\n",
       "  <tbody>\n",
       "    <tr>\n",
       "      <th>0</th>\n",
       "      <td>model_rf</td>\n",
       "      <td>98.148802</td>\n",
       "    </tr>\n",
       "    <tr>\n",
       "      <th>1</th>\n",
       "      <td>model_dtree</td>\n",
       "      <td>95.526074</td>\n",
       "    </tr>\n",
       "    <tr>\n",
       "      <th>2</th>\n",
       "      <td>model_knn</td>\n",
       "      <td>84.630584</td>\n",
       "    </tr>\n",
       "    <tr>\n",
       "      <th>3</th>\n",
       "      <td>model_xgb</td>\n",
       "      <td>97.111472</td>\n",
       "    </tr>\n",
       "    <tr>\n",
       "      <th>4</th>\n",
       "      <td>model_mlp</td>\n",
       "      <td>70.743067</td>\n",
       "    </tr>\n",
       "    <tr>\n",
       "      <th>5</th>\n",
       "      <td>spred_gnb</td>\n",
       "      <td>50.401054</td>\n",
       "    </tr>\n",
       "    <tr>\n",
       "      <th>6</th>\n",
       "      <td>spred_mnb</td>\n",
       "      <td>21.012396</td>\n",
       "    </tr>\n",
       "  </tbody>\n",
       "</table>\n",
       "</div>"
      ],
      "text/plain": [
       "         MODEL   Accuracy\n",
       "0     model_rf  98.148802\n",
       "1  model_dtree  95.526074\n",
       "2    model_knn  84.630584\n",
       "3    model_xgb  97.111472\n",
       "4    model_mlp  70.743067\n",
       "5   spred_gnb   50.401054\n",
       "6    spred_mnb  21.012396"
      ]
     },
     "execution_count": 76,
     "metadata": {},
     "output_type": "execute_result"
    }
   ],
   "source": [
    "data = {\"MODEL\":pd.Series([\"model_rf\",\"model_dtree\",\"model_knn\",\"model_xgb\",\"model_mlp\",\"spred_gnb \",\"spred_mnb\"]),\n",
    "        \"Accuracy\":pd.Series([accuracy_rf,accuracy_dtree,accuracy_knn,accuracy_XGB,accuracy_mlp,accuracy_gnb,accuracy_mnb])}\n",
    "table=pd.DataFrame(data)\n",
    "table "
   ]
  },
  {
   "cell_type": "code",
   "execution_count": null,
   "metadata": {},
   "outputs": [],
   "source": []
  }
 ],
 "metadata": {
  "kernelspec": {
   "display_name": "Python 3",
   "language": "python",
   "name": "python3"
  },
  "language_info": {
   "codemirror_mode": {
    "name": "ipython",
    "version": 3
   },
   "file_extension": ".py",
   "mimetype": "text/x-python",
   "name": "python",
   "nbconvert_exporter": "python",
   "pygments_lexer": "ipython3",
   "version": "3.8.3"
  },
  "varInspector": {
   "cols": {
    "lenName": 16,
    "lenType": 16,
    "lenVar": 40
   },
   "kernels_config": {
    "python": {
     "delete_cmd_postfix": "",
     "delete_cmd_prefix": "del ",
     "library": "var_list.py",
     "varRefreshCmd": "print(var_dic_list())"
    },
    "r": {
     "delete_cmd_postfix": ") ",
     "delete_cmd_prefix": "rm(",
     "library": "var_list.r",
     "varRefreshCmd": "cat(var_dic_list()) "
    }
   },
   "types_to_exclude": [
    "module",
    "function",
    "builtin_function_or_method",
    "instance",
    "_Feature"
   ],
   "window_display": false
  }
 },
 "nbformat": 4,
 "nbformat_minor": 4
}
