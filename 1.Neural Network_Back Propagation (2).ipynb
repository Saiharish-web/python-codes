{
 "cells": [
  {
   "cell_type": "code",
   "execution_count": 1,
   "metadata": {
    "ExecuteTime": {
     "end_time": "2020-11-15T11:59:20.050811Z",
     "start_time": "2020-11-15T11:58:27.798377Z"
    }
   },
   "outputs": [
    {
     "name": "stderr",
     "output_type": "stream",
     "text": [
      "Using TensorFlow backend.\n"
     ]
    }
   ],
   "source": [
    "# Create your first MLP in Keras\n",
    "from keras.models import Sequential\n",
    "from keras.layers import Dense\n",
    "import numpy \n"
   ]
  },
  {
   "cell_type": "code",
   "execution_count": 2,
   "metadata": {
    "ExecuteTime": {
     "end_time": "2020-11-15T11:59:25.510486Z",
     "start_time": "2020-11-15T11:59:25.456504Z"
    }
   },
   "outputs": [],
   "source": [
    "# fix random seed for reproducibility\n",
    "seed = 7\n",
    "numpy.random.seed(seed)\n",
    "# load pima indians dataset\n",
    "dataset = numpy.loadtxt(\"pima-indians-diabetes.csv\", delimiter=\",\")\n",
    "# split into input (X) and output (Y) variables\n",
    "X = dataset[:,0:8]\n",
    "Y = dataset[:,8]\n"
   ]
  },
  {
   "cell_type": "code",
   "execution_count": 3,
   "metadata": {
    "ExecuteTime": {
     "end_time": "2020-11-15T11:59:30.448765Z",
     "start_time": "2020-11-15T11:59:29.148496Z"
    }
   },
   "outputs": [
    {
     "name": "stderr",
     "output_type": "stream",
     "text": [
      "C:\\Users\\varun\\Anacond\\lib\\site-packages\\ipykernel_launcher.py:3: UserWarning: Update your `Dense` call to the Keras 2 API: `Dense(12, input_dim=8, activation=\"relu\", kernel_initializer=\"uniform\")`\n",
      "  This is separate from the ipykernel package so we can avoid doing imports until\n",
      "C:\\Users\\varun\\Anacond\\lib\\site-packages\\ipykernel_launcher.py:4: UserWarning: Update your `Dense` call to the Keras 2 API: `Dense(8, activation=\"relu\", kernel_initializer=\"uniform\")`\n",
      "  after removing the cwd from sys.path.\n",
      "C:\\Users\\varun\\Anacond\\lib\\site-packages\\ipykernel_launcher.py:5: UserWarning: Update your `Dense` call to the Keras 2 API: `Dense(1, activation=\"sigmoid\", kernel_initializer=\"uniform\")`\n",
      "  \"\"\"\n"
     ]
    }
   ],
   "source": [
    "# create model\n",
    "model = Sequential()\n",
    "model.add(Dense(12, input_dim=8, init='uniform', activation='relu'))\n",
    "model.add(Dense(8, init='uniform', activation='relu'))\n",
    "model.add(Dense(1, init='uniform', activation='sigmoid'))"
   ]
  },
  {
   "attachments": {
    "image.png": {
     "image/png": "[encoded data removed]"
    }
   },
   "cell_type": "markdown",
   "metadata": {},
   "source": [
    "![image.png](attachment:image.png)"
   ]
  },
  {
   "cell_type": "code",
   "execution_count": 4,
   "metadata": {
    "ExecuteTime": {
     "end_time": "2020-11-15T11:59:58.694066Z",
     "start_time": "2020-11-15T11:59:58.565840Z"
    }
   },
   "outputs": [],
   "source": [
    "# Compile model\n",
    "model.compile(loss='binary_crossentropy', optimizer='adam', metrics=['accuracy'])"
   ]
  },
  {
   "cell_type": "code",
   "execution_count": 5,
   "metadata": {
    "ExecuteTime": {
     "end_time": "2020-11-15T12:00:21.545974Z",
     "start_time": "2020-11-15T12:00:01.188996Z"
    }
   },
   "outputs": [
    {
     "name": "stderr",
     "output_type": "stream",
     "text": [
      "C:\\Users\\varun\\Anacond\\lib\\site-packages\\ipykernel_launcher.py:2: UserWarning: The `nb_epoch` argument in `fit` has been renamed `epochs`.\n",
      "  \n"
     ]
    },
    {
     "name": "stdout",
     "output_type": "stream",
     "text": [
      "Train on 514 samples, validate on 254 samples\n",
      "Epoch 1/150\n",
      "514/514 [==============================] - 1s 3ms/step - loss: 0.6800 - accuracy: 0.6401 - val_loss: 0.6587 - val_accuracy: 0.6732\n",
      "Epoch 2/150\n",
      "514/514 [==============================] - 0s 225us/step - loss: 0.6689 - accuracy: 0.6401 - val_loss: 0.6535 - val_accuracy: 0.6732\n",
      "Epoch 3/150\n",
      "514/514 [==============================] - 0s 213us/step - loss: 0.6616 - accuracy: 0.6401 - val_loss: 0.6510 - val_accuracy: 0.6732\n",
      "Epoch 4/150\n",
      "514/514 [==============================] - 0s 206us/step - loss: 0.6522 - accuracy: 0.6342 - val_loss: 0.6431 - val_accuracy: 0.6929\n",
      "Epoch 5/150\n",
      "514/514 [==============================] - 0s 221us/step - loss: 0.6396 - accuracy: 0.6556 - val_loss: 0.6324 - val_accuracy: 0.6732\n",
      "Epoch 6/150\n",
      "514/514 [==============================] - 0s 210us/step - loss: 0.6314 - accuracy: 0.6440 - val_loss: 0.6193 - val_accuracy: 0.6811\n",
      "Epoch 7/150\n",
      "514/514 [==============================] - 0s 206us/step - loss: 0.6179 - accuracy: 0.6712 - val_loss: 0.6107 - val_accuracy: 0.6929\n",
      "Epoch 8/150\n",
      "514/514 [==============================] - 0s 219us/step - loss: 0.6138 - accuracy: 0.6693 - val_loss: 0.6046 - val_accuracy: 0.6614\n",
      "Epoch 9/150\n",
      "514/514 [==============================] - 0s 213us/step - loss: 0.6030 - accuracy: 0.6790 - val_loss: 0.6013 - val_accuracy: 0.6969\n",
      "Epoch 10/150\n",
      "514/514 [==============================] - 0s 211us/step - loss: 0.5988 - accuracy: 0.6907 - val_loss: 0.5954 - val_accuracy: 0.6614\n",
      "Epoch 11/150\n",
      "514/514 [==============================] - 0s 231us/step - loss: 0.5955 - accuracy: 0.6770 - val_loss: 0.6049 - val_accuracy: 0.6732\n",
      "Epoch 12/150\n",
      "514/514 [==============================] - 0s 229us/step - loss: 0.6006 - accuracy: 0.6868 - val_loss: 0.5973 - val_accuracy: 0.6575\n",
      "Epoch 13/150\n",
      "514/514 [==============================] - 0s 210us/step - loss: 0.5957 - accuracy: 0.6829 - val_loss: 0.5900 - val_accuracy: 0.6614\n",
      "Epoch 14/150\n",
      "514/514 [==============================] - 0s 196us/step - loss: 0.5866 - accuracy: 0.7082 - val_loss: 0.5860 - val_accuracy: 0.7047\n",
      "Epoch 15/150\n",
      "514/514 [==============================] - 0s 202us/step - loss: 0.5870 - accuracy: 0.7160 - val_loss: 0.5839 - val_accuracy: 0.6732\n",
      "Epoch 16/150\n",
      "514/514 [==============================] - 0s 206us/step - loss: 0.5907 - accuracy: 0.6984 - val_loss: 0.5815 - val_accuracy: 0.6890\n",
      "Epoch 17/150\n",
      "514/514 [==============================] - 0s 204us/step - loss: 0.5836 - accuracy: 0.7082 - val_loss: 0.5785 - val_accuracy: 0.7008\n",
      "Epoch 18/150\n",
      "514/514 [==============================] - 0s 208us/step - loss: 0.5802 - accuracy: 0.7121 - val_loss: 0.5744 - val_accuracy: 0.7008\n",
      "Epoch 19/150\n",
      "514/514 [==============================] - 0s 210us/step - loss: 0.5795 - accuracy: 0.7140 - val_loss: 0.5730 - val_accuracy: 0.7126\n",
      "Epoch 20/150\n",
      "514/514 [==============================] - 0s 215us/step - loss: 0.5778 - accuracy: 0.7218 - val_loss: 0.5751 - val_accuracy: 0.6969\n",
      "Epoch 21/150\n",
      "514/514 [==============================] - 0s 202us/step - loss: 0.5758 - accuracy: 0.7121 - val_loss: 0.5808 - val_accuracy: 0.6811\n",
      "Epoch 22/150\n",
      "514/514 [==============================] - 0s 204us/step - loss: 0.5730 - accuracy: 0.7276 - val_loss: 0.5798 - val_accuracy: 0.6811\n",
      "Epoch 23/150\n",
      "514/514 [==============================] - 0s 204us/step - loss: 0.5719 - accuracy: 0.7062 - val_loss: 0.5725 - val_accuracy: 0.6890\n",
      "Epoch 24/150\n",
      "514/514 [==============================] - 0s 198us/step - loss: 0.5594 - accuracy: 0.7374 - val_loss: 0.5704 - val_accuracy: 0.6929\n",
      "Epoch 25/150\n",
      "514/514 [==============================] - 0s 196us/step - loss: 0.5688 - accuracy: 0.7160 - val_loss: 0.5647 - val_accuracy: 0.7087\n",
      "Epoch 26/150\n",
      "514/514 [==============================] - 0s 200us/step - loss: 0.5635 - accuracy: 0.7374 - val_loss: 0.5646 - val_accuracy: 0.7244\n",
      "Epoch 27/150\n",
      "514/514 [==============================] - 0s 198us/step - loss: 0.5627 - accuracy: 0.7451 - val_loss: 0.5653 - val_accuracy: 0.7008\n",
      "Epoch 28/150\n",
      "514/514 [==============================] - 0s 208us/step - loss: 0.5662 - accuracy: 0.7160 - val_loss: 0.6165 - val_accuracy: 0.6260\n",
      "Epoch 29/150\n",
      "514/514 [==============================] - 0s 202us/step - loss: 0.5639 - accuracy: 0.7179 - val_loss: 0.5773 - val_accuracy: 0.7283\n",
      "Epoch 30/150\n",
      "514/514 [==============================] - 0s 208us/step - loss: 0.5573 - accuracy: 0.7296 - val_loss: 0.5735 - val_accuracy: 0.7205\n",
      "Epoch 31/150\n",
      "514/514 [==============================] - 0s 206us/step - loss: 0.5523 - accuracy: 0.7276 - val_loss: 0.5619 - val_accuracy: 0.7008\n",
      "Epoch 32/150\n",
      "514/514 [==============================] - 0s 204us/step - loss: 0.5629 - accuracy: 0.7335 - val_loss: 0.5953 - val_accuracy: 0.6929\n",
      "Epoch 33/150\n",
      "514/514 [==============================] - 0s 213us/step - loss: 0.5677 - accuracy: 0.7354 - val_loss: 0.5822 - val_accuracy: 0.7047\n",
      "Epoch 34/150\n",
      "514/514 [==============================] - 0s 213us/step - loss: 0.5524 - accuracy: 0.7315 - val_loss: 0.5630 - val_accuracy: 0.7165\n",
      "Epoch 35/150\n",
      "514/514 [==============================] - 0s 223us/step - loss: 0.5468 - accuracy: 0.7374 - val_loss: 0.5609 - val_accuracy: 0.7126\n",
      "Epoch 36/150\n",
      "514/514 [==============================] - 0s 223us/step - loss: 0.5571 - accuracy: 0.7276 - val_loss: 0.5684 - val_accuracy: 0.7126\n",
      "Epoch 37/150\n",
      "514/514 [==============================] - 0s 215us/step - loss: 0.5464 - accuracy: 0.7296 - val_loss: 0.5641 - val_accuracy: 0.7205\n",
      "Epoch 38/150\n",
      "514/514 [==============================] - 0s 211us/step - loss: 0.5466 - accuracy: 0.7335 - val_loss: 0.5470 - val_accuracy: 0.7165\n",
      "Epoch 39/150\n",
      "514/514 [==============================] - 0s 211us/step - loss: 0.5547 - accuracy: 0.7140 - val_loss: 0.5514 - val_accuracy: 0.7165\n",
      "Epoch 40/150\n",
      "514/514 [==============================] - 0s 225us/step - loss: 0.5500 - accuracy: 0.7374 - val_loss: 0.5527 - val_accuracy: 0.7244\n",
      "Epoch 41/150\n",
      "514/514 [==============================] - 0s 213us/step - loss: 0.5457 - accuracy: 0.7393 - val_loss: 0.5547 - val_accuracy: 0.7165\n",
      "Epoch 42/150\n",
      "514/514 [==============================] - 0s 210us/step - loss: 0.5472 - accuracy: 0.7471 - val_loss: 0.5657 - val_accuracy: 0.7244\n",
      "Epoch 43/150\n",
      "514/514 [==============================] - 0s 217us/step - loss: 0.5462 - accuracy: 0.7393 - val_loss: 0.5635 - val_accuracy: 0.7008\n",
      "Epoch 44/150\n",
      "514/514 [==============================] - 0s 217us/step - loss: 0.5459 - accuracy: 0.7335 - val_loss: 0.5578 - val_accuracy: 0.7244\n",
      "Epoch 45/150\n",
      "514/514 [==============================] - 0s 221us/step - loss: 0.5373 - accuracy: 0.7451 - val_loss: 0.5796 - val_accuracy: 0.6535\n",
      "Epoch 46/150\n",
      "514/514 [==============================] - 0s 221us/step - loss: 0.5505 - accuracy: 0.7257 - val_loss: 0.5587 - val_accuracy: 0.7205\n",
      "Epoch 47/150\n",
      "514/514 [==============================] - 0s 211us/step - loss: 0.5449 - accuracy: 0.7179 - val_loss: 0.5492 - val_accuracy: 0.7402\n",
      "Epoch 48/150\n",
      "514/514 [==============================] - 0s 198us/step - loss: 0.5444 - accuracy: 0.7237 - val_loss: 0.5503 - val_accuracy: 0.7362\n",
      "Epoch 49/150\n",
      "514/514 [==============================] - 0s 215us/step - loss: 0.5412 - accuracy: 0.7451 - val_loss: 0.5492 - val_accuracy: 0.7205\n",
      "Epoch 50/150\n",
      "514/514 [==============================] - 0s 202us/step - loss: 0.5402 - accuracy: 0.7451 - val_loss: 0.5666 - val_accuracy: 0.6850\n",
      "Epoch 51/150\n",
      "514/514 [==============================] - 0s 237us/step - loss: 0.5353 - accuracy: 0.7490 - val_loss: 0.5426 - val_accuracy: 0.7402\n",
      "Epoch 52/150\n",
      "514/514 [==============================] - 0s 235us/step - loss: 0.5394 - accuracy: 0.7374 - val_loss: 0.5573 - val_accuracy: 0.7165\n",
      "Epoch 53/150\n",
      "514/514 [==============================] - 0s 243us/step - loss: 0.5352 - accuracy: 0.7471 - val_loss: 0.5505 - val_accuracy: 0.7362\n",
      "Epoch 54/150\n",
      "514/514 [==============================] - 0s 233us/step - loss: 0.5360 - accuracy: 0.7276 - val_loss: 0.5484 - val_accuracy: 0.7362\n",
      "Epoch 55/150\n",
      "514/514 [==============================] - 0s 206us/step - loss: 0.5333 - accuracy: 0.7335 - val_loss: 0.5502 - val_accuracy: 0.7362\n",
      "Epoch 56/150\n",
      "514/514 [==============================] - 0s 219us/step - loss: 0.5396 - accuracy: 0.7179 - val_loss: 0.5572 - val_accuracy: 0.7008\n"
     ]
    },
    {
     "name": "stdout",
     "output_type": "stream",
     "text": [
      "Epoch 57/150\n",
      "514/514 [==============================] - 0s 227us/step - loss: 0.5394 - accuracy: 0.7393 - val_loss: 0.5558 - val_accuracy: 0.7126\n",
      "Epoch 58/150\n",
      "514/514 [==============================] - 0s 204us/step - loss: 0.5322 - accuracy: 0.7315 - val_loss: 0.5575 - val_accuracy: 0.7205\n",
      "Epoch 59/150\n",
      "514/514 [==============================] - 0s 198us/step - loss: 0.5383 - accuracy: 0.7374 - val_loss: 0.5493 - val_accuracy: 0.7323\n",
      "Epoch 60/150\n",
      "514/514 [==============================] - 0s 202us/step - loss: 0.5362 - accuracy: 0.7335 - val_loss: 0.5410 - val_accuracy: 0.7362\n",
      "Epoch 61/150\n",
      "514/514 [==============================] - 0s 213us/step - loss: 0.5408 - accuracy: 0.7412 - val_loss: 0.5533 - val_accuracy: 0.7323\n",
      "Epoch 62/150\n",
      "514/514 [==============================] - 0s 194us/step - loss: 0.5358 - accuracy: 0.7335 - val_loss: 0.5486 - val_accuracy: 0.7402\n",
      "Epoch 63/150\n",
      "514/514 [==============================] - 0s 202us/step - loss: 0.5302 - accuracy: 0.7393 - val_loss: 0.5399 - val_accuracy: 0.7362\n",
      "Epoch 64/150\n",
      "514/514 [==============================] - 0s 204us/step - loss: 0.5308 - accuracy: 0.7335 - val_loss: 0.5461 - val_accuracy: 0.7598\n",
      "Epoch 65/150\n",
      "514/514 [==============================] - 0s 217us/step - loss: 0.5355 - accuracy: 0.7393 - val_loss: 0.5555 - val_accuracy: 0.7205\n",
      "Epoch 66/150\n",
      "514/514 [==============================] - 0s 206us/step - loss: 0.5402 - accuracy: 0.7237 - val_loss: 0.5311 - val_accuracy: 0.7677\n",
      "Epoch 67/150\n",
      "514/514 [==============================] - 0s 196us/step - loss: 0.5279 - accuracy: 0.7490 - val_loss: 0.5515 - val_accuracy: 0.7520\n",
      "Epoch 68/150\n",
      "514/514 [==============================] - 0s 211us/step - loss: 0.5354 - accuracy: 0.7315 - val_loss: 0.5582 - val_accuracy: 0.7441\n",
      "Epoch 69/150\n",
      "514/514 [==============================] - 0s 215us/step - loss: 0.5297 - accuracy: 0.7296 - val_loss: 0.5480 - val_accuracy: 0.7362\n",
      "Epoch 70/150\n",
      "514/514 [==============================] - 0s 235us/step - loss: 0.5330 - accuracy: 0.7432 - val_loss: 0.5463 - val_accuracy: 0.7362\n",
      "Epoch 71/150\n",
      "514/514 [==============================] - 0s 219us/step - loss: 0.5298 - accuracy: 0.7568 - val_loss: 0.5508 - val_accuracy: 0.7402\n",
      "Epoch 72/150\n",
      "514/514 [==============================] - 0s 225us/step - loss: 0.5282 - accuracy: 0.7490 - val_loss: 0.5313 - val_accuracy: 0.7559\n",
      "Epoch 73/150\n",
      "514/514 [==============================] - 0s 225us/step - loss: 0.5364 - accuracy: 0.7276 - val_loss: 0.5359 - val_accuracy: 0.7323\n",
      "Epoch 74/150\n",
      "514/514 [==============================] - 0s 217us/step - loss: 0.5244 - accuracy: 0.7432 - val_loss: 0.5416 - val_accuracy: 0.7441\n",
      "Epoch 75/150\n",
      "514/514 [==============================] - 0s 200us/step - loss: 0.5269 - accuracy: 0.7471 - val_loss: 0.5373 - val_accuracy: 0.7559\n",
      "Epoch 76/150\n",
      "514/514 [==============================] - 0s 215us/step - loss: 0.5236 - accuracy: 0.7412 - val_loss: 0.5381 - val_accuracy: 0.7362\n",
      "Epoch 77/150\n",
      "514/514 [==============================] - 0s 204us/step - loss: 0.5260 - accuracy: 0.7529 - val_loss: 0.5320 - val_accuracy: 0.7480\n",
      "Epoch 78/150\n",
      "514/514 [==============================] - 0s 210us/step - loss: 0.5231 - accuracy: 0.7412 - val_loss: 0.5325 - val_accuracy: 0.7559\n",
      "Epoch 79/150\n",
      "514/514 [==============================] - 0s 217us/step - loss: 0.5340 - accuracy: 0.7490 - val_loss: 0.5372 - val_accuracy: 0.7480\n",
      "Epoch 80/150\n",
      "514/514 [==============================] - 0s 213us/step - loss: 0.5248 - accuracy: 0.7490 - val_loss: 0.5369 - val_accuracy: 0.7559\n",
      "Epoch 81/150\n",
      "514/514 [==============================] - 0s 206us/step - loss: 0.5355 - accuracy: 0.7490 - val_loss: 0.5290 - val_accuracy: 0.7677\n",
      "Epoch 82/150\n",
      "514/514 [==============================] - 0s 210us/step - loss: 0.5249 - accuracy: 0.7315 - val_loss: 0.5275 - val_accuracy: 0.7638\n",
      "Epoch 83/150\n",
      "514/514 [==============================] - 0s 217us/step - loss: 0.5192 - accuracy: 0.7257 - val_loss: 0.5334 - val_accuracy: 0.7362\n",
      "Epoch 84/150\n",
      "514/514 [==============================] - 0s 208us/step - loss: 0.5289 - accuracy: 0.7374 - val_loss: 0.5288 - val_accuracy: 0.7677\n",
      "Epoch 85/150\n",
      "514/514 [==============================] - 0s 211us/step - loss: 0.5249 - accuracy: 0.7510 - val_loss: 0.5325 - val_accuracy: 0.7480\n",
      "Epoch 86/150\n",
      "514/514 [==============================] - 0s 202us/step - loss: 0.5195 - accuracy: 0.7393 - val_loss: 0.5298 - val_accuracy: 0.7559\n",
      "Epoch 87/150\n",
      "514/514 [==============================] - 0s 210us/step - loss: 0.5193 - accuracy: 0.7529 - val_loss: 0.5247 - val_accuracy: 0.7598\n",
      "Epoch 88/150\n",
      "514/514 [==============================] - 0s 210us/step - loss: 0.5203 - accuracy: 0.7432 - val_loss: 0.5274 - val_accuracy: 0.7598\n",
      "Epoch 89/150\n",
      "514/514 [==============================] - 0s 208us/step - loss: 0.5179 - accuracy: 0.7374 - val_loss: 0.5278 - val_accuracy: 0.7480\n",
      "Epoch 90/150\n",
      "514/514 [==============================] - 0s 211us/step - loss: 0.5227 - accuracy: 0.7451 - val_loss: 0.5350 - val_accuracy: 0.7402\n",
      "Epoch 91/150\n",
      "514/514 [==============================] - 0s 208us/step - loss: 0.5237 - accuracy: 0.7296 - val_loss: 0.5336 - val_accuracy: 0.7480\n",
      "Epoch 92/150\n",
      "514/514 [==============================] - 0s 198us/step - loss: 0.5294 - accuracy: 0.7315 - val_loss: 0.5215 - val_accuracy: 0.7677\n",
      "Epoch 93/150\n",
      "514/514 [==============================] - 0s 200us/step - loss: 0.5190 - accuracy: 0.7510 - val_loss: 0.5251 - val_accuracy: 0.7520\n",
      "Epoch 94/150\n",
      "514/514 [==============================] - 0s 206us/step - loss: 0.5227 - accuracy: 0.7451 - val_loss: 0.5206 - val_accuracy: 0.7677\n",
      "Epoch 95/150\n",
      "514/514 [==============================] - 0s 233us/step - loss: 0.5212 - accuracy: 0.7646 - val_loss: 0.5417 - val_accuracy: 0.7323\n",
      "Epoch 96/150\n",
      "514/514 [==============================] - 0s 233us/step - loss: 0.5229 - accuracy: 0.7393 - val_loss: 0.5234 - val_accuracy: 0.7717\n",
      "Epoch 97/150\n",
      "514/514 [==============================] - 0s 272us/step - loss: 0.5198 - accuracy: 0.7432 - val_loss: 0.5196 - val_accuracy: 0.7717\n",
      "Epoch 98/150\n",
      "514/514 [==============================] - 0s 244us/step - loss: 0.5281 - accuracy: 0.7354 - val_loss: 0.5279 - val_accuracy: 0.7520\n",
      "Epoch 99/150\n",
      "514/514 [==============================] - 0s 211us/step - loss: 0.5264 - accuracy: 0.7393 - val_loss: 0.5317 - val_accuracy: 0.7598\n",
      "Epoch 100/150\n",
      "514/514 [==============================] - 0s 223us/step - loss: 0.5209 - accuracy: 0.7451 - val_loss: 0.5135 - val_accuracy: 0.7795\n",
      "Epoch 101/150\n",
      "514/514 [==============================] - 0s 206us/step - loss: 0.5182 - accuracy: 0.7510 - val_loss: 0.5250 - val_accuracy: 0.7402\n",
      "Epoch 102/150\n",
      "514/514 [==============================] - 0s 215us/step - loss: 0.5142 - accuracy: 0.7607 - val_loss: 0.5136 - val_accuracy: 0.7677\n",
      "Epoch 103/150\n",
      "514/514 [==============================] - 0s 217us/step - loss: 0.5230 - accuracy: 0.7412 - val_loss: 0.5268 - val_accuracy: 0.7520\n",
      "Epoch 104/150\n",
      "514/514 [==============================] - 0s 211us/step - loss: 0.5169 - accuracy: 0.7393 - val_loss: 0.5103 - val_accuracy: 0.7756\n",
      "Epoch 105/150\n",
      "514/514 [==============================] - 0s 215us/step - loss: 0.5148 - accuracy: 0.7568 - val_loss: 0.5181 - val_accuracy: 0.7677\n",
      "Epoch 106/150\n",
      "514/514 [==============================] - 0s 206us/step - loss: 0.5182 - accuracy: 0.7412 - val_loss: 0.5116 - val_accuracy: 0.7795\n",
      "Epoch 107/150\n",
      "514/514 [==============================] - 0s 204us/step - loss: 0.5156 - accuracy: 0.7393 - val_loss: 0.5364 - val_accuracy: 0.7402\n",
      "Epoch 108/150\n",
      "514/514 [==============================] - 0s 221us/step - loss: 0.5295 - accuracy: 0.7568 - val_loss: 0.5167 - val_accuracy: 0.7638\n",
      "Epoch 109/150\n",
      "514/514 [==============================] - 0s 215us/step - loss: 0.5163 - accuracy: 0.7568 - val_loss: 0.5102 - val_accuracy: 0.7874\n",
      "Epoch 110/150\n",
      "514/514 [==============================] - 0s 208us/step - loss: 0.5095 - accuracy: 0.7607 - val_loss: 0.5466 - val_accuracy: 0.7323\n",
      "Epoch 111/150\n",
      "514/514 [==============================] - 0s 204us/step - loss: 0.5284 - accuracy: 0.7471 - val_loss: 0.5155 - val_accuracy: 0.7677\n",
      "Epoch 112/150\n",
      "514/514 [==============================] - 0s 210us/step - loss: 0.5073 - accuracy: 0.7549 - val_loss: 0.5146 - val_accuracy: 0.7756\n",
      "Epoch 113/150\n"
     ]
    },
    {
     "name": "stdout",
     "output_type": "stream",
     "text": [
      "514/514 [==============================] - 0s 200us/step - loss: 0.5125 - accuracy: 0.7549 - val_loss: 0.5120 - val_accuracy: 0.7795\n",
      "Epoch 114/150\n",
      "514/514 [==============================] - 0s 219us/step - loss: 0.5075 - accuracy: 0.7529 - val_loss: 0.5143 - val_accuracy: 0.7756\n",
      "Epoch 115/150\n",
      "514/514 [==============================] - 0s 208us/step - loss: 0.5140 - accuracy: 0.7393 - val_loss: 0.5088 - val_accuracy: 0.7874\n",
      "Epoch 116/150\n",
      "514/514 [==============================] - 0s 198us/step - loss: 0.5108 - accuracy: 0.7568 - val_loss: 0.5072 - val_accuracy: 0.7756\n",
      "Epoch 117/150\n",
      "514/514 [==============================] - 0s 198us/step - loss: 0.5208 - accuracy: 0.7335 - val_loss: 0.5443 - val_accuracy: 0.7402\n",
      "Epoch 118/150\n",
      "514/514 [==============================] - 0s 202us/step - loss: 0.5102 - accuracy: 0.7510 - val_loss: 0.5055 - val_accuracy: 0.7795\n",
      "Epoch 119/150\n",
      "514/514 [==============================] - 0s 192us/step - loss: 0.5120 - accuracy: 0.7588 - val_loss: 0.5207 - val_accuracy: 0.7598\n",
      "Epoch 120/150\n",
      "514/514 [==============================] - 0s 281us/step - loss: 0.5080 - accuracy: 0.7335 - val_loss: 0.5126 - val_accuracy: 0.7756\n",
      "Epoch 121/150\n",
      "514/514 [==============================] - 0s 254us/step - loss: 0.5120 - accuracy: 0.7451 - val_loss: 0.5215 - val_accuracy: 0.7520\n",
      "Epoch 122/150\n",
      "514/514 [==============================] - 0s 250us/step - loss: 0.5140 - accuracy: 0.7432 - val_loss: 0.5110 - val_accuracy: 0.7795\n",
      "Epoch 123/150\n",
      "514/514 [==============================] - 0s 256us/step - loss: 0.5107 - accuracy: 0.7374 - val_loss: 0.5160 - val_accuracy: 0.7559\n",
      "Epoch 124/150\n",
      "514/514 [==============================] - 0s 260us/step - loss: 0.5083 - accuracy: 0.7451 - val_loss: 0.5100 - val_accuracy: 0.7677\n",
      "Epoch 125/150\n",
      "514/514 [==============================] - 0s 279us/step - loss: 0.5167 - accuracy: 0.7568 - val_loss: 0.5183 - val_accuracy: 0.7559\n",
      "Epoch 126/150\n",
      "514/514 [==============================] - 0s 270us/step - loss: 0.5109 - accuracy: 0.7432 - val_loss: 0.5104 - val_accuracy: 0.7717\n",
      "Epoch 127/150\n",
      "514/514 [==============================] - 0s 268us/step - loss: 0.5064 - accuracy: 0.7510 - val_loss: 0.5002 - val_accuracy: 0.7953\n",
      "Epoch 128/150\n",
      "514/514 [==============================] - 0s 297us/step - loss: 0.5027 - accuracy: 0.7685 - val_loss: 0.5038 - val_accuracy: 0.7559\n",
      "Epoch 129/150\n",
      "514/514 [==============================] - 0s 293us/step - loss: 0.5117 - accuracy: 0.7393 - val_loss: 0.5049 - val_accuracy: 0.7638\n",
      "Epoch 130/150\n",
      "514/514 [==============================] - 0s 244us/step - loss: 0.5063 - accuracy: 0.7568 - val_loss: 0.4965 - val_accuracy: 0.7992\n",
      "Epoch 131/150\n",
      "514/514 [==============================] - 0s 256us/step - loss: 0.5046 - accuracy: 0.7510 - val_loss: 0.5128 - val_accuracy: 0.7638\n",
      "Epoch 132/150\n",
      "514/514 [==============================] - 0s 307us/step - loss: 0.5092 - accuracy: 0.7490 - val_loss: 0.4979 - val_accuracy: 0.8031\n",
      "Epoch 133/150\n",
      "514/514 [==============================] - 0s 221us/step - loss: 0.5041 - accuracy: 0.7646 - val_loss: 0.5020 - val_accuracy: 0.7874\n",
      "Epoch 134/150\n",
      "514/514 [==============================] - 0s 211us/step - loss: 0.5015 - accuracy: 0.7568 - val_loss: 0.5034 - val_accuracy: 0.7638\n",
      "Epoch 135/150\n",
      "514/514 [==============================] - 0s 223us/step - loss: 0.5018 - accuracy: 0.7568 - val_loss: 0.4969 - val_accuracy: 0.7874\n",
      "Epoch 136/150\n",
      "514/514 [==============================] - 0s 204us/step - loss: 0.5051 - accuracy: 0.7451 - val_loss: 0.5003 - val_accuracy: 0.7795\n",
      "Epoch 137/150\n",
      "514/514 [==============================] - 0s 206us/step - loss: 0.5105 - accuracy: 0.7412 - val_loss: 0.5037 - val_accuracy: 0.7717\n",
      "Epoch 138/150\n",
      "514/514 [==============================] - 0s 215us/step - loss: 0.5019 - accuracy: 0.7529 - val_loss: 0.4953 - val_accuracy: 0.7913\n",
      "Epoch 139/150\n",
      "514/514 [==============================] - 0s 206us/step - loss: 0.5005 - accuracy: 0.7490 - val_loss: 0.4985 - val_accuracy: 0.7717\n",
      "Epoch 140/150\n",
      "514/514 [==============================] - 0s 211us/step - loss: 0.4971 - accuracy: 0.7451 - val_loss: 0.4949 - val_accuracy: 0.7913\n",
      "Epoch 141/150\n",
      "514/514 [==============================] - 0s 198us/step - loss: 0.5040 - accuracy: 0.7568 - val_loss: 0.4892 - val_accuracy: 0.7913\n",
      "Epoch 142/150\n",
      "514/514 [==============================] - 0s 252us/step - loss: 0.5020 - accuracy: 0.7510 - val_loss: 0.5016 - val_accuracy: 0.7677\n",
      "Epoch 143/150\n",
      "514/514 [==============================] - 0s 285us/step - loss: 0.5094 - accuracy: 0.7549 - val_loss: 0.4981 - val_accuracy: 0.7677\n",
      "Epoch 144/150\n",
      "514/514 [==============================] - 0s 281us/step - loss: 0.5152 - accuracy: 0.7529 - val_loss: 0.4995 - val_accuracy: 0.7835\n",
      "Epoch 145/150\n",
      "514/514 [==============================] - 0s 227us/step - loss: 0.5064 - accuracy: 0.7490 - val_loss: 0.4909 - val_accuracy: 0.7913\n",
      "Epoch 146/150\n",
      "514/514 [==============================] - 0s 231us/step - loss: 0.4993 - accuracy: 0.7393 - val_loss: 0.5061 - val_accuracy: 0.7795\n",
      "Epoch 147/150\n",
      "514/514 [==============================] - 0s 211us/step - loss: 0.4996 - accuracy: 0.7529 - val_loss: 0.4920 - val_accuracy: 0.7795\n",
      "Epoch 148/150\n",
      "514/514 [==============================] - 0s 200us/step - loss: 0.5050 - accuracy: 0.7490 - val_loss: 0.4922 - val_accuracy: 0.7638\n",
      "Epoch 149/150\n",
      "514/514 [==============================] - 0s 217us/step - loss: 0.4968 - accuracy: 0.7549 - val_loss: 0.4947 - val_accuracy: 0.7835\n",
      "Epoch 150/150\n",
      "514/514 [==============================] - 0s 206us/step - loss: 0.4945 - accuracy: 0.7607 - val_loss: 0.4935 - val_accuracy: 0.7913\n"
     ]
    },
    {
     "data": {
      "text/plain": [
       "<keras.callbacks.callbacks.History at 0x290bad224e0>"
      ]
     },
     "execution_count": 5,
     "metadata": {},
     "output_type": "execute_result"
    }
   ],
   "source": [
    "# Fit the model\n",
    "model.fit(X, Y, validation_split=0.33, nb_epoch=150, batch_size=10)"
   ]
  },
  {
   "cell_type": "code",
   "execution_count": 6,
   "metadata": {
    "ExecuteTime": {
     "end_time": "2020-11-15T12:00:46.010083Z",
     "start_time": "2020-11-15T12:00:45.974177Z"
    }
   },
   "outputs": [
    {
     "name": "stdout",
     "output_type": "stream",
     "text": [
      "768/768 [==============================] - 0s 31us/step\n",
      "accuracy: 76.82%\n"
     ]
    }
   ],
   "source": [
    "# evaluate the model\n",
    "scores = model.evaluate(X, Y)\n",
    "print(\"%s: %.2f%%\" % (model.metrics_names[1], scores[1]*100)) "
   ]
  },
  {
   "cell_type": "code",
   "execution_count": 7,
   "metadata": {
    "ExecuteTime": {
     "end_time": "2020-11-15T12:01:29.279162Z",
     "start_time": "2020-11-15T12:01:29.272180Z"
    }
   },
   "outputs": [
    {
     "data": {
      "text/plain": [
       "dict_keys(['val_loss', 'val_accuracy', 'loss', 'accuracy'])"
      ]
     },
     "execution_count": 7,
     "metadata": {},
     "output_type": "execute_result"
    }
   ],
   "source": [
    "# Visualize training history\n",
    "\n",
    "# list all data in history\n",
    "model.history.history.keys()\n"
   ]
  },
  {
   "cell_type": "code",
   "execution_count": 9,
   "metadata": {
    "ExecuteTime": {
     "end_time": "2020-11-15T12:02:58.275382Z",
     "start_time": "2020-11-15T12:02:57.630106Z"
    }
   },
   "outputs": [
    {
     "data": {
      "application/javascript": [
       "\n",
       "        if (window._pyforest_update_imports_cell) { window._pyforest_update_imports_cell('import matplotlib.pyplot as plt'); }\n",
       "    "
      ],
      "text/plain": [
       "<IPython.core.display.Javascript object>"
      ]
     },
     "metadata": {},
     "output_type": "display_data"
    },
    {
     "data": {
      "application/javascript": [
       "\n",
       "        if (window._pyforest_update_imports_cell) { window._pyforest_update_imports_cell('import matplotlib.pyplot as plt'); }\n",
       "    "
      ],
      "text/plain": [
       "<IPython.core.display.Javascript object>"
      ]
     },
     "metadata": {},
     "output_type": "display_data"
    },
    {
     "data": {
      "application/javascript": [
       "\n",
       "        if (window._pyforest_update_imports_cell) { window._pyforest_update_imports_cell('import matplotlib.pyplot as plt'); }\n",
       "    "
      ],
      "text/plain": [
       "<IPython.core.display.Javascript object>"
      ]
     },
     "metadata": {},
     "output_type": "display_data"
    },
    {
     "data": {
      "application/javascript": [
       "\n",
       "        if (window._pyforest_update_imports_cell) { window._pyforest_update_imports_cell('import matplotlib.pyplot as plt'); }\n",
       "    "
      ],
      "text/plain": [
       "<IPython.core.display.Javascript object>"
      ]
     },
     "metadata": {},
     "output_type": "display_data"
    },
    {
     "data": {
      "application/javascript": [
       "\n",
       "        if (window._pyforest_update_imports_cell) { window._pyforest_update_imports_cell('import matplotlib.pyplot as plt'); }\n",
       "    "
      ],
      "text/plain": [
       "<IPython.core.display.Javascript object>"
      ]
     },
     "metadata": {},
     "output_type": "display_data"
    },
    {
     "data": {
      "application/javascript": [
       "\n",
       "        if (window._pyforest_update_imports_cell) { window._pyforest_update_imports_cell('import matplotlib.pyplot as plt'); }\n",
       "    "
      ],
      "text/plain": [
       "<IPython.core.display.Javascript object>"
      ]
     },
     "metadata": {},
     "output_type": "display_data"
    },
    {
     "data": {
      "application/javascript": [
       "\n",
       "        if (window._pyforest_update_imports_cell) { window._pyforest_update_imports_cell('import matplotlib.pyplot as plt'); }\n",
       "    "
      ],
      "text/plain": [
       "<IPython.core.display.Javascript object>"
      ]
     },
     "metadata": {},
     "output_type": "display_data"
    },
    {
     "data": {
      "image/png": "[encoded data removed]",
      "text/plain": [
       "<Figure size 432x288 with 1 Axes>"
      ]
     },
     "metadata": {
      "needs_background": "light"
     },
     "output_type": "display_data"
    },
    {
     "data": {
      "application/javascript": [
       "\n",
       "        if (window._pyforest_update_imports_cell) { window._pyforest_update_imports_cell('import matplotlib.pyplot as plt'); }\n",
       "    "
      ],
      "text/plain": [
       "<IPython.core.display.Javascript object>"
      ]
     },
     "metadata": {},
     "output_type": "display_data"
    },
    {
     "data": {
      "application/javascript": [
       "\n",
       "        if (window._pyforest_update_imports_cell) { window._pyforest_update_imports_cell('import matplotlib.pyplot as plt'); }\n",
       "    "
      ],
      "text/plain": [
       "<IPython.core.display.Javascript object>"
      ]
     },
     "metadata": {},
     "output_type": "display_data"
    },
    {
     "data": {
      "application/javascript": [
       "\n",
       "        if (window._pyforest_update_imports_cell) { window._pyforest_update_imports_cell('import matplotlib.pyplot as plt'); }\n",
       "    "
      ],
      "text/plain": [
       "<IPython.core.display.Javascript object>"
      ]
     },
     "metadata": {},
     "output_type": "display_data"
    },
    {
     "data": {
      "application/javascript": [
       "\n",
       "        if (window._pyforest_update_imports_cell) { window._pyforest_update_imports_cell('import matplotlib.pyplot as plt'); }\n",
       "    "
      ],
      "text/plain": [
       "<IPython.core.display.Javascript object>"
      ]
     },
     "metadata": {},
     "output_type": "display_data"
    },
    {
     "data": {
      "application/javascript": [
       "\n",
       "        if (window._pyforest_update_imports_cell) { window._pyforest_update_imports_cell('import matplotlib.pyplot as plt'); }\n",
       "    "
      ],
      "text/plain": [
       "<IPython.core.display.Javascript object>"
      ]
     },
     "metadata": {},
     "output_type": "display_data"
    },
    {
     "data": {
      "application/javascript": [
       "\n",
       "        if (window._pyforest_update_imports_cell) { window._pyforest_update_imports_cell('import matplotlib.pyplot as plt'); }\n",
       "    "
      ],
      "text/plain": [
       "<IPython.core.display.Javascript object>"
      ]
     },
     "metadata": {},
     "output_type": "display_data"
    },
    {
     "data": {
      "application/javascript": [
       "\n",
       "        if (window._pyforest_update_imports_cell) { window._pyforest_update_imports_cell('import matplotlib.pyplot as plt'); }\n",
       "    "
      ],
      "text/plain": [
       "<IPython.core.display.Javascript object>"
      ]
     },
     "metadata": {},
     "output_type": "display_data"
    },
    {
     "data": {
      "image/png": "[encoded data removed]",
      "text/plain": [
       "<Figure size 432x288 with 1 Axes>"
      ]
     },
     "metadata": {
      "needs_background": "light"
     },
     "output_type": "display_data"
    }
   ],
   "source": [
    "# summarize history for accuracy\n",
    "plt.plot(model.history.history['accuracy'])\n",
    "plt.plot(model.history.history['val_accuracy'])\n",
    "plt.title('model accuracy')\n",
    "plt.ylabel('accuracy')\n",
    "plt.xlabel('epoch')\n",
    "plt.legend(['train', 'test'], loc='upper left')\n",
    "plt.show()\n",
    "# summarize history for loss\n",
    "plt.plot(model.history.history['loss'])\n",
    "plt.plot(model.history.history['val_loss'])\n",
    "plt.title('model loss') \n",
    "plt.ylabel('loss')\n",
    "plt.xlabel('epoch')\n",
    "plt.legend(['train', 'test'], loc='upper left')\n",
    "plt.show()\n"
   ]
  },
  {
   "cell_type": "code",
   "execution_count": null,
   "metadata": {},
   "outputs": [],
   "source": []
  }
 ],
 "metadata": {
  "kernelspec": {
   "display_name": "Python 3",
   "language": "python",
   "name": "python3"
  },
  "language_info": {
   "codemirror_mode": {
    "name": "ipython",
    "version": 3
   },
   "file_extension": ".py",
   "mimetype": "text/x-python",
   "name": "python",
   "nbconvert_exporter": "python",
   "pygments_lexer": "ipython3",
   "version": "3.7.3"
  },
  "varInspector": {
   "cols": {
    "lenName": 16,
    "lenType": 16,
    "lenVar": 40
   },
   "kernels_config": {
    "python": {
     "delete_cmd_postfix": "",
     "delete_cmd_prefix": "del ",
     "library": "var_list.py",
     "varRefreshCmd": "print(var_dic_list())"
    },
    "r": {
     "delete_cmd_postfix": ") ",
     "delete_cmd_prefix": "rm(",
     "library": "var_list.r",
     "varRefreshCmd": "cat(var_dic_list()) "
    }
   },
   "types_to_exclude": [
    "module",
    "function",
    "builtin_function_or_method",
    "instance",
    "_Feature"
   ],
   "window_display": false
  }
 },
 "nbformat": 4,
 "nbformat_minor": 2
}
