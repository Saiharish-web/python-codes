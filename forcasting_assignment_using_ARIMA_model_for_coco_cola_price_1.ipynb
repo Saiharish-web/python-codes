{
 "cells": [
  {
   "cell_type": "markdown",
   "metadata": {},
   "source": [
    "# using forecasting to prepare a best model \n",
    "** ARIMA model..to forecast the coco cola price "
   ]
  },
  {
   "cell_type": "code",
   "execution_count": 1,
   "metadata": {
    "ExecuteTime": {
     "end_time": "2021-01-22T03:44:05.322377Z",
     "start_time": "2021-01-22T03:43:41.171573Z"
    }
   },
   "outputs": [],
   "source": [
    "# Import libraries\n",
    "from numpy import sqrt\n",
    "import warnings\n",
    "import itertools\n",
    "import pandas as pd\n",
    "import numpy as np\n",
    "import matplotlib.pyplot as plt\n",
    "import statsmodels.api as sm  "
   ]
  },
  {
   "cell_type": "code",
   "execution_count": 2,
   "metadata": {
    "ExecuteTime": {
     "end_time": "2021-01-22T03:44:15.867996Z",
     "start_time": "2021-01-22T03:44:15.264879Z"
    }
   },
   "outputs": [],
   "source": [
    "coco =pd.read_excel('CocaCola_Sales_Rawdata (1).xlsx', header=0, index_col=0, parse_dates=True)   "
   ]
  },
  {
   "cell_type": "code",
   "execution_count": 3,
   "metadata": {
    "ExecuteTime": {
     "end_time": "2021-01-22T03:44:47.229689Z",
     "start_time": "2021-01-22T03:44:47.140822Z"
    }
   },
   "outputs": [
    {
     "data": {
      "text/html": [
       "<div>\n",
       "<style scoped>\n",
       "    .dataframe tbody tr th:only-of-type {\n",
       "        vertical-align: middle;\n",
       "    }\n",
       "\n",
       "    .dataframe tbody tr th {\n",
       "        vertical-align: top;\n",
       "    }\n",
       "\n",
       "    .dataframe thead th {\n",
       "        text-align: right;\n",
       "    }\n",
       "</style>\n",
       "<table border=\"1\" class=\"dataframe\">\n",
       "  <thead>\n",
       "    <tr style=\"text-align: right;\">\n",
       "      <th></th>\n",
       "      <th>Sales</th>\n",
       "    </tr>\n",
       "  </thead>\n",
       "  <tbody>\n",
       "    <tr>\n",
       "      <th>count</th>\n",
       "      <td>42.000000</td>\n",
       "    </tr>\n",
       "    <tr>\n",
       "      <th>mean</th>\n",
       "      <td>2994.353308</td>\n",
       "    </tr>\n",
       "    <tr>\n",
       "      <th>std</th>\n",
       "      <td>977.930896</td>\n",
       "    </tr>\n",
       "    <tr>\n",
       "      <th>min</th>\n",
       "      <td>1547.818996</td>\n",
       "    </tr>\n",
       "    <tr>\n",
       "      <th>25%</th>\n",
       "      <td>2159.714247</td>\n",
       "    </tr>\n",
       "    <tr>\n",
       "      <th>50%</th>\n",
       "      <td>2782.376999</td>\n",
       "    </tr>\n",
       "    <tr>\n",
       "      <th>75%</th>\n",
       "      <td>3609.250000</td>\n",
       "    </tr>\n",
       "    <tr>\n",
       "      <th>max</th>\n",
       "      <td>5253.000000</td>\n",
       "    </tr>\n",
       "  </tbody>\n",
       "</table>\n",
       "</div>"
      ],
      "text/plain": [
       "             Sales\n",
       "count    42.000000\n",
       "mean   2994.353308\n",
       "std     977.930896\n",
       "min    1547.818996\n",
       "25%    2159.714247\n",
       "50%    2782.376999\n",
       "75%    3609.250000\n",
       "max    5253.000000"
      ]
     },
     "execution_count": 3,
     "metadata": {},
     "output_type": "execute_result"
    }
   ],
   "source": [
    "coco.describe()"
   ]
  },
  {
   "cell_type": "code",
   "execution_count": 6,
   "metadata": {
    "ExecuteTime": {
     "end_time": "2021-01-20T06:53:06.652148Z",
     "start_time": "2021-01-20T06:53:06.637473Z"
    }
   },
   "outputs": [
    {
     "data": {
      "text/html": [
       "<div>\n",
       "<style scoped>\n",
       "    .dataframe tbody tr th:only-of-type {\n",
       "        vertical-align: middle;\n",
       "    }\n",
       "\n",
       "    .dataframe tbody tr th {\n",
       "        vertical-align: top;\n",
       "    }\n",
       "\n",
       "    .dataframe thead th {\n",
       "        text-align: right;\n",
       "    }\n",
       "</style>\n",
       "<table border=\"1\" class=\"dataframe\">\n",
       "  <thead>\n",
       "    <tr style=\"text-align: right;\">\n",
       "      <th></th>\n",
       "      <th>Sales</th>\n",
       "    </tr>\n",
       "    <tr>\n",
       "      <th>Quarter</th>\n",
       "      <th></th>\n",
       "    </tr>\n",
       "  </thead>\n",
       "  <tbody>\n",
       "    <tr>\n",
       "      <th>Q1_86</th>\n",
       "      <td>1734.827000</td>\n",
       "    </tr>\n",
       "    <tr>\n",
       "      <th>Q2_86</th>\n",
       "      <td>2244.960999</td>\n",
       "    </tr>\n",
       "    <tr>\n",
       "      <th>Q3_86</th>\n",
       "      <td>2533.804993</td>\n",
       "    </tr>\n",
       "    <tr>\n",
       "      <th>Q4_86</th>\n",
       "      <td>2154.962997</td>\n",
       "    </tr>\n",
       "    <tr>\n",
       "      <th>Q1_87</th>\n",
       "      <td>1547.818996</td>\n",
       "    </tr>\n",
       "  </tbody>\n",
       "</table>\n",
       "</div>"
      ],
      "text/plain": [
       "               Sales\n",
       "Quarter             \n",
       "Q1_86    1734.827000\n",
       "Q2_86    2244.960999\n",
       "Q3_86    2533.804993\n",
       "Q4_86    2154.962997\n",
       "Q1_87    1547.818996"
      ]
     },
     "execution_count": 6,
     "metadata": {},
     "output_type": "execute_result"
    }
   ],
   "source": [
    "coco.head()"
   ]
  },
  {
   "cell_type": "code",
   "execution_count": 7,
   "metadata": {
    "ExecuteTime": {
     "end_time": "2021-01-20T06:53:11.997492Z",
     "start_time": "2021-01-20T06:53:11.847120Z"
    }
   },
   "outputs": [
    {
     "data": {
      "image/png": "[encoded data removed]",
      "text/plain": [
       "<Figure size 432x288 with 1 Axes>"
      ]
     },
     "metadata": {
      "needs_background": "light"
     },
     "output_type": "display_data"
    }
   ],
   "source": [
    "# line plot of time series\n",
    "coco.plot()\n",
    "plt.show()  "
   ]
  },
  {
   "cell_type": "code",
   "execution_count": 8,
   "metadata": {
    "ExecuteTime": {
     "end_time": "2021-01-20T06:53:35.025130Z",
     "start_time": "2021-01-20T06:53:34.859427Z"
    }
   },
   "outputs": [
    {
     "data": {
      "text/plain": [
       "array([[<matplotlib.axes._subplots.AxesSubplot object at 0x00000179EC0445E0>]],\n",
       "      dtype=object)"
      ]
     },
     "execution_count": 8,
     "metadata": {},
     "output_type": "execute_result"
    },
    {
     "data": {
      "image/png": "[encoded data removed]",
      "text/plain": [
       "<Figure size 432x288 with 1 Axes>"
      ]
     },
     "metadata": {
      "needs_background": "light"
     },
     "output_type": "display_data"
    }
   ],
   "source": [
    "coco.hist()  "
   ]
  },
  {
   "cell_type": "code",
   "execution_count": 9,
   "metadata": {
    "ExecuteTime": {
     "end_time": "2021-01-20T06:54:31.563572Z",
     "start_time": "2021-01-20T06:54:31.320986Z"
    }
   },
   "outputs": [
    {
     "data": {
      "text/plain": [
       "<matplotlib.axes._subplots.AxesSubplot at 0x179ec9396a0>"
      ]
     },
     "execution_count": 9,
     "metadata": {},
     "output_type": "execute_result"
    },
    {
     "data": {
      "image/png": "[encoded data removed]",
      "text/plain": [
       "<Figure size 432x288 with 1 Axes>"
      ]
     },
     "metadata": {
      "needs_background": "light"
     },
     "output_type": "display_data"
    }
   ],
   "source": [
    "coco.plot(kind='kde')  "
   ]
  },
  {
   "cell_type": "code",
   "execution_count": 12,
   "metadata": {
    "ExecuteTime": {
     "end_time": "2021-01-20T06:57:38.505888Z",
     "start_time": "2021-01-20T06:57:38.345803Z"
    }
   },
   "outputs": [
    {
     "name": "stdout",
     "output_type": "stream",
     "text": [
      "Dataset 32, Validation 10\n"
     ]
    }
   ],
   "source": [
    "# separate out a validation dataset\n",
    "split_point = len(coco) - 10\n",
    "dataset, validation = coco[0:split_point], coco[split_point:]\n",
    "print('Dataset %d, Validation %d' % (len(dataset), len(validation)))\n",
    "dataset.to_csv('dataset.csv', header=False)\n",
    "validation.to_csv('validation.csv', header=False)  "
   ]
  },
  {
   "cell_type": "code",
   "execution_count": 13,
   "metadata": {
    "ExecuteTime": {
     "end_time": "2021-01-20T06:58:10.239669Z",
     "start_time": "2021-01-20T06:58:10.142661Z"
    }
   },
   "outputs": [],
   "source": [
    "# evaluate a persistence model\n",
    "from sklearn.metrics import mean_squared_error\n",
    "from math import sqrt\n",
    "# load data\n",
    "train =pd.read_csv('dataset.csv', header=None, index_col=0, parse_dates=True, squeeze=True)\n"
   ]
  },
  {
   "cell_type": "code",
   "execution_count": 14,
   "metadata": {
    "ExecuteTime": {
     "end_time": "2021-01-20T06:58:20.961823Z",
     "start_time": "2021-01-20T06:58:20.946765Z"
    }
   },
   "outputs": [
    {
     "data": {
      "text/plain": [
       "0\n",
       "Q1_86    1734.827000\n",
       "Q2_86    2244.960999\n",
       "Q3_86    2533.804993\n",
       "Q4_86    2154.962997\n",
       "Q1_87    1547.818996\n",
       "Q2_87    2104.411995\n",
       "Q3_87    2014.362999\n",
       "Q4_87    1991.746998\n",
       "Q1_88    1869.049999\n",
       "Q2_88    2313.631996\n",
       "Q3_88    2128.320000\n",
       "Q4_88    2026.828999\n",
       "Q1_89    1910.603996\n",
       "Q2_89    2331.164993\n",
       "Q3_89    2206.549995\n",
       "Q4_89    2173.967995\n",
       "Q1_90    2148.278000\n",
       "Q2_90    2739.307999\n",
       "Q3_90    2792.753998\n",
       "Q4_90    2556.009995\n",
       "Q1_91    2480.973999\n",
       "Q2_91    3039.522995\n",
       "Q3_91    3172.115997\n",
       "Q4_91    2879.000999\n",
       "Q1_92    2772.000000\n",
       "Q2_92    3550.000000\n",
       "Q3_92    3508.000000\n",
       "Q4_92    3243.859993\n",
       "Q1_93    3056.000000\n",
       "Q2_93    3899.000000\n",
       "Q3_93    3629.000000\n",
       "Q4_93    3373.000000\n",
       "Name: 1, dtype: float64"
      ]
     },
     "execution_count": 14,
     "metadata": {},
     "output_type": "execute_result"
    }
   ],
   "source": [
    "train"
   ]
  },
  {
   "cell_type": "code",
   "execution_count": 15,
   "metadata": {
    "ExecuteTime": {
     "end_time": "2021-01-20T07:00:07.307056Z",
     "start_time": "2021-01-20T07:00:07.286115Z"
    }
   },
   "outputs": [],
   "source": [
    "# prepare data\n",
    "X = train.values\n",
    "X = X.astype('float32')\n",
    "train_size = int(len(X) * 0.50)\n",
    "train, test = X[0:train_size], X[train_size:]  \n"
   ]
  },
  {
   "cell_type": "code",
   "execution_count": 16,
   "metadata": {
    "ExecuteTime": {
     "end_time": "2021-01-20T07:00:49.538701Z",
     "start_time": "2021-01-20T07:00:49.518878Z"
    }
   },
   "outputs": [
    {
     "name": "stdout",
     "output_type": "stream",
     "text": [
      ">Predicted=2173.968, Expected=2148.278\n",
      ">Predicted=2148.278, Expected=2739.308\n",
      ">Predicted=2739.308, Expected=2792.754\n",
      ">Predicted=2792.754, Expected=2556.010\n",
      ">Predicted=2556.010, Expected=2480.974\n",
      ">Predicted=2480.974, Expected=3039.523\n",
      ">Predicted=3039.523, Expected=3172.116\n",
      ">Predicted=3172.116, Expected=2879.001\n",
      ">Predicted=2879.001, Expected=2772.000\n",
      ">Predicted=2772.000, Expected=3550.000\n",
      ">Predicted=3550.000, Expected=3508.000\n",
      ">Predicted=3508.000, Expected=3243.860\n",
      ">Predicted=3243.860, Expected=3056.000\n",
      ">Predicted=3056.000, Expected=3899.000\n",
      ">Predicted=3899.000, Expected=3629.000\n",
      ">Predicted=3629.000, Expected=3373.000\n",
      "RMSE: 387.510\n"
     ]
    }
   ],
   "source": [
    "# walk-forward validation\n",
    "history = [x for x in train]\n",
    "predictions = list()\n",
    "for i in range(len(test)):\n",
    "    yhat = history[-1]\n",
    "    predictions.append(yhat)\n",
    "# observation\n",
    "    obs = test[i]\n",
    "    history.append(obs)\n",
    "    print('>Predicted=%.3f, Expected=%.3f' % (yhat, obs))\n",
    "# report performance\n",
    "rmse = sqrt(mean_squared_error(test, predictions))\n",
    "print('RMSE: %.3f' % rmse) "
   ]
  },
  {
   "cell_type": "code",
   "execution_count": 17,
   "metadata": {
    "ExecuteTime": {
     "end_time": "2021-01-20T07:02:39.200191Z",
     "start_time": "2021-01-20T07:02:39.177212Z"
    }
   },
   "outputs": [],
   "source": [
    "# grid search ARIMA parameters for a time series\n",
    "\n",
    "from statsmodels.tsa.arima_model import ARIMA\n",
    "from sklearn.metrics import mean_squared_error\n",
    "from math import sqrt\n",
    "\n",
    "\n",
    "# evaluate an ARIMA model for a given order (p,d,q) and return RMSE\n",
    "def evaluate_arima_model(X, arima_order):\n",
    "# prepare training dataset\n",
    "    X = X.astype('float32')\n",
    "    train_size = int(len(X) * 0.50)\n",
    "    train, test = X[0:train_size], X[train_size:]\n",
    "    history = [x for x in train]\n",
    "# make predictions\n",
    "    predictions = list()\n",
    "    for t in range(len(test)):\n",
    "        model = ARIMA(history, order=arima_order)\n",
    "# model_fit = model.fit(disp=0)\n",
    "        model_fit = model.fit(disp=0)\n",
    "        yhat = model_fit.forecast()[0]\n",
    "        predictions.append(yhat)\n",
    "        history.append(test[t])\n",
    "# calculate out of sample error\n",
    "    rmse = sqrt(mean_squared_error(test, predictions))\n",
    "    return rmse  "
   ]
  },
  {
   "cell_type": "code",
   "execution_count": 18,
   "metadata": {
    "ExecuteTime": {
     "end_time": "2021-01-20T07:03:01.803554Z",
     "start_time": "2021-01-20T07:03:01.793518Z"
    }
   },
   "outputs": [],
   "source": [
    "# evaluate combinations of p, d and q values for an ARIMA model\n",
    "def evaluate_models(dataset, p_values, d_values, q_values):\n",
    "    dataset = dataset.astype('float32')\n",
    "    best_score, best_cfg = float('inf'), None\n",
    "    for p in p_values:\n",
    "        for d in d_values:\n",
    "            for q in q_values:\n",
    "                order = (p,d,q)\n",
    "                try:\n",
    "                    rmse = evaluate_arima_model(train, order)\n",
    "                    if rmse < best_score:\n",
    "                        best_score, best_cfg = rmse, order\n",
    "                    print('ARIMA%s RMSE=%.3f' % (order,rmse))\n",
    "                except:\n",
    "                    continue\n",
    "    print('Best ARIMA%s RMSE=%.3f' % (best_cfg, best_score))  "
   ]
  },
  {
   "cell_type": "code",
   "execution_count": 20,
   "metadata": {
    "ExecuteTime": {
     "end_time": "2021-01-20T07:03:27.107249Z",
     "start_time": "2021-01-20T07:03:24.330851Z"
    }
   },
   "outputs": [
    {
     "name": "stdout",
     "output_type": "stream",
     "text": [
      "ARIMA(0, 0, 0) RMSE=840.936\n",
      "ARIMA(0, 0, 1) RMSE=617.895\n",
      "ARIMA(0, 1, 0) RMSE=389.741\n",
      "ARIMA(0, 1, 1) RMSE=396.141\n",
      "ARIMA(1, 0, 0) RMSE=470.347\n",
      "ARIMA(1, 1, 0) RMSE=387.221\n",
      "Best ARIMA(1, 1, 0) RMSE=387.221\n"
     ]
    }
   ],
   "source": [
    "# load dataset\n",
    "train = pd.read_csv('dataset.csv', header=None, index_col=0, parse_dates=True, squeeze=True)\n",
    "# evaluate parameters\n",
    "p_values = range(0, 2)\n",
    "d_values = range(0, 2)\n",
    "q_values = range(0, 2)\n",
    "warnings.filterwarnings(\"ignore\")\n",
    "evaluate_models(train.values, p_values, d_values, q_values)   "
   ]
  },
  {
   "cell_type": "code",
   "execution_count": 21,
   "metadata": {
    "ExecuteTime": {
     "end_time": "2021-01-20T07:03:47.326329Z",
     "start_time": "2021-01-20T07:03:47.307380Z"
    }
   },
   "outputs": [],
   "source": [
    "# save finalized model to file\n",
    "from pandas import read_csv\n",
    "from statsmodels.tsa.arima_model import ARIMA\n",
    "import numpy "
   ]
  },
  {
   "cell_type": "code",
   "execution_count": 22,
   "metadata": {
    "ExecuteTime": {
     "end_time": "2021-01-20T07:04:13.683448Z",
     "start_time": "2021-01-20T07:04:13.673419Z"
    }
   },
   "outputs": [],
   "source": [
    "# load data\n",
    "train = pd.read_csv('dataset.csv', header=0, index_col=0, parse_dates=True)\n",
    "# prepare data\n",
    "X = train.values\n",
    "X = X.astype('float32') "
   ]
  },
  {
   "cell_type": "code",
   "execution_count": 23,
   "metadata": {
    "ExecuteTime": {
     "end_time": "2021-01-20T07:04:38.069237Z",
     "start_time": "2021-01-20T07:04:37.743875Z"
    }
   },
   "outputs": [
    {
     "data": {
      "image/png": "[encoded data removed]",
      "text/plain": [
       "<Figure size 432x288 with 1 Axes>"
      ]
     },
     "execution_count": 23,
     "metadata": {},
     "output_type": "execute_result"
    },
    {
     "data": {
      "image/png": "[encoded data removed]",
      "text/plain": [
       "<Figure size 432x288 with 1 Axes>"
      ]
     },
     "metadata": {
      "needs_background": "light"
     },
     "output_type": "display_data"
    }
   ],
   "source": [
    "# fit model\n",
    "model = ARIMA(X, order=(1,1,0))\n",
    "model_fit = model.fit()\n",
    "forecast=model_fit.forecast(steps=10)[0]\n",
    "model_fit.plot_predict(1, 79) "
   ]
  },
  {
   "cell_type": "code",
   "execution_count": 24,
   "metadata": {
    "ExecuteTime": {
     "end_time": "2021-01-20T07:05:29.019607Z",
     "start_time": "2021-01-20T07:05:29.002739Z"
    }
   },
   "outputs": [
    {
     "data": {
      "text/plain": [
       "869.002768678593"
      ]
     },
     "execution_count": 24,
     "metadata": {},
     "output_type": "execute_result"
    }
   ],
   "source": [
    "#Error on the test data\n",
    "val=pd.read_csv('validation.csv',header=None)\n",
    "rmse = sqrt(mean_squared_error(val[1], forecast))\n",
    "rmse "
   ]
  },
  {
   "cell_type": "code",
   "execution_count": 26,
   "metadata": {
    "ExecuteTime": {
     "end_time": "2021-01-20T07:06:15.854167Z",
     "start_time": "2021-01-20T07:06:15.832654Z"
    }
   },
   "outputs": [],
   "source": [
    "# fit model\n",
    "data = pd.read_excel('CocaCola_Sales_Rawdata (1).xlsx', header=0, index_col=0, parse_dates=True)\n",
    "# prepare data\n",
    "X = train.values\n",
    "X = X.astype('float32') "
   ]
  },
  {
   "cell_type": "code",
   "execution_count": 27,
   "metadata": {
    "ExecuteTime": {
     "end_time": "2021-01-20T07:06:46.768359Z",
     "start_time": "2021-01-20T07:06:46.713218Z"
    }
   },
   "outputs": [],
   "source": [
    "model = ARIMA(X, order=(1,1,0))\n",
    "model_fit = model.fit() "
   ]
  },
  {
   "cell_type": "code",
   "execution_count": 28,
   "metadata": {
    "ExecuteTime": {
     "end_time": "2021-01-20T07:07:00.783502Z",
     "start_time": "2021-01-20T07:07:00.412923Z"
    }
   },
   "outputs": [
    {
     "data": {
      "image/png": "[encoded data removed]",
      "text/plain": [
       "<Figure size 432x288 with 1 Axes>"
      ]
     },
     "execution_count": 28,
     "metadata": {},
     "output_type": "execute_result"
    },
    {
     "data": {
      "image/png": "[encoded data removed]",
      "text/plain": [
       "<Figure size 432x288 with 1 Axes>"
      ]
     },
     "metadata": {
      "needs_background": "light"
     },
     "output_type": "display_data"
    }
   ],
   "source": [
    "forecast=model_fit.forecast(steps=10)[0]\n",
    "model_fit.plot_predict(1,80) "
   ]
  },
  {
   "cell_type": "code",
   "execution_count": 29,
   "metadata": {
    "ExecuteTime": {
     "end_time": "2021-01-20T07:07:10.464975Z",
     "start_time": "2021-01-20T07:07:10.446909Z"
    }
   },
   "outputs": [
    {
     "data": {
      "text/plain": [
       "array([3476.84897776, 3499.89493489, 3541.08497063, 3578.20080734,\n",
       "       3616.23149335, 3654.05675267, 3691.92813994, 3729.78916932,\n",
       "       3767.65252453, 3805.51535748])"
      ]
     },
     "execution_count": 29,
     "metadata": {},
     "output_type": "execute_result"
    }
   ],
   "source": [
    "forecast "
   ]
  },
  {
   "cell_type": "code",
   "execution_count": null,
   "metadata": {},
   "outputs": [],
   "source": []
  }
 ],
 "metadata": {
  "kernelspec": {
   "display_name": "Python 3",
   "language": "python",
   "name": "python3"
  },
  "language_info": {
   "codemirror_mode": {
    "name": "ipython",
    "version": 3
   },
   "file_extension": ".py",
   "mimetype": "text/x-python",
   "name": "python",
   "nbconvert_exporter": "python",
   "pygments_lexer": "ipython3",
   "version": "3.8.3"
  },
  "varInspector": {
   "cols": {
    "lenName": 16,
    "lenType": 16,
    "lenVar": 40
   },
   "kernels_config": {
    "python": {
     "delete_cmd_postfix": "",
     "delete_cmd_prefix": "del ",
     "library": "var_list.py",
     "varRefreshCmd": "print(var_dic_list())"
    },
    "r": {
     "delete_cmd_postfix": ") ",
     "delete_cmd_prefix": "rm(",
     "library": "var_list.r",
     "varRefreshCmd": "cat(var_dic_list()) "
    }
   },
   "types_to_exclude": [
    "module",
    "function",
    "builtin_function_or_method",
    "instance",
    "_Feature"
   ],
   "window_display": false
  }
 },
 "nbformat": 4,
 "nbformat_minor": 4
}
